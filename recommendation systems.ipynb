{
 "cells": [
  {
   "cell_type": "markdown",
   "metadata": {},
   "source": [
    "### 1.Import and read the data"
   ]
  },
  {
   "cell_type": "code",
   "execution_count": 1,
   "metadata": {},
   "outputs": [
    {
     "data": {
      "text/html": [
       "<div>\n",
       "<style scoped>\n",
       "    .dataframe tbody tr th:only-of-type {\n",
       "        vertical-align: middle;\n",
       "    }\n",
       "\n",
       "    .dataframe tbody tr th {\n",
       "        vertical-align: top;\n",
       "    }\n",
       "\n",
       "    .dataframe thead th {\n",
       "        text-align: right;\n",
       "    }\n",
       "</style>\n",
       "<table border=\"1\" class=\"dataframe\">\n",
       "  <thead>\n",
       "    <tr style=\"text-align: right;\">\n",
       "      <th></th>\n",
       "      <th>beer_beerid</th>\n",
       "      <th>review_profilename</th>\n",
       "      <th>review_overall</th>\n",
       "    </tr>\n",
       "  </thead>\n",
       "  <tbody>\n",
       "    <tr>\n",
       "      <th>0</th>\n",
       "      <td>48215</td>\n",
       "      <td>stcules</td>\n",
       "      <td>3.0</td>\n",
       "    </tr>\n",
       "    <tr>\n",
       "      <th>1</th>\n",
       "      <td>52159</td>\n",
       "      <td>oline73</td>\n",
       "      <td>3.0</td>\n",
       "    </tr>\n",
       "    <tr>\n",
       "      <th>2</th>\n",
       "      <td>52159</td>\n",
       "      <td>alpinebryant</td>\n",
       "      <td>3.0</td>\n",
       "    </tr>\n",
       "    <tr>\n",
       "      <th>3</th>\n",
       "      <td>52159</td>\n",
       "      <td>rawthar</td>\n",
       "      <td>4.0</td>\n",
       "    </tr>\n",
       "    <tr>\n",
       "      <th>4</th>\n",
       "      <td>52159</td>\n",
       "      <td>RangerClegg</td>\n",
       "      <td>3.5</td>\n",
       "    </tr>\n",
       "  </tbody>\n",
       "</table>\n",
       "</div>"
      ],
      "text/plain": [
       "   beer_beerid review_profilename  review_overall\n",
       "0        48215            stcules             3.0\n",
       "1        52159            oline73             3.0\n",
       "2        52159       alpinebryant             3.0\n",
       "3        52159            rawthar             4.0\n",
       "4        52159        RangerClegg             3.5"
      ]
     },
     "execution_count": 1,
     "metadata": {},
     "output_type": "execute_result"
    }
   ],
   "source": [
    "import warnings\n",
    "warnings.filterwarnings('ignore')\n",
    "import pandas as pd\n",
    "import numpy as np\n",
    "import seaborn as sns\n",
    "import matplotlib.pyplot as plt\n",
    "df=pd.read_csv(r\"C:\\Users\\Administrator\\Downloads\\beer_data.csv\")\n",
    "df.head()"
   ]
  },
  {
   "cell_type": "code",
   "execution_count": 2,
   "metadata": {},
   "outputs": [
    {
     "data": {
      "text/plain": [
       "['beer_beerid', 'review_profilename', 'review_overall']"
      ]
     },
     "execution_count": 2,
     "metadata": {},
     "output_type": "execute_result"
    }
   ],
   "source": [
    "df.columns.tolist()"
   ]
  },
  {
   "cell_type": "code",
   "execution_count": 3,
   "metadata": {},
   "outputs": [
    {
     "data": {
      "text/plain": [
       "(475984, 3)"
      ]
     },
     "execution_count": 3,
     "metadata": {},
     "output_type": "execute_result"
    }
   ],
   "source": [
    "# cheking for the number of rows and columns in the given data\n",
    "df.shape"
   ]
  },
  {
   "cell_type": "code",
   "execution_count": 4,
   "metadata": {},
   "outputs": [
    {
     "data": {
      "text/html": [
       "<div>\n",
       "<style scoped>\n",
       "    .dataframe tbody tr th:only-of-type {\n",
       "        vertical-align: middle;\n",
       "    }\n",
       "\n",
       "    .dataframe tbody tr th {\n",
       "        vertical-align: top;\n",
       "    }\n",
       "\n",
       "    .dataframe thead th {\n",
       "        text-align: right;\n",
       "    }\n",
       "</style>\n",
       "<table border=\"1\" class=\"dataframe\">\n",
       "  <thead>\n",
       "    <tr style=\"text-align: right;\">\n",
       "      <th></th>\n",
       "      <th>beer_beerid</th>\n",
       "      <th>review_overall</th>\n",
       "    </tr>\n",
       "  </thead>\n",
       "  <tbody>\n",
       "    <tr>\n",
       "      <th>count</th>\n",
       "      <td>475984.000000</td>\n",
       "      <td>475984.000000</td>\n",
       "    </tr>\n",
       "    <tr>\n",
       "      <th>mean</th>\n",
       "      <td>21660.550611</td>\n",
       "      <td>3.814827</td>\n",
       "    </tr>\n",
       "    <tr>\n",
       "      <th>std</th>\n",
       "      <td>21793.437326</td>\n",
       "      <td>0.720411</td>\n",
       "    </tr>\n",
       "    <tr>\n",
       "      <th>min</th>\n",
       "      <td>3.000000</td>\n",
       "      <td>0.000000</td>\n",
       "    </tr>\n",
       "    <tr>\n",
       "      <th>25%</th>\n",
       "      <td>1716.000000</td>\n",
       "      <td>3.500000</td>\n",
       "    </tr>\n",
       "    <tr>\n",
       "      <th>50%</th>\n",
       "      <td>13892.000000</td>\n",
       "      <td>4.000000</td>\n",
       "    </tr>\n",
       "    <tr>\n",
       "      <th>75%</th>\n",
       "      <td>39397.000000</td>\n",
       "      <td>4.500000</td>\n",
       "    </tr>\n",
       "    <tr>\n",
       "      <th>max</th>\n",
       "      <td>77317.000000</td>\n",
       "      <td>5.000000</td>\n",
       "    </tr>\n",
       "  </tbody>\n",
       "</table>\n",
       "</div>"
      ],
      "text/plain": [
       "         beer_beerid  review_overall\n",
       "count  475984.000000   475984.000000\n",
       "mean    21660.550611        3.814827\n",
       "std     21793.437326        0.720411\n",
       "min         3.000000        0.000000\n",
       "25%      1716.000000        3.500000\n",
       "50%     13892.000000        4.000000\n",
       "75%     39397.000000        4.500000\n",
       "max     77317.000000        5.000000"
      ]
     },
     "execution_count": 4,
     "metadata": {},
     "output_type": "execute_result"
    }
   ],
   "source": [
    "df.describe()"
   ]
  },
  {
   "cell_type": "code",
   "execution_count": 5,
   "metadata": {},
   "outputs": [
    {
     "name": "stdout",
     "output_type": "stream",
     "text": [
      "<class 'pandas.core.frame.DataFrame'>\n",
      "RangeIndex: 475984 entries, 0 to 475983\n",
      "Data columns (total 3 columns):\n",
      " #   Column              Non-Null Count   Dtype  \n",
      "---  ------              --------------   -----  \n",
      " 0   beer_beerid         475984 non-null  int64  \n",
      " 1   review_profilename  475884 non-null  object \n",
      " 2   review_overall      475984 non-null  float64\n",
      "dtypes: float64(1), int64(1), object(1)\n",
      "memory usage: 9.1+ MB\n"
     ]
    }
   ],
   "source": [
    "# Cheking for the datatypes, memory usage etc.,\n",
    "df.info()"
   ]
  },
  {
   "cell_type": "code",
   "execution_count": 6,
   "metadata": {},
   "outputs": [
    {
     "name": "stdout",
     "output_type": "stream",
     "text": [
      "2093     987\n",
      "412      976\n",
      "1904     905\n",
      "1093     848\n",
      "92       818\n",
      "        ... \n",
      "61034      1\n",
      "50799      1\n",
      "26235      1\n",
      "18047      1\n",
      "65696      1\n",
      "Name: beer_beerid, Length: 40308, dtype: int64\n",
      "northyorksammy    1846\n",
      "mikesgroove       1379\n",
      "BuckeyeNation     1338\n",
      "Thorpe429         1072\n",
      "ChainGangGuy      1046\n",
      "                  ... \n",
      "Wyrdbrew             1\n",
      "Skeeter206           1\n",
      "bartmon              1\n",
      "briankrespan         1\n",
      "Scrancy              1\n",
      "Name: review_profilename, Length: 22497, dtype: int64\n",
      "4.0    174804\n",
      "4.5     97349\n",
      "3.5     90804\n",
      "3.0     49523\n",
      "5.0     27176\n",
      "2.5     17601\n",
      "2.0     11615\n",
      "1.5      3817\n",
      "1.0      3289\n",
      "0.0         6\n",
      "Name: review_overall, dtype: int64\n"
     ]
    }
   ],
   "source": [
    "# Checking the value counts of all the columns...\n",
    "for i in df.columns:\n",
    "    print(df[i].value_counts())"
   ]
  },
  {
   "cell_type": "code",
   "execution_count": 7,
   "metadata": {},
   "outputs": [
    {
     "data": {
      "text/plain": [
       "<matplotlib.axes._subplots.AxesSubplot at 0x91d6b70>"
      ]
     },
     "execution_count": 7,
     "metadata": {},
     "output_type": "execute_result"
    },
    {
     "data": {
      "image/png": "[encoded data removed]",
      "text/plain": [
       "<Figure size 432x216 with 2 Axes>"
      ]
     },
     "metadata": {
      "needs_background": "light"
     },
     "output_type": "display_data"
    }
   ],
   "source": [
    "# correlation map\n",
    "plt.figure(figsize=(6,3))\n",
    "df.corr()\n",
    "sns.heatmap(df.corr(),annot=True)"
   ]
  },
  {
   "cell_type": "code",
   "execution_count": 8,
   "metadata": {},
   "outputs": [
    {
     "data": {
      "text/plain": [
       "beer_beerid           0.00\n",
       "review_profilename    0.02\n",
       "review_overall        0.00\n",
       "dtype: float64"
      ]
     },
     "execution_count": 8,
     "metadata": {},
     "output_type": "execute_result"
    }
   ],
   "source": [
    "# Checking the percentage of missing values\n",
    "round(100*(df.isnull().sum()/len(df.index)), 2)"
   ]
  },
  {
   "cell_type": "code",
   "execution_count": 9,
   "metadata": {},
   "outputs": [],
   "source": [
    "# Dropping the null values from dataframe\n",
    "df = df.dropna()"
   ]
  },
  {
   "cell_type": "code",
   "execution_count": 10,
   "metadata": {},
   "outputs": [
    {
     "data": {
      "text/plain": [
       "beer_beerid           0.0\n",
       "review_profilename    0.0\n",
       "review_overall        0.0\n",
       "dtype: float64"
      ]
     },
     "execution_count": 10,
     "metadata": {},
     "output_type": "execute_result"
    }
   ],
   "source": [
    "# Checking the percentage of missing values\n",
    "round(100*(df.isnull().sum()/len(df.index)), 2)"
   ]
  },
  {
   "cell_type": "code",
   "execution_count": 11,
   "metadata": {},
   "outputs": [
    {
     "data": {
      "text/plain": [
       "1422"
      ]
     },
     "execution_count": 11,
     "metadata": {},
     "output_type": "execute_result"
    }
   ],
   "source": [
    "#Checking duplicates on two cloumns\n",
    "df.duplicated(['beer_beerid','review_profilename']).sum()"
   ]
  },
  {
   "cell_type": "code",
   "execution_count": 12,
   "metadata": {},
   "outputs": [],
   "source": [
    "# Dropping Duplicates\n",
    "df = df.drop_duplicates(['beer_beerid','review_profilename'],keep='first')"
   ]
  },
  {
   "cell_type": "code",
   "execution_count": 13,
   "metadata": {},
   "outputs": [
    {
     "name": "stdout",
     "output_type": "stream",
     "text": [
      "<class 'pandas.core.frame.DataFrame'>\n",
      "Int64Index: 474462 entries, 0 to 475983\n",
      "Data columns (total 3 columns):\n",
      " #   Column              Non-Null Count   Dtype  \n",
      "---  ------              --------------   -----  \n",
      " 0   beer_beerid         474462 non-null  int64  \n",
      " 1   review_profilename  474462 non-null  object \n",
      " 2   review_overall      474462 non-null  float64\n",
      "dtypes: float64(1), int64(1), object(1)\n",
      "memory usage: 12.7+ MB\n"
     ]
    }
   ],
   "source": [
    "df.info()"
   ]
  },
  {
   "cell_type": "markdown",
   "metadata": {},
   "source": [
    "### 2. Data Preparation"
   ]
  },
  {
   "cell_type": "raw",
   "metadata": {},
   "source": [
    "# Choose only those beers that have at least N number of reviews.\n",
    "\n",
    "Figure out an appropriate value of N using EDA; this may not have one correct answer, \n",
    "but you should not choose beers that have an extremely low number of ratings."
   ]
  },
  {
   "cell_type": "code",
   "execution_count": 14,
   "metadata": {},
   "outputs": [
    {
     "data": {
      "text/plain": [
       "(40304, 1)"
      ]
     },
     "execution_count": 14,
     "metadata": {},
     "output_type": "execute_result"
    }
   ],
   "source": [
    "#checking review counts on Beerid\n",
    "df1 = pd.DataFrame(df.beer_beerid.value_counts(sort=True))\n",
    "df1.shape"
   ]
  },
  {
   "cell_type": "code",
   "execution_count": 15,
   "metadata": {},
   "outputs": [
    {
     "data": {
      "text/html": [
       "<div>\n",
       "<style scoped>\n",
       "    .dataframe tbody tr th:only-of-type {\n",
       "        vertical-align: middle;\n",
       "    }\n",
       "\n",
       "    .dataframe tbody tr th {\n",
       "        vertical-align: top;\n",
       "    }\n",
       "\n",
       "    .dataframe thead th {\n",
       "        text-align: right;\n",
       "    }\n",
       "</style>\n",
       "<table border=\"1\" class=\"dataframe\">\n",
       "  <thead>\n",
       "    <tr style=\"text-align: right;\">\n",
       "      <th></th>\n",
       "      <th>beer_beerid</th>\n",
       "    </tr>\n",
       "  </thead>\n",
       "  <tbody>\n",
       "    <tr>\n",
       "      <th>2093</th>\n",
       "      <td>977</td>\n",
       "    </tr>\n",
       "    <tr>\n",
       "      <th>412</th>\n",
       "      <td>966</td>\n",
       "    </tr>\n",
       "    <tr>\n",
       "      <th>1904</th>\n",
       "      <td>902</td>\n",
       "    </tr>\n",
       "    <tr>\n",
       "      <th>1093</th>\n",
       "      <td>840</td>\n",
       "    </tr>\n",
       "    <tr>\n",
       "      <th>92</th>\n",
       "      <td>812</td>\n",
       "    </tr>\n",
       "    <tr>\n",
       "      <th>...</th>\n",
       "      <td>...</td>\n",
       "    </tr>\n",
       "    <tr>\n",
       "      <th>31461</th>\n",
       "      <td>1</td>\n",
       "    </tr>\n",
       "    <tr>\n",
       "      <th>53362</th>\n",
       "      <td>1</td>\n",
       "    </tr>\n",
       "    <tr>\n",
       "      <th>57460</th>\n",
       "      <td>1</td>\n",
       "    </tr>\n",
       "    <tr>\n",
       "      <th>42666</th>\n",
       "      <td>1</td>\n",
       "    </tr>\n",
       "    <tr>\n",
       "      <th>69794</th>\n",
       "      <td>1</td>\n",
       "    </tr>\n",
       "  </tbody>\n",
       "</table>\n",
       "<p>40304 rows × 1 columns</p>\n",
       "</div>"
      ],
      "text/plain": [
       "       beer_beerid\n",
       "2093           977\n",
       "412            966\n",
       "1904           902\n",
       "1093           840\n",
       "92             812\n",
       "...            ...\n",
       "31461            1\n",
       "53362            1\n",
       "57460            1\n",
       "42666            1\n",
       "69794            1\n",
       "\n",
       "[40304 rows x 1 columns]"
      ]
     },
     "execution_count": 15,
     "metadata": {},
     "output_type": "execute_result"
    }
   ],
   "source": [
    "df1"
   ]
  },
  {
   "cell_type": "raw",
   "metadata": {},
   "source": [
    "Total there are 40304 unique beer_ids,and the high number of reviews is for the beer_id 2093 and in the second position the \n",
    "beer_id 412 is having 972 number of reviews."
   ]
  },
  {
   "cell_type": "code",
   "execution_count": 16,
   "metadata": {},
   "outputs": [
    {
     "data": {
      "text/plain": [
       "Text(0.5, 0, 'Review_counts')"
      ]
     },
     "execution_count": 16,
     "metadata": {},
     "output_type": "execute_result"
    },
    {
     "data": {
      "image/png": "[encoded data removed]",
      "text/plain": [
       "<Figure size 432x288 with 1 Axes>"
      ]
     },
     "metadata": {
      "needs_background": "light"
     },
     "output_type": "display_data"
    }
   ],
   "source": [
    "# plotting histogram for checking the review counts on Beerid\n",
    "df1.plot.hist(bins=10)\n",
    "plt.xlabel('Review_counts')"
   ]
  },
  {
   "cell_type": "raw",
   "metadata": {},
   "source": [
    "From graph it was shown that the review counts for the maximum number of beers are in between 0-100"
   ]
  },
  {
   "cell_type": "code",
   "execution_count": 17,
   "metadata": {},
   "outputs": [
    {
     "data": {
      "text/plain": [
       "Text(0.5, 0, 'Review_counts')"
      ]
     },
     "execution_count": 17,
     "metadata": {},
     "output_type": "execute_result"
    },
    {
     "data": {
      "image/png": "[encoded data removed]",
      "text/plain": [
       "<Figure size 432x288 with 1 Axes>"
      ]
     },
     "metadata": {
      "needs_background": "light"
     },
     "output_type": "display_data"
    }
   ],
   "source": [
    "#plotting histogram for Checking Beerid which have recieved less than or equal 100 review\n",
    "beerid_counts = pd.DataFrame(df1[df1<=100])\n",
    "beerid_counts.plot.hist(bins=10)\n",
    "plt.xlabel('Review_counts')"
   ]
  },
  {
   "cell_type": "code",
   "execution_count": 18,
   "metadata": {},
   "outputs": [
    {
     "data": {
      "text/plain": [
       "beer_beerid    18080.0\n",
       "dtype: float64"
      ]
     },
     "execution_count": 18,
     "metadata": {},
     "output_type": "execute_result"
    }
   ],
   "source": [
    "#Checking Beerid which have recieved 1 review\n",
    "beerid_counts = pd.DataFrame(df1[df1==1]).sum()\n",
    "beerid_counts"
   ]
  },
  {
   "cell_type": "raw",
   "metadata": {},
   "source": [
    "There are 18066 beer_ids that receive only 1 review in total"
   ]
  },
  {
   "cell_type": "code",
   "execution_count": 19,
   "metadata": {},
   "outputs": [
    {
     "data": {
      "text/plain": [
       "beer_beerid    161165.0\n",
       "dtype: float64"
      ]
     },
     "execution_count": 19,
     "metadata": {},
     "output_type": "execute_result"
    }
   ],
   "source": [
    "#Checking Beerid which have recieved less than are equal to 40 reviews\n",
    "beerid_count_40 = pd.DataFrame(df1[df1<=40]).sum()\n",
    "beerid_count_40"
   ]
  },
  {
   "cell_type": "code",
   "execution_count": 20,
   "metadata": {},
   "outputs": [
    {
     "name": "stdout",
     "output_type": "stream",
     "text": [
      "beer_beerid       40304\n",
      "review_overall    40304\n",
      "dtype: int64\n"
     ]
    },
    {
     "data": {
      "text/plain": [
       "(2499, 2)"
      ]
     },
     "execution_count": 20,
     "metadata": {},
     "output_type": "execute_result"
    }
   ],
   "source": [
    "dff = df.groupby('beer_beerid')['review_overall'].count().reset_index()\n",
    "print(dff.count())\n",
    "\n",
    "dff = dff.sort_values('review_overall', ascending=False)\n",
    "\n",
    "beers_countt = dff[dff.review_overall >= 40]\n",
    "beers_countt.shape"
   ]
  },
  {
   "cell_type": "code",
   "execution_count": 21,
   "metadata": {},
   "outputs": [
    {
     "data": {
      "text/html": [
       "<div>\n",
       "<style scoped>\n",
       "    .dataframe tbody tr th:only-of-type {\n",
       "        vertical-align: middle;\n",
       "    }\n",
       "\n",
       "    .dataframe tbody tr th {\n",
       "        vertical-align: top;\n",
       "    }\n",
       "\n",
       "    .dataframe thead th {\n",
       "        text-align: right;\n",
       "    }\n",
       "</style>\n",
       "<table border=\"1\" class=\"dataframe\">\n",
       "  <thead>\n",
       "    <tr style=\"text-align: right;\">\n",
       "      <th></th>\n",
       "      <th>review_profilename</th>\n",
       "    </tr>\n",
       "  </thead>\n",
       "  <tbody>\n",
       "    <tr>\n",
       "      <th>northyorksammy</th>\n",
       "      <td>1842</td>\n",
       "    </tr>\n",
       "    <tr>\n",
       "      <th>mikesgroove</th>\n",
       "      <td>1373</td>\n",
       "    </tr>\n",
       "    <tr>\n",
       "      <th>BuckeyeNation</th>\n",
       "      <td>1336</td>\n",
       "    </tr>\n",
       "    <tr>\n",
       "      <th>Thorpe429</th>\n",
       "      <td>1072</td>\n",
       "    </tr>\n",
       "    <tr>\n",
       "      <th>ChainGangGuy</th>\n",
       "      <td>1046</td>\n",
       "    </tr>\n",
       "    <tr>\n",
       "      <th>...</th>\n",
       "      <td>...</td>\n",
       "    </tr>\n",
       "    <tr>\n",
       "      <th>BloodySamFlint</th>\n",
       "      <td>1</td>\n",
       "    </tr>\n",
       "    <tr>\n",
       "      <th>phishtube</th>\n",
       "      <td>1</td>\n",
       "    </tr>\n",
       "    <tr>\n",
       "      <th>TequilaGeorge</th>\n",
       "      <td>1</td>\n",
       "    </tr>\n",
       "    <tr>\n",
       "      <th>Wyrdbrew</th>\n",
       "      <td>1</td>\n",
       "    </tr>\n",
       "    <tr>\n",
       "      <th>Scrancy</th>\n",
       "      <td>1</td>\n",
       "    </tr>\n",
       "  </tbody>\n",
       "</table>\n",
       "<p>22497 rows × 1 columns</p>\n",
       "</div>"
      ],
      "text/plain": [
       "                review_profilename\n",
       "northyorksammy                1842\n",
       "mikesgroove                   1373\n",
       "BuckeyeNation                 1336\n",
       "Thorpe429                     1072\n",
       "ChainGangGuy                  1046\n",
       "...                            ...\n",
       "BloodySamFlint                   1\n",
       "phishtube                        1\n",
       "TequilaGeorge                    1\n",
       "Wyrdbrew                         1\n",
       "Scrancy                          1\n",
       "\n",
       "[22497 rows x 1 columns]"
      ]
     },
     "execution_count": 21,
     "metadata": {},
     "output_type": "execute_result"
    }
   ],
   "source": [
    "# Checking review_counts by user count\n",
    "user = pd.DataFrame(df.review_profilename.value_counts(sort=True))\n",
    "user"
   ]
  },
  {
   "cell_type": "raw",
   "metadata": {},
   "source": [
    "northyorksammy has given high number of reviews 1844."
   ]
  },
  {
   "cell_type": "code",
   "execution_count": 22,
   "metadata": {},
   "outputs": [
    {
     "data": {
      "text/plain": [
       "Text(0.5, 0, 'Reviews_count')"
      ]
     },
     "execution_count": 22,
     "metadata": {},
     "output_type": "execute_result"
    },
    {
     "data": {
      "image/png": "[encoded data removed]",
      "text/plain": [
       "<Figure size 432x288 with 1 Axes>"
      ]
     },
     "metadata": {
      "needs_background": "light"
     },
     "output_type": "display_data"
    }
   ],
   "source": [
    "user.plot.hist(bins=15)\n",
    "plt.xlabel('Reviews_count')"
   ]
  },
  {
   "cell_type": "code",
   "execution_count": 23,
   "metadata": {},
   "outputs": [
    {
     "data": {
      "text/plain": [
       "Text(0.5, 0, 'Reviews_count')"
      ]
     },
     "execution_count": 23,
     "metadata": {},
     "output_type": "execute_result"
    },
    {
     "data": {
      "image/png": "[encoded data removed]",
      "text/plain": [
       "<Figure size 432x288 with 1 Axes>"
      ]
     },
     "metadata": {
      "needs_background": "light"
     },
     "output_type": "display_data"
    }
   ],
   "source": [
    "#checking the users reviews less than or equal 150\n",
    "user_count = pd.DataFrame(user[user<=150])\n",
    "user_count.plot.hist(bins=15)\n",
    "plt.xlabel('Reviews_count')"
   ]
  },
  {
   "cell_type": "code",
   "execution_count": 24,
   "metadata": {},
   "outputs": [
    {
     "data": {
      "text/html": [
       "<div>\n",
       "<style scoped>\n",
       "    .dataframe tbody tr th:only-of-type {\n",
       "        vertical-align: middle;\n",
       "    }\n",
       "\n",
       "    .dataframe tbody tr th {\n",
       "        vertical-align: top;\n",
       "    }\n",
       "\n",
       "    .dataframe thead th {\n",
       "        text-align: right;\n",
       "    }\n",
       "</style>\n",
       "<table border=\"1\" class=\"dataframe\">\n",
       "  <thead>\n",
       "    <tr style=\"text-align: right;\">\n",
       "      <th></th>\n",
       "      <th>review_profilename</th>\n",
       "      <th>review_overall</th>\n",
       "    </tr>\n",
       "  </thead>\n",
       "  <tbody>\n",
       "    <tr>\n",
       "      <th>18188</th>\n",
       "      <td>northyorksammy</td>\n",
       "      <td>1842</td>\n",
       "    </tr>\n",
       "    <tr>\n",
       "      <th>17373</th>\n",
       "      <td>mikesgroove</td>\n",
       "      <td>1373</td>\n",
       "    </tr>\n",
       "    <tr>\n",
       "      <th>1629</th>\n",
       "      <td>BuckeyeNation</td>\n",
       "      <td>1336</td>\n",
       "    </tr>\n",
       "    <tr>\n",
       "      <th>8470</th>\n",
       "      <td>Thorpe429</td>\n",
       "      <td>1072</td>\n",
       "    </tr>\n",
       "    <tr>\n",
       "      <th>1910</th>\n",
       "      <td>ChainGangGuy</td>\n",
       "      <td>1046</td>\n",
       "    </tr>\n",
       "  </tbody>\n",
       "</table>\n",
       "</div>"
      ],
      "text/plain": [
       "      review_profilename  review_overall\n",
       "18188     northyorksammy            1842\n",
       "17373        mikesgroove            1373\n",
       "1629       BuckeyeNation            1336\n",
       "8470           Thorpe429            1072\n",
       "1910        ChainGangGuy            1046"
      ]
     },
     "execution_count": 24,
     "metadata": {},
     "output_type": "execute_result"
    }
   ],
   "source": [
    "dff1 = df.groupby('review_profilename')['review_overall'].count().reset_index()\n",
    "users_count1 = dff1[dff1.review_overall >= 40]\n",
    "\n",
    "users_count1 = users_count1.sort_values('review_overall', ascending=False)\n",
    "\n",
    "users_count1.head(5)"
   ]
  },
  {
   "cell_type": "code",
   "execution_count": 25,
   "metadata": {},
   "outputs": [
    {
     "data": {
      "text/html": [
       "<div>\n",
       "<style scoped>\n",
       "    .dataframe tbody tr th:only-of-type {\n",
       "        vertical-align: middle;\n",
       "    }\n",
       "\n",
       "    .dataframe tbody tr th {\n",
       "        vertical-align: top;\n",
       "    }\n",
       "\n",
       "    .dataframe thead th {\n",
       "        text-align: right;\n",
       "    }\n",
       "</style>\n",
       "<table border=\"1\" class=\"dataframe\">\n",
       "  <thead>\n",
       "    <tr style=\"text-align: right;\">\n",
       "      <th></th>\n",
       "      <th>beer_beerid</th>\n",
       "      <th>review_profilename</th>\n",
       "      <th>review_overall_x</th>\n",
       "      <th>review_overall_y</th>\n",
       "      <th>review_overall</th>\n",
       "    </tr>\n",
       "  </thead>\n",
       "  <tbody>\n",
       "    <tr>\n",
       "      <th>0</th>\n",
       "      <td>436</td>\n",
       "      <td>Brent</td>\n",
       "      <td>3.0</td>\n",
       "      <td>127</td>\n",
       "      <td>518</td>\n",
       "    </tr>\n",
       "    <tr>\n",
       "      <th>1</th>\n",
       "      <td>10784</td>\n",
       "      <td>Brent</td>\n",
       "      <td>4.0</td>\n",
       "      <td>119</td>\n",
       "      <td>518</td>\n",
       "    </tr>\n",
       "    <tr>\n",
       "      <th>2</th>\n",
       "      <td>16074</td>\n",
       "      <td>Brent</td>\n",
       "      <td>4.0</td>\n",
       "      <td>431</td>\n",
       "      <td>518</td>\n",
       "    </tr>\n",
       "    <tr>\n",
       "      <th>3</th>\n",
       "      <td>33644</td>\n",
       "      <td>Brent</td>\n",
       "      <td>4.0</td>\n",
       "      <td>261</td>\n",
       "      <td>518</td>\n",
       "    </tr>\n",
       "    <tr>\n",
       "      <th>4</th>\n",
       "      <td>1122</td>\n",
       "      <td>Brent</td>\n",
       "      <td>5.0</td>\n",
       "      <td>54</td>\n",
       "      <td>518</td>\n",
       "    </tr>\n",
       "    <tr>\n",
       "      <th>...</th>\n",
       "      <td>...</td>\n",
       "      <td>...</td>\n",
       "      <td>...</td>\n",
       "      <td>...</td>\n",
       "      <td>...</td>\n",
       "    </tr>\n",
       "    <tr>\n",
       "      <th>231628</th>\n",
       "      <td>878</td>\n",
       "      <td>kmacphail</td>\n",
       "      <td>3.0</td>\n",
       "      <td>63</td>\n",
       "      <td>56</td>\n",
       "    </tr>\n",
       "    <tr>\n",
       "      <th>231629</th>\n",
       "      <td>724</td>\n",
       "      <td>kmacphail</td>\n",
       "      <td>3.5</td>\n",
       "      <td>104</td>\n",
       "      <td>56</td>\n",
       "    </tr>\n",
       "    <tr>\n",
       "      <th>231630</th>\n",
       "      <td>1826</td>\n",
       "      <td>kmacphail</td>\n",
       "      <td>5.0</td>\n",
       "      <td>113</td>\n",
       "      <td>56</td>\n",
       "    </tr>\n",
       "    <tr>\n",
       "      <th>231631</th>\n",
       "      <td>401</td>\n",
       "      <td>kmacphail</td>\n",
       "      <td>4.5</td>\n",
       "      <td>63</td>\n",
       "      <td>56</td>\n",
       "    </tr>\n",
       "    <tr>\n",
       "      <th>231632</th>\n",
       "      <td>875</td>\n",
       "      <td>kmacphail</td>\n",
       "      <td>4.5</td>\n",
       "      <td>199</td>\n",
       "      <td>56</td>\n",
       "    </tr>\n",
       "  </tbody>\n",
       "</table>\n",
       "<p>231633 rows × 5 columns</p>\n",
       "</div>"
      ],
      "text/plain": [
       "        beer_beerid review_profilename  review_overall_x  review_overall_y  \\\n",
       "0               436              Brent               3.0               127   \n",
       "1             10784              Brent               4.0               119   \n",
       "2             16074              Brent               4.0               431   \n",
       "3             33644              Brent               4.0               261   \n",
       "4              1122              Brent               5.0                54   \n",
       "...             ...                ...               ...               ...   \n",
       "231628          878          kmacphail               3.0                63   \n",
       "231629          724          kmacphail               3.5               104   \n",
       "231630         1826          kmacphail               5.0               113   \n",
       "231631          401          kmacphail               4.5                63   \n",
       "231632          875          kmacphail               4.5               199   \n",
       "\n",
       "        review_overall  \n",
       "0                  518  \n",
       "1                  518  \n",
       "2                  518  \n",
       "3                  518  \n",
       "4                  518  \n",
       "...                ...  \n",
       "231628              56  \n",
       "231629              56  \n",
       "231630              56  \n",
       "231631              56  \n",
       "231632              56  \n",
       "\n",
       "[231633 rows x 5 columns]"
      ]
     },
     "execution_count": 25,
     "metadata": {},
     "output_type": "execute_result"
    }
   ],
   "source": [
    "#Creating new Data Frame after applying filter on beer review >= 40 and user review >=40\n",
    "final_df = df.merge(beers_countt,how='inner',on='beer_beerid')\n",
    "final_df = final_df.merge(users_count1,how='inner',on='review_profilename')\n",
    "final_df"
   ]
  },
  {
   "cell_type": "code",
   "execution_count": 26,
   "metadata": {},
   "outputs": [
    {
     "data": {
      "text/html": [
       "<div>\n",
       "<style scoped>\n",
       "    .dataframe tbody tr th:only-of-type {\n",
       "        vertical-align: middle;\n",
       "    }\n",
       "\n",
       "    .dataframe tbody tr th {\n",
       "        vertical-align: top;\n",
       "    }\n",
       "\n",
       "    .dataframe thead th {\n",
       "        text-align: right;\n",
       "    }\n",
       "</style>\n",
       "<table border=\"1\" class=\"dataframe\">\n",
       "  <thead>\n",
       "    <tr style=\"text-align: right;\">\n",
       "      <th></th>\n",
       "      <th>beer_beerid</th>\n",
       "      <th>review_profilename</th>\n",
       "      <th>rating</th>\n",
       "      <th>beers_reviews</th>\n",
       "      <th>users_reviews</th>\n",
       "    </tr>\n",
       "  </thead>\n",
       "  <tbody>\n",
       "    <tr>\n",
       "      <th>0</th>\n",
       "      <td>436</td>\n",
       "      <td>Brent</td>\n",
       "      <td>3.0</td>\n",
       "      <td>127</td>\n",
       "      <td>518</td>\n",
       "    </tr>\n",
       "    <tr>\n",
       "      <th>1</th>\n",
       "      <td>10784</td>\n",
       "      <td>Brent</td>\n",
       "      <td>4.0</td>\n",
       "      <td>119</td>\n",
       "      <td>518</td>\n",
       "    </tr>\n",
       "    <tr>\n",
       "      <th>2</th>\n",
       "      <td>16074</td>\n",
       "      <td>Brent</td>\n",
       "      <td>4.0</td>\n",
       "      <td>431</td>\n",
       "      <td>518</td>\n",
       "    </tr>\n",
       "    <tr>\n",
       "      <th>3</th>\n",
       "      <td>33644</td>\n",
       "      <td>Brent</td>\n",
       "      <td>4.0</td>\n",
       "      <td>261</td>\n",
       "      <td>518</td>\n",
       "    </tr>\n",
       "    <tr>\n",
       "      <th>4</th>\n",
       "      <td>1122</td>\n",
       "      <td>Brent</td>\n",
       "      <td>5.0</td>\n",
       "      <td>54</td>\n",
       "      <td>518</td>\n",
       "    </tr>\n",
       "    <tr>\n",
       "      <th>...</th>\n",
       "      <td>...</td>\n",
       "      <td>...</td>\n",
       "      <td>...</td>\n",
       "      <td>...</td>\n",
       "      <td>...</td>\n",
       "    </tr>\n",
       "    <tr>\n",
       "      <th>231628</th>\n",
       "      <td>878</td>\n",
       "      <td>kmacphail</td>\n",
       "      <td>3.0</td>\n",
       "      <td>63</td>\n",
       "      <td>56</td>\n",
       "    </tr>\n",
       "    <tr>\n",
       "      <th>231629</th>\n",
       "      <td>724</td>\n",
       "      <td>kmacphail</td>\n",
       "      <td>3.5</td>\n",
       "      <td>104</td>\n",
       "      <td>56</td>\n",
       "    </tr>\n",
       "    <tr>\n",
       "      <th>231630</th>\n",
       "      <td>1826</td>\n",
       "      <td>kmacphail</td>\n",
       "      <td>5.0</td>\n",
       "      <td>113</td>\n",
       "      <td>56</td>\n",
       "    </tr>\n",
       "    <tr>\n",
       "      <th>231631</th>\n",
       "      <td>401</td>\n",
       "      <td>kmacphail</td>\n",
       "      <td>4.5</td>\n",
       "      <td>63</td>\n",
       "      <td>56</td>\n",
       "    </tr>\n",
       "    <tr>\n",
       "      <th>231632</th>\n",
       "      <td>875</td>\n",
       "      <td>kmacphail</td>\n",
       "      <td>4.5</td>\n",
       "      <td>199</td>\n",
       "      <td>56</td>\n",
       "    </tr>\n",
       "  </tbody>\n",
       "</table>\n",
       "<p>231633 rows × 5 columns</p>\n",
       "</div>"
      ],
      "text/plain": [
       "        beer_beerid review_profilename  rating  beers_reviews  users_reviews\n",
       "0               436              Brent     3.0            127            518\n",
       "1             10784              Brent     4.0            119            518\n",
       "2             16074              Brent     4.0            431            518\n",
       "3             33644              Brent     4.0            261            518\n",
       "4              1122              Brent     5.0             54            518\n",
       "...             ...                ...     ...            ...            ...\n",
       "231628          878          kmacphail     3.0             63             56\n",
       "231629          724          kmacphail     3.5            104             56\n",
       "231630         1826          kmacphail     5.0            113             56\n",
       "231631          401          kmacphail     4.5             63             56\n",
       "231632          875          kmacphail     4.5            199             56\n",
       "\n",
       "[231633 rows x 5 columns]"
      ]
     },
     "execution_count": 26,
     "metadata": {},
     "output_type": "execute_result"
    }
   ],
   "source": [
    "# renaming the columns after merging\n",
    "final_df.rename(columns={'review_overall_x' : 'rating','review_overall_y':'beers_reviews',\n",
    "                           'review_overall' : 'users_reviews'},\n",
    "                  inplace = True)\n",
    "final_df"
   ]
  },
  {
   "cell_type": "code",
   "execution_count": 27,
   "metadata": {},
   "outputs": [
    {
     "name": "stdout",
     "output_type": "stream",
     "text": [
      "<class 'pandas.core.frame.DataFrame'>\n",
      "Int64Index: 231633 entries, 0 to 231632\n",
      "Data columns (total 5 columns):\n",
      " #   Column              Non-Null Count   Dtype  \n",
      "---  ------              --------------   -----  \n",
      " 0   beer_beerid         231633 non-null  int64  \n",
      " 1   review_profilename  231633 non-null  object \n",
      " 2   rating              231633 non-null  float64\n",
      " 3   beers_reviews       231633 non-null  int64  \n",
      " 4   users_reviews       231633 non-null  int64  \n",
      "dtypes: float64(1), int64(3), object(1)\n",
      "memory usage: 9.7+ MB\n"
     ]
    }
   ],
   "source": [
    "final_df.info()"
   ]
  },
  {
   "cell_type": "markdown",
   "metadata": {},
   "source": [
    "### 3. Data exploration"
   ]
  },
  {
   "cell_type": "raw",
   "metadata": {},
   "source": [
    "1. What are the unique values of ratings?"
   ]
  },
  {
   "cell_type": "code",
   "execution_count": 28,
   "metadata": {},
   "outputs": [
    {
     "data": {
      "text/plain": [
       "1.0     1130\n",
       "1.5     1338\n",
       "2.0     4573\n",
       "2.5     7173\n",
       "5.0    12687\n",
       "3.0    21713\n",
       "3.5    43700\n",
       "4.5    50560\n",
       "4.0    88759\n",
       "Name: rating, dtype: int64"
      ]
     },
     "execution_count": 28,
     "metadata": {},
     "output_type": "execute_result"
    }
   ],
   "source": [
    "final_df.rating.value_counts(ascending=True)"
   ]
  },
  {
   "cell_type": "raw",
   "metadata": {},
   "source": [
    "2. Visualise the rating values and notice:\n",
    "        The average beer ratings"
   ]
  },
  {
   "cell_type": "code",
   "execution_count": 29,
   "metadata": {},
   "outputs": [
    {
     "data": {
      "text/html": [
       "<div>\n",
       "<style scoped>\n",
       "    .dataframe tbody tr th:only-of-type {\n",
       "        vertical-align: middle;\n",
       "    }\n",
       "\n",
       "    .dataframe tbody tr th {\n",
       "        vertical-align: top;\n",
       "    }\n",
       "\n",
       "    .dataframe thead th {\n",
       "        text-align: right;\n",
       "    }\n",
       "</style>\n",
       "<table border=\"1\" class=\"dataframe\">\n",
       "  <thead>\n",
       "    <tr style=\"text-align: right;\">\n",
       "      <th></th>\n",
       "      <th>beer_beerid</th>\n",
       "      <th>mean</th>\n",
       "    </tr>\n",
       "  </thead>\n",
       "  <tbody>\n",
       "    <tr>\n",
       "      <th>0</th>\n",
       "      <td>5</td>\n",
       "      <td>3.546512</td>\n",
       "    </tr>\n",
       "    <tr>\n",
       "      <th>1</th>\n",
       "      <td>6</td>\n",
       "      <td>3.684659</td>\n",
       "    </tr>\n",
       "    <tr>\n",
       "      <th>2</th>\n",
       "      <td>7</td>\n",
       "      <td>3.257353</td>\n",
       "    </tr>\n",
       "    <tr>\n",
       "      <th>3</th>\n",
       "      <td>10</td>\n",
       "      <td>3.849112</td>\n",
       "    </tr>\n",
       "    <tr>\n",
       "      <th>4</th>\n",
       "      <td>14</td>\n",
       "      <td>3.910000</td>\n",
       "    </tr>\n",
       "  </tbody>\n",
       "</table>\n",
       "</div>"
      ],
      "text/plain": [
       "   beer_beerid      mean\n",
       "0            5  3.546512\n",
       "1            6  3.684659\n",
       "2            7  3.257353\n",
       "3           10  3.849112\n",
       "4           14  3.910000"
      ]
     },
     "execution_count": 29,
     "metadata": {},
     "output_type": "execute_result"
    }
   ],
   "source": [
    "avg_beer_ratings = final_df.groupby('beer_beerid')['rating'].agg(['mean']).reset_index()\n",
    "avg_beer_ratings.head()"
   ]
  },
  {
   "cell_type": "code",
   "execution_count": 30,
   "metadata": {},
   "outputs": [
    {
     "data": {
      "image/png": "[encoded data removed]",
      "text/plain": [
       "<Figure size 432x288 with 1 Axes>"
      ]
     },
     "metadata": {
      "needs_background": "light"
     },
     "output_type": "display_data"
    }
   ],
   "source": [
    "plt.hist(avg_beer_ratings['mean'], bins=10)\n",
    "plt.xlabel('Average Rating')\n",
    "plt.ylabel('Number of Beers')\n",
    "plt.show()"
   ]
  },
  {
   "cell_type": "raw",
   "metadata": {},
   "source": [
    "# The average user ratings"
   ]
  },
  {
   "cell_type": "code",
   "execution_count": 31,
   "metadata": {},
   "outputs": [
    {
     "data": {
      "text/html": [
       "<div>\n",
       "<style scoped>\n",
       "    .dataframe tbody tr th:only-of-type {\n",
       "        vertical-align: middle;\n",
       "    }\n",
       "\n",
       "    .dataframe tbody tr th {\n",
       "        vertical-align: top;\n",
       "    }\n",
       "\n",
       "    .dataframe thead th {\n",
       "        text-align: right;\n",
       "    }\n",
       "</style>\n",
       "<table border=\"1\" class=\"dataframe\">\n",
       "  <thead>\n",
       "    <tr style=\"text-align: right;\">\n",
       "      <th></th>\n",
       "      <th>review_profilename</th>\n",
       "      <th>mean</th>\n",
       "    </tr>\n",
       "  </thead>\n",
       "  <tbody>\n",
       "    <tr>\n",
       "      <th>0</th>\n",
       "      <td>05Harley</td>\n",
       "      <td>4.140625</td>\n",
       "    </tr>\n",
       "    <tr>\n",
       "      <th>1</th>\n",
       "      <td>100floods</td>\n",
       "      <td>4.078125</td>\n",
       "    </tr>\n",
       "    <tr>\n",
       "      <th>2</th>\n",
       "      <td>1759Girl</td>\n",
       "      <td>3.682927</td>\n",
       "    </tr>\n",
       "    <tr>\n",
       "      <th>3</th>\n",
       "      <td>1fastz28</td>\n",
       "      <td>3.862745</td>\n",
       "    </tr>\n",
       "    <tr>\n",
       "      <th>4</th>\n",
       "      <td>3Vandoo</td>\n",
       "      <td>3.891304</td>\n",
       "    </tr>\n",
       "  </tbody>\n",
       "</table>\n",
       "</div>"
      ],
      "text/plain": [
       "  review_profilename      mean\n",
       "0           05Harley  4.140625\n",
       "1          100floods  4.078125\n",
       "2           1759Girl  3.682927\n",
       "3           1fastz28  3.862745\n",
       "4            3Vandoo  3.891304"
      ]
     },
     "execution_count": 31,
     "metadata": {},
     "output_type": "execute_result"
    }
   ],
   "source": [
    "avg_user_ratings = final_df.groupby('review_profilename')['rating'].agg(['mean']).reset_index()\n",
    "avg_user_ratings.head()"
   ]
  },
  {
   "cell_type": "code",
   "execution_count": 32,
   "metadata": {},
   "outputs": [
    {
     "data": {
      "image/png": "[encoded data removed]",
      "text/plain": [
       "<Figure size 432x288 with 1 Axes>"
      ]
     },
     "metadata": {
      "needs_background": "light"
     },
     "output_type": "display_data"
    }
   ],
   "source": [
    "plt.hist(avg_user_ratings['mean'], bins=10)\n",
    "plt.xlabel('Average_Rating')\n",
    "plt.ylabel('Number of users')\n",
    "plt.show()"
   ]
  },
  {
   "cell_type": "raw",
   "metadata": {},
   "source": [
    "### The average number of ratings given to the beers"
   ]
  },
  {
   "cell_type": "code",
   "execution_count": 33,
   "metadata": {},
   "outputs": [
    {
     "data": {
      "text/html": [
       "<div>\n",
       "<style scoped>\n",
       "    .dataframe tbody tr th:only-of-type {\n",
       "        vertical-align: middle;\n",
       "    }\n",
       "\n",
       "    .dataframe tbody tr th {\n",
       "        vertical-align: top;\n",
       "    }\n",
       "\n",
       "    .dataframe thead th {\n",
       "        text-align: right;\n",
       "    }\n",
       "</style>\n",
       "<table border=\"1\" class=\"dataframe\">\n",
       "  <thead>\n",
       "    <tr style=\"text-align: right;\">\n",
       "      <th></th>\n",
       "      <th>beer_beerid</th>\n",
       "      <th>mean</th>\n",
       "    </tr>\n",
       "  </thead>\n",
       "  <tbody>\n",
       "    <tr>\n",
       "      <th>0</th>\n",
       "      <td>5</td>\n",
       "      <td>113</td>\n",
       "    </tr>\n",
       "    <tr>\n",
       "      <th>1</th>\n",
       "      <td>6</td>\n",
       "      <td>253</td>\n",
       "    </tr>\n",
       "    <tr>\n",
       "      <th>2</th>\n",
       "      <td>7</td>\n",
       "      <td>205</td>\n",
       "    </tr>\n",
       "    <tr>\n",
       "      <th>3</th>\n",
       "      <td>10</td>\n",
       "      <td>218</td>\n",
       "    </tr>\n",
       "    <tr>\n",
       "      <th>4</th>\n",
       "      <td>14</td>\n",
       "      <td>59</td>\n",
       "    </tr>\n",
       "  </tbody>\n",
       "</table>\n",
       "</div>"
      ],
      "text/plain": [
       "   beer_beerid  mean\n",
       "0            5   113\n",
       "1            6   253\n",
       "2            7   205\n",
       "3           10   218\n",
       "4           14    59"
      ]
     },
     "execution_count": 33,
     "metadata": {},
     "output_type": "execute_result"
    }
   ],
   "source": [
    "avg_beer_reviews = final_df.groupby('beer_beerid')['beers_reviews'].agg(['mean']).reset_index()\n",
    "avg_beer_reviews.head()"
   ]
  },
  {
   "cell_type": "code",
   "execution_count": 34,
   "metadata": {},
   "outputs": [
    {
     "data": {
      "image/png": "[encoded data removed]",
      "text/plain": [
       "<Figure size 432x288 with 1 Axes>"
      ]
     },
     "metadata": {
      "needs_background": "light"
     },
     "output_type": "display_data"
    }
   ],
   "source": [
    "plt.hist(avg_beer_reviews['mean'], bins=10)\n",
    "plt.xlabel('Average Reviews')\n",
    "plt.ylabel('Number of Beers')\n",
    "plt.show()"
   ]
  },
  {
   "cell_type": "raw",
   "metadata": {},
   "source": [
    "### The average number of ratings given by the users"
   ]
  },
  {
   "cell_type": "code",
   "execution_count": 35,
   "metadata": {},
   "outputs": [
    {
     "data": {
      "text/html": [
       "<div>\n",
       "<style scoped>\n",
       "    .dataframe tbody tr th:only-of-type {\n",
       "        vertical-align: middle;\n",
       "    }\n",
       "\n",
       "    .dataframe tbody tr th {\n",
       "        vertical-align: top;\n",
       "    }\n",
       "\n",
       "    .dataframe thead th {\n",
       "        text-align: right;\n",
       "    }\n",
       "</style>\n",
       "<table border=\"1\" class=\"dataframe\">\n",
       "  <thead>\n",
       "    <tr style=\"text-align: right;\">\n",
       "      <th></th>\n",
       "      <th>review_profilename</th>\n",
       "      <th>mean</th>\n",
       "    </tr>\n",
       "  </thead>\n",
       "  <tbody>\n",
       "    <tr>\n",
       "      <th>0</th>\n",
       "      <td>05Harley</td>\n",
       "      <td>41</td>\n",
       "    </tr>\n",
       "    <tr>\n",
       "      <th>1</th>\n",
       "      <td>100floods</td>\n",
       "      <td>44</td>\n",
       "    </tr>\n",
       "    <tr>\n",
       "      <th>2</th>\n",
       "      <td>1759Girl</td>\n",
       "      <td>73</td>\n",
       "    </tr>\n",
       "    <tr>\n",
       "      <th>3</th>\n",
       "      <td>1fastz28</td>\n",
       "      <td>124</td>\n",
       "    </tr>\n",
       "    <tr>\n",
       "      <th>4</th>\n",
       "      <td>3Vandoo</td>\n",
       "      <td>101</td>\n",
       "    </tr>\n",
       "  </tbody>\n",
       "</table>\n",
       "</div>"
      ],
      "text/plain": [
       "  review_profilename  mean\n",
       "0           05Harley    41\n",
       "1          100floods    44\n",
       "2           1759Girl    73\n",
       "3           1fastz28   124\n",
       "4            3Vandoo   101"
      ]
     },
     "execution_count": 35,
     "metadata": {},
     "output_type": "execute_result"
    }
   ],
   "source": [
    "avg_user_reviews = final_df.groupby('review_profilename')['users_reviews'].agg(['mean']).reset_index()\n",
    "avg_user_reviews.head()"
   ]
  },
  {
   "cell_type": "code",
   "execution_count": 36,
   "metadata": {},
   "outputs": [
    {
     "data": {
      "image/png": "[encoded data removed]",
      "text/plain": [
       "<Figure size 432x288 with 1 Axes>"
      ]
     },
     "metadata": {
      "needs_background": "light"
     },
     "output_type": "display_data"
    }
   ],
   "source": [
    "plt.hist(avg_user_reviews['mean'], bins=10)\n",
    "plt.xlabel('Average Reviews')\n",
    "plt.ylabel('Number of users')\n",
    "plt.show()"
   ]
  },
  {
   "cell_type": "markdown",
   "metadata": {},
   "source": [
    "### 4. Recommendation Models"
   ]
  },
  {
   "cell_type": "raw",
   "metadata": {},
   "source": [
    "1. Divide your data into training and testing dataset."
   ]
  },
  {
   "cell_type": "code",
   "execution_count": 37,
   "metadata": {},
   "outputs": [],
   "source": [
    "from sklearn.model_selection import train_test_split\n",
    "train, test = train_test_split(final_df, test_size=0.30, random_state=31)"
   ]
  },
  {
   "cell_type": "code",
   "execution_count": 38,
   "metadata": {},
   "outputs": [
    {
     "name": "stdout",
     "output_type": "stream",
     "text": [
      "(162143, 5)\n",
      "(69490, 5)\n"
     ]
    }
   ],
   "source": [
    "print(train.shape)\n",
    "print(test.shape)"
   ]
  },
  {
   "cell_type": "raw",
   "metadata": {},
   "source": [
    "2. Build user-based and item-based models."
   ]
  },
  {
   "cell_type": "code",
   "execution_count": 39,
   "metadata": {},
   "outputs": [],
   "source": [
    "# pivot ratings into Beer features\n",
    "df_beer_features = train.pivot_table(\n",
    "    index='review_profilename',\n",
    "    columns='beer_beerid',\n",
    "    values='rating'\n",
    ").fillna(0)"
   ]
  },
  {
   "cell_type": "code",
   "execution_count": 40,
   "metadata": {},
   "outputs": [
    {
     "data": {
      "text/html": [
       "<div>\n",
       "<style scoped>\n",
       "    .dataframe tbody tr th:only-of-type {\n",
       "        vertical-align: middle;\n",
       "    }\n",
       "\n",
       "    .dataframe tbody tr th {\n",
       "        vertical-align: top;\n",
       "    }\n",
       "\n",
       "    .dataframe thead th {\n",
       "        text-align: right;\n",
       "    }\n",
       "</style>\n",
       "<table border=\"1\" class=\"dataframe\">\n",
       "  <thead>\n",
       "    <tr style=\"text-align: right;\">\n",
       "      <th>beer_beerid</th>\n",
       "      <th>5</th>\n",
       "      <th>6</th>\n",
       "      <th>7</th>\n",
       "      <th>10</th>\n",
       "      <th>14</th>\n",
       "      <th>15</th>\n",
       "      <th>17</th>\n",
       "      <th>19</th>\n",
       "      <th>30</th>\n",
       "      <th>31</th>\n",
       "      <th>...</th>\n",
       "      <th>74123</th>\n",
       "      <th>74272</th>\n",
       "      <th>74321</th>\n",
       "      <th>74323</th>\n",
       "      <th>74390</th>\n",
       "      <th>74530</th>\n",
       "      <th>74548</th>\n",
       "      <th>74579</th>\n",
       "      <th>74986</th>\n",
       "      <th>75086</th>\n",
       "    </tr>\n",
       "    <tr>\n",
       "      <th>review_profilename</th>\n",
       "      <th></th>\n",
       "      <th></th>\n",
       "      <th></th>\n",
       "      <th></th>\n",
       "      <th></th>\n",
       "      <th></th>\n",
       "      <th></th>\n",
       "      <th></th>\n",
       "      <th></th>\n",
       "      <th></th>\n",
       "      <th></th>\n",
       "      <th></th>\n",
       "      <th></th>\n",
       "      <th></th>\n",
       "      <th></th>\n",
       "      <th></th>\n",
       "      <th></th>\n",
       "      <th></th>\n",
       "      <th></th>\n",
       "      <th></th>\n",
       "      <th></th>\n",
       "    </tr>\n",
       "  </thead>\n",
       "  <tbody>\n",
       "    <tr>\n",
       "      <th>05Harley</th>\n",
       "      <td>0.0</td>\n",
       "      <td>0.0</td>\n",
       "      <td>0.0</td>\n",
       "      <td>0.0</td>\n",
       "      <td>0.0</td>\n",
       "      <td>0.0</td>\n",
       "      <td>0.0</td>\n",
       "      <td>0.0</td>\n",
       "      <td>0.0</td>\n",
       "      <td>0.0</td>\n",
       "      <td>...</td>\n",
       "      <td>0.0</td>\n",
       "      <td>0.0</td>\n",
       "      <td>0.0</td>\n",
       "      <td>0.0</td>\n",
       "      <td>0.0</td>\n",
       "      <td>0.0</td>\n",
       "      <td>0.0</td>\n",
       "      <td>0.0</td>\n",
       "      <td>0.0</td>\n",
       "      <td>0.0</td>\n",
       "    </tr>\n",
       "    <tr>\n",
       "      <th>100floods</th>\n",
       "      <td>0.0</td>\n",
       "      <td>0.0</td>\n",
       "      <td>0.0</td>\n",
       "      <td>0.0</td>\n",
       "      <td>0.0</td>\n",
       "      <td>0.0</td>\n",
       "      <td>0.0</td>\n",
       "      <td>0.0</td>\n",
       "      <td>0.0</td>\n",
       "      <td>0.0</td>\n",
       "      <td>...</td>\n",
       "      <td>0.0</td>\n",
       "      <td>0.0</td>\n",
       "      <td>0.0</td>\n",
       "      <td>0.0</td>\n",
       "      <td>0.0</td>\n",
       "      <td>0.0</td>\n",
       "      <td>0.0</td>\n",
       "      <td>0.0</td>\n",
       "      <td>0.0</td>\n",
       "      <td>0.0</td>\n",
       "    </tr>\n",
       "    <tr>\n",
       "      <th>1759Girl</th>\n",
       "      <td>0.0</td>\n",
       "      <td>0.0</td>\n",
       "      <td>0.0</td>\n",
       "      <td>0.0</td>\n",
       "      <td>0.0</td>\n",
       "      <td>0.0</td>\n",
       "      <td>0.0</td>\n",
       "      <td>0.0</td>\n",
       "      <td>0.0</td>\n",
       "      <td>0.0</td>\n",
       "      <td>...</td>\n",
       "      <td>0.0</td>\n",
       "      <td>0.0</td>\n",
       "      <td>0.0</td>\n",
       "      <td>0.0</td>\n",
       "      <td>0.0</td>\n",
       "      <td>0.0</td>\n",
       "      <td>0.0</td>\n",
       "      <td>0.0</td>\n",
       "      <td>0.0</td>\n",
       "      <td>0.0</td>\n",
       "    </tr>\n",
       "    <tr>\n",
       "      <th>1fastz28</th>\n",
       "      <td>0.0</td>\n",
       "      <td>3.5</td>\n",
       "      <td>0.0</td>\n",
       "      <td>0.0</td>\n",
       "      <td>0.0</td>\n",
       "      <td>0.0</td>\n",
       "      <td>0.0</td>\n",
       "      <td>0.0</td>\n",
       "      <td>0.0</td>\n",
       "      <td>0.0</td>\n",
       "      <td>...</td>\n",
       "      <td>3.5</td>\n",
       "      <td>0.0</td>\n",
       "      <td>0.0</td>\n",
       "      <td>0.0</td>\n",
       "      <td>0.0</td>\n",
       "      <td>0.0</td>\n",
       "      <td>0.0</td>\n",
       "      <td>0.0</td>\n",
       "      <td>0.0</td>\n",
       "      <td>0.0</td>\n",
       "    </tr>\n",
       "    <tr>\n",
       "      <th>3Vandoo</th>\n",
       "      <td>0.0</td>\n",
       "      <td>0.0</td>\n",
       "      <td>0.0</td>\n",
       "      <td>0.0</td>\n",
       "      <td>0.0</td>\n",
       "      <td>0.0</td>\n",
       "      <td>0.0</td>\n",
       "      <td>0.0</td>\n",
       "      <td>0.0</td>\n",
       "      <td>0.0</td>\n",
       "      <td>...</td>\n",
       "      <td>0.0</td>\n",
       "      <td>0.0</td>\n",
       "      <td>0.0</td>\n",
       "      <td>0.0</td>\n",
       "      <td>0.0</td>\n",
       "      <td>0.0</td>\n",
       "      <td>0.0</td>\n",
       "      <td>0.0</td>\n",
       "      <td>0.0</td>\n",
       "      <td>0.0</td>\n",
       "    </tr>\n",
       "  </tbody>\n",
       "</table>\n",
       "<p>5 rows × 2499 columns</p>\n",
       "</div>"
      ],
      "text/plain": [
       "beer_beerid         5      6      7      10     14     15     17     19     \\\n",
       "review_profilename                                                           \n",
       "05Harley              0.0    0.0    0.0    0.0    0.0    0.0    0.0    0.0   \n",
       "100floods             0.0    0.0    0.0    0.0    0.0    0.0    0.0    0.0   \n",
       "1759Girl              0.0    0.0    0.0    0.0    0.0    0.0    0.0    0.0   \n",
       "1fastz28              0.0    3.5    0.0    0.0    0.0    0.0    0.0    0.0   \n",
       "3Vandoo               0.0    0.0    0.0    0.0    0.0    0.0    0.0    0.0   \n",
       "\n",
       "beer_beerid         30     31     ...  74123  74272  74321  74323  74390  \\\n",
       "review_profilename                ...                                      \n",
       "05Harley              0.0    0.0  ...    0.0    0.0    0.0    0.0    0.0   \n",
       "100floods             0.0    0.0  ...    0.0    0.0    0.0    0.0    0.0   \n",
       "1759Girl              0.0    0.0  ...    0.0    0.0    0.0    0.0    0.0   \n",
       "1fastz28              0.0    0.0  ...    3.5    0.0    0.0    0.0    0.0   \n",
       "3Vandoo               0.0    0.0  ...    0.0    0.0    0.0    0.0    0.0   \n",
       "\n",
       "beer_beerid         74530  74548  74579  74986  75086  \n",
       "review_profilename                                     \n",
       "05Harley              0.0    0.0    0.0    0.0    0.0  \n",
       "100floods             0.0    0.0    0.0    0.0    0.0  \n",
       "1759Girl              0.0    0.0    0.0    0.0    0.0  \n",
       "1fastz28              0.0    0.0    0.0    0.0    0.0  \n",
       "3Vandoo               0.0    0.0    0.0    0.0    0.0  \n",
       "\n",
       "[5 rows x 2499 columns]"
      ]
     },
     "execution_count": 40,
     "metadata": {},
     "output_type": "execute_result"
    }
   ],
   "source": [
    "df_beer_features.head()"
   ]
  },
  {
   "cell_type": "markdown",
   "metadata": {},
   "source": [
    "### Copy train and test dataset"
   ]
  },
  {
   "cell_type": "code",
   "execution_count": 41,
   "metadata": {},
   "outputs": [],
   "source": [
    "dummy_train = train.copy()\n",
    "dummy_test = test.copy()"
   ]
  },
  {
   "cell_type": "code",
   "execution_count": 42,
   "metadata": {},
   "outputs": [],
   "source": [
    "dummy_train['rating'] = dummy_train['rating'].apply(lambda x: 0 if x>=1 else 1)\n",
    "dummy_test['rating'] = dummy_test['rating'].apply(lambda x: 1 if x>=1 else 0)"
   ]
  },
  {
   "cell_type": "code",
   "execution_count": 43,
   "metadata": {},
   "outputs": [],
   "source": [
    "# The beers not rated by user is marked as 1 for prediction. \n",
    "dummy_train = dummy_train.pivot(\n",
    "    index='review_profilename',\n",
    "    columns='beer_beerid',\n",
    "    values='rating'\n",
    ").fillna(1)\n",
    "\n",
    "# The beers not rated by user is marked as 0 for evaluation. \n",
    "dummy_test = dummy_test.pivot(\n",
    "    index='review_profilename',\n",
    "    columns='beer_beerid',\n",
    "    values='rating'\n",
    ").fillna(0)"
   ]
  },
  {
   "cell_type": "code",
   "execution_count": 44,
   "metadata": {},
   "outputs": [
    {
     "data": {
      "text/html": [
       "<div>\n",
       "<style scoped>\n",
       "    .dataframe tbody tr th:only-of-type {\n",
       "        vertical-align: middle;\n",
       "    }\n",
       "\n",
       "    .dataframe tbody tr th {\n",
       "        vertical-align: top;\n",
       "    }\n",
       "\n",
       "    .dataframe thead th {\n",
       "        text-align: right;\n",
       "    }\n",
       "</style>\n",
       "<table border=\"1\" class=\"dataframe\">\n",
       "  <thead>\n",
       "    <tr style=\"text-align: right;\">\n",
       "      <th>beer_beerid</th>\n",
       "      <th>5</th>\n",
       "      <th>6</th>\n",
       "      <th>7</th>\n",
       "      <th>10</th>\n",
       "      <th>14</th>\n",
       "      <th>15</th>\n",
       "      <th>17</th>\n",
       "      <th>19</th>\n",
       "      <th>30</th>\n",
       "      <th>31</th>\n",
       "      <th>...</th>\n",
       "      <th>74123</th>\n",
       "      <th>74272</th>\n",
       "      <th>74321</th>\n",
       "      <th>74323</th>\n",
       "      <th>74390</th>\n",
       "      <th>74530</th>\n",
       "      <th>74548</th>\n",
       "      <th>74579</th>\n",
       "      <th>74986</th>\n",
       "      <th>75086</th>\n",
       "    </tr>\n",
       "    <tr>\n",
       "      <th>review_profilename</th>\n",
       "      <th></th>\n",
       "      <th></th>\n",
       "      <th></th>\n",
       "      <th></th>\n",
       "      <th></th>\n",
       "      <th></th>\n",
       "      <th></th>\n",
       "      <th></th>\n",
       "      <th></th>\n",
       "      <th></th>\n",
       "      <th></th>\n",
       "      <th></th>\n",
       "      <th></th>\n",
       "      <th></th>\n",
       "      <th></th>\n",
       "      <th></th>\n",
       "      <th></th>\n",
       "      <th></th>\n",
       "      <th></th>\n",
       "      <th></th>\n",
       "      <th></th>\n",
       "    </tr>\n",
       "  </thead>\n",
       "  <tbody>\n",
       "    <tr>\n",
       "      <th>05Harley</th>\n",
       "      <td>1.0</td>\n",
       "      <td>1.0</td>\n",
       "      <td>1.0</td>\n",
       "      <td>1.0</td>\n",
       "      <td>1.0</td>\n",
       "      <td>1.0</td>\n",
       "      <td>1.0</td>\n",
       "      <td>1.0</td>\n",
       "      <td>1.0</td>\n",
       "      <td>1.0</td>\n",
       "      <td>...</td>\n",
       "      <td>1.0</td>\n",
       "      <td>1.0</td>\n",
       "      <td>1.0</td>\n",
       "      <td>1.0</td>\n",
       "      <td>1.0</td>\n",
       "      <td>1.0</td>\n",
       "      <td>1.0</td>\n",
       "      <td>1.0</td>\n",
       "      <td>1.0</td>\n",
       "      <td>1.0</td>\n",
       "    </tr>\n",
       "    <tr>\n",
       "      <th>100floods</th>\n",
       "      <td>1.0</td>\n",
       "      <td>1.0</td>\n",
       "      <td>1.0</td>\n",
       "      <td>1.0</td>\n",
       "      <td>1.0</td>\n",
       "      <td>1.0</td>\n",
       "      <td>1.0</td>\n",
       "      <td>1.0</td>\n",
       "      <td>1.0</td>\n",
       "      <td>1.0</td>\n",
       "      <td>...</td>\n",
       "      <td>1.0</td>\n",
       "      <td>1.0</td>\n",
       "      <td>1.0</td>\n",
       "      <td>1.0</td>\n",
       "      <td>1.0</td>\n",
       "      <td>1.0</td>\n",
       "      <td>1.0</td>\n",
       "      <td>1.0</td>\n",
       "      <td>1.0</td>\n",
       "      <td>1.0</td>\n",
       "    </tr>\n",
       "    <tr>\n",
       "      <th>1759Girl</th>\n",
       "      <td>1.0</td>\n",
       "      <td>1.0</td>\n",
       "      <td>1.0</td>\n",
       "      <td>1.0</td>\n",
       "      <td>1.0</td>\n",
       "      <td>1.0</td>\n",
       "      <td>1.0</td>\n",
       "      <td>1.0</td>\n",
       "      <td>1.0</td>\n",
       "      <td>1.0</td>\n",
       "      <td>...</td>\n",
       "      <td>1.0</td>\n",
       "      <td>1.0</td>\n",
       "      <td>1.0</td>\n",
       "      <td>1.0</td>\n",
       "      <td>1.0</td>\n",
       "      <td>1.0</td>\n",
       "      <td>1.0</td>\n",
       "      <td>1.0</td>\n",
       "      <td>1.0</td>\n",
       "      <td>1.0</td>\n",
       "    </tr>\n",
       "    <tr>\n",
       "      <th>1fastz28</th>\n",
       "      <td>1.0</td>\n",
       "      <td>0.0</td>\n",
       "      <td>1.0</td>\n",
       "      <td>1.0</td>\n",
       "      <td>1.0</td>\n",
       "      <td>1.0</td>\n",
       "      <td>1.0</td>\n",
       "      <td>1.0</td>\n",
       "      <td>1.0</td>\n",
       "      <td>1.0</td>\n",
       "      <td>...</td>\n",
       "      <td>0.0</td>\n",
       "      <td>1.0</td>\n",
       "      <td>1.0</td>\n",
       "      <td>1.0</td>\n",
       "      <td>1.0</td>\n",
       "      <td>1.0</td>\n",
       "      <td>1.0</td>\n",
       "      <td>1.0</td>\n",
       "      <td>1.0</td>\n",
       "      <td>1.0</td>\n",
       "    </tr>\n",
       "    <tr>\n",
       "      <th>3Vandoo</th>\n",
       "      <td>1.0</td>\n",
       "      <td>1.0</td>\n",
       "      <td>1.0</td>\n",
       "      <td>1.0</td>\n",
       "      <td>1.0</td>\n",
       "      <td>1.0</td>\n",
       "      <td>1.0</td>\n",
       "      <td>1.0</td>\n",
       "      <td>1.0</td>\n",
       "      <td>1.0</td>\n",
       "      <td>...</td>\n",
       "      <td>1.0</td>\n",
       "      <td>1.0</td>\n",
       "      <td>1.0</td>\n",
       "      <td>1.0</td>\n",
       "      <td>1.0</td>\n",
       "      <td>1.0</td>\n",
       "      <td>1.0</td>\n",
       "      <td>1.0</td>\n",
       "      <td>1.0</td>\n",
       "      <td>1.0</td>\n",
       "    </tr>\n",
       "  </tbody>\n",
       "</table>\n",
       "<p>5 rows × 2499 columns</p>\n",
       "</div>"
      ],
      "text/plain": [
       "beer_beerid         5      6      7      10     14     15     17     19     \\\n",
       "review_profilename                                                           \n",
       "05Harley              1.0    1.0    1.0    1.0    1.0    1.0    1.0    1.0   \n",
       "100floods             1.0    1.0    1.0    1.0    1.0    1.0    1.0    1.0   \n",
       "1759Girl              1.0    1.0    1.0    1.0    1.0    1.0    1.0    1.0   \n",
       "1fastz28              1.0    0.0    1.0    1.0    1.0    1.0    1.0    1.0   \n",
       "3Vandoo               1.0    1.0    1.0    1.0    1.0    1.0    1.0    1.0   \n",
       "\n",
       "beer_beerid         30     31     ...  74123  74272  74321  74323  74390  \\\n",
       "review_profilename                ...                                      \n",
       "05Harley              1.0    1.0  ...    1.0    1.0    1.0    1.0    1.0   \n",
       "100floods             1.0    1.0  ...    1.0    1.0    1.0    1.0    1.0   \n",
       "1759Girl              1.0    1.0  ...    1.0    1.0    1.0    1.0    1.0   \n",
       "1fastz28              1.0    1.0  ...    0.0    1.0    1.0    1.0    1.0   \n",
       "3Vandoo               1.0    1.0  ...    1.0    1.0    1.0    1.0    1.0   \n",
       "\n",
       "beer_beerid         74530  74548  74579  74986  75086  \n",
       "review_profilename                                     \n",
       "05Harley              1.0    1.0    1.0    1.0    1.0  \n",
       "100floods             1.0    1.0    1.0    1.0    1.0  \n",
       "1759Girl              1.0    1.0    1.0    1.0    1.0  \n",
       "1fastz28              1.0    1.0    1.0    1.0    1.0  \n",
       "3Vandoo               1.0    1.0    1.0    1.0    1.0  \n",
       "\n",
       "[5 rows x 2499 columns]"
      ]
     },
     "execution_count": 44,
     "metadata": {},
     "output_type": "execute_result"
    }
   ],
   "source": [
    "dummy_train.head()"
   ]
  },
  {
   "cell_type": "code",
   "execution_count": 45,
   "metadata": {},
   "outputs": [
    {
     "data": {
      "text/html": [
       "<div>\n",
       "<style scoped>\n",
       "    .dataframe tbody tr th:only-of-type {\n",
       "        vertical-align: middle;\n",
       "    }\n",
       "\n",
       "    .dataframe tbody tr th {\n",
       "        vertical-align: top;\n",
       "    }\n",
       "\n",
       "    .dataframe thead th {\n",
       "        text-align: right;\n",
       "    }\n",
       "</style>\n",
       "<table border=\"1\" class=\"dataframe\">\n",
       "  <thead>\n",
       "    <tr style=\"text-align: right;\">\n",
       "      <th>beer_beerid</th>\n",
       "      <th>5</th>\n",
       "      <th>6</th>\n",
       "      <th>7</th>\n",
       "      <th>10</th>\n",
       "      <th>14</th>\n",
       "      <th>15</th>\n",
       "      <th>17</th>\n",
       "      <th>19</th>\n",
       "      <th>30</th>\n",
       "      <th>31</th>\n",
       "      <th>...</th>\n",
       "      <th>74123</th>\n",
       "      <th>74272</th>\n",
       "      <th>74321</th>\n",
       "      <th>74323</th>\n",
       "      <th>74390</th>\n",
       "      <th>74530</th>\n",
       "      <th>74548</th>\n",
       "      <th>74579</th>\n",
       "      <th>74986</th>\n",
       "      <th>75086</th>\n",
       "    </tr>\n",
       "    <tr>\n",
       "      <th>review_profilename</th>\n",
       "      <th></th>\n",
       "      <th></th>\n",
       "      <th></th>\n",
       "      <th></th>\n",
       "      <th></th>\n",
       "      <th></th>\n",
       "      <th></th>\n",
       "      <th></th>\n",
       "      <th></th>\n",
       "      <th></th>\n",
       "      <th></th>\n",
       "      <th></th>\n",
       "      <th></th>\n",
       "      <th></th>\n",
       "      <th></th>\n",
       "      <th></th>\n",
       "      <th></th>\n",
       "      <th></th>\n",
       "      <th></th>\n",
       "      <th></th>\n",
       "      <th></th>\n",
       "    </tr>\n",
       "  </thead>\n",
       "  <tbody>\n",
       "    <tr>\n",
       "      <th>05Harley</th>\n",
       "      <td>0.0</td>\n",
       "      <td>0.0</td>\n",
       "      <td>0.0</td>\n",
       "      <td>0.0</td>\n",
       "      <td>0.0</td>\n",
       "      <td>0.0</td>\n",
       "      <td>0.0</td>\n",
       "      <td>0.0</td>\n",
       "      <td>0.0</td>\n",
       "      <td>0.0</td>\n",
       "      <td>...</td>\n",
       "      <td>0.0</td>\n",
       "      <td>0.0</td>\n",
       "      <td>0.0</td>\n",
       "      <td>0.0</td>\n",
       "      <td>0.0</td>\n",
       "      <td>0.0</td>\n",
       "      <td>0.0</td>\n",
       "      <td>0.0</td>\n",
       "      <td>0.0</td>\n",
       "      <td>0.0</td>\n",
       "    </tr>\n",
       "    <tr>\n",
       "      <th>100floods</th>\n",
       "      <td>0.0</td>\n",
       "      <td>0.0</td>\n",
       "      <td>0.0</td>\n",
       "      <td>0.0</td>\n",
       "      <td>0.0</td>\n",
       "      <td>0.0</td>\n",
       "      <td>0.0</td>\n",
       "      <td>0.0</td>\n",
       "      <td>0.0</td>\n",
       "      <td>0.0</td>\n",
       "      <td>...</td>\n",
       "      <td>0.0</td>\n",
       "      <td>0.0</td>\n",
       "      <td>0.0</td>\n",
       "      <td>0.0</td>\n",
       "      <td>0.0</td>\n",
       "      <td>0.0</td>\n",
       "      <td>0.0</td>\n",
       "      <td>0.0</td>\n",
       "      <td>0.0</td>\n",
       "      <td>0.0</td>\n",
       "    </tr>\n",
       "    <tr>\n",
       "      <th>1759Girl</th>\n",
       "      <td>0.0</td>\n",
       "      <td>0.0</td>\n",
       "      <td>0.0</td>\n",
       "      <td>0.0</td>\n",
       "      <td>0.0</td>\n",
       "      <td>0.0</td>\n",
       "      <td>0.0</td>\n",
       "      <td>0.0</td>\n",
       "      <td>0.0</td>\n",
       "      <td>0.0</td>\n",
       "      <td>...</td>\n",
       "      <td>0.0</td>\n",
       "      <td>0.0</td>\n",
       "      <td>0.0</td>\n",
       "      <td>0.0</td>\n",
       "      <td>0.0</td>\n",
       "      <td>0.0</td>\n",
       "      <td>0.0</td>\n",
       "      <td>0.0</td>\n",
       "      <td>0.0</td>\n",
       "      <td>0.0</td>\n",
       "    </tr>\n",
       "    <tr>\n",
       "      <th>1fastz28</th>\n",
       "      <td>0.0</td>\n",
       "      <td>0.0</td>\n",
       "      <td>0.0</td>\n",
       "      <td>1.0</td>\n",
       "      <td>0.0</td>\n",
       "      <td>0.0</td>\n",
       "      <td>0.0</td>\n",
       "      <td>0.0</td>\n",
       "      <td>0.0</td>\n",
       "      <td>0.0</td>\n",
       "      <td>...</td>\n",
       "      <td>0.0</td>\n",
       "      <td>0.0</td>\n",
       "      <td>0.0</td>\n",
       "      <td>0.0</td>\n",
       "      <td>0.0</td>\n",
       "      <td>0.0</td>\n",
       "      <td>0.0</td>\n",
       "      <td>0.0</td>\n",
       "      <td>0.0</td>\n",
       "      <td>0.0</td>\n",
       "    </tr>\n",
       "    <tr>\n",
       "      <th>3Vandoo</th>\n",
       "      <td>0.0</td>\n",
       "      <td>0.0</td>\n",
       "      <td>0.0</td>\n",
       "      <td>0.0</td>\n",
       "      <td>0.0</td>\n",
       "      <td>0.0</td>\n",
       "      <td>0.0</td>\n",
       "      <td>0.0</td>\n",
       "      <td>0.0</td>\n",
       "      <td>0.0</td>\n",
       "      <td>...</td>\n",
       "      <td>0.0</td>\n",
       "      <td>0.0</td>\n",
       "      <td>0.0</td>\n",
       "      <td>0.0</td>\n",
       "      <td>0.0</td>\n",
       "      <td>0.0</td>\n",
       "      <td>0.0</td>\n",
       "      <td>0.0</td>\n",
       "      <td>0.0</td>\n",
       "      <td>0.0</td>\n",
       "    </tr>\n",
       "  </tbody>\n",
       "</table>\n",
       "<p>5 rows × 2499 columns</p>\n",
       "</div>"
      ],
      "text/plain": [
       "beer_beerid         5      6      7      10     14     15     17     19     \\\n",
       "review_profilename                                                           \n",
       "05Harley              0.0    0.0    0.0    0.0    0.0    0.0    0.0    0.0   \n",
       "100floods             0.0    0.0    0.0    0.0    0.0    0.0    0.0    0.0   \n",
       "1759Girl              0.0    0.0    0.0    0.0    0.0    0.0    0.0    0.0   \n",
       "1fastz28              0.0    0.0    0.0    1.0    0.0    0.0    0.0    0.0   \n",
       "3Vandoo               0.0    0.0    0.0    0.0    0.0    0.0    0.0    0.0   \n",
       "\n",
       "beer_beerid         30     31     ...  74123  74272  74321  74323  74390  \\\n",
       "review_profilename                ...                                      \n",
       "05Harley              0.0    0.0  ...    0.0    0.0    0.0    0.0    0.0   \n",
       "100floods             0.0    0.0  ...    0.0    0.0    0.0    0.0    0.0   \n",
       "1759Girl              0.0    0.0  ...    0.0    0.0    0.0    0.0    0.0   \n",
       "1fastz28              0.0    0.0  ...    0.0    0.0    0.0    0.0    0.0   \n",
       "3Vandoo               0.0    0.0  ...    0.0    0.0    0.0    0.0    0.0   \n",
       "\n",
       "beer_beerid         74530  74548  74579  74986  75086  \n",
       "review_profilename                                     \n",
       "05Harley              0.0    0.0    0.0    0.0    0.0  \n",
       "100floods             0.0    0.0    0.0    0.0    0.0  \n",
       "1759Girl              0.0    0.0    0.0    0.0    0.0  \n",
       "1fastz28              0.0    0.0    0.0    0.0    0.0  \n",
       "3Vandoo               0.0    0.0    0.0    0.0    0.0  \n",
       "\n",
       "[5 rows x 2499 columns]"
      ]
     },
     "execution_count": 45,
     "metadata": {},
     "output_type": "execute_result"
    }
   ],
   "source": [
    "dummy_test.head()"
   ]
  },
  {
   "cell_type": "markdown",
   "metadata": {},
   "source": [
    "###  User Similarity Matrix"
   ]
  },
  {
   "cell_type": "markdown",
   "metadata": {},
   "source": [
    "#### Using Cosine Similarity"
   ]
  },
  {
   "cell_type": "code",
   "execution_count": 46,
   "metadata": {},
   "outputs": [
    {
     "name": "stdout",
     "output_type": "stream",
     "text": [
      "[[1.         0.         0.0447414  ... 0.01311939 0.0338432  0.06157584]\n",
      " [0.         1.         0.         ... 0.02389333 0.         0.12616121]\n",
      " [0.0447414  0.         1.         ... 0.0308992  0.0289192  0.03551641]\n",
      " ...\n",
      " [0.01311939 0.02389333 0.0308992  ... 1.         0.01744435 0.05415474]\n",
      " [0.0338432  0.         0.0289192  ... 0.01744435 1.         0.04776043]\n",
      " [0.06157584 0.12616121 0.03551641 ... 0.05415474 0.04776043 1.        ]]\n"
     ]
    }
   ],
   "source": [
    "from sklearn.metrics.pairwise import pairwise_distances\n",
    "\n",
    "# User Similarity Matrix\n",
    "user_correlation = 1 - pairwise_distances(df_beer_features, metric='cosine')\n",
    "user_correlation[np.isnan(user_correlation)] = 0\n",
    "print(user_correlation)"
   ]
  },
  {
   "cell_type": "code",
   "execution_count": 47,
   "metadata": {},
   "outputs": [
    {
     "data": {
      "text/plain": [
       "(2612, 2612)"
      ]
     },
     "execution_count": 47,
     "metadata": {},
     "output_type": "execute_result"
    }
   ],
   "source": [
    "user_correlation.shape"
   ]
  },
  {
   "cell_type": "markdown",
   "metadata": {},
   "source": [
    "### Using adjusted Cosine"
   ]
  },
  {
   "cell_type": "markdown",
   "metadata": {},
   "source": [
    "##### Here, not removing the NaN values and calculating the mean only for the beers rated by the user"
   ]
  },
  {
   "cell_type": "code",
   "execution_count": 48,
   "metadata": {},
   "outputs": [],
   "source": [
    "beer_features = train.pivot(\n",
    "    index='review_profilename',\n",
    "    columns='beer_beerid',\n",
    "    values='rating'\n",
    ")"
   ]
  },
  {
   "cell_type": "code",
   "execution_count": 49,
   "metadata": {},
   "outputs": [
    {
     "data": {
      "text/html": [
       "<div>\n",
       "<style scoped>\n",
       "    .dataframe tbody tr th:only-of-type {\n",
       "        vertical-align: middle;\n",
       "    }\n",
       "\n",
       "    .dataframe tbody tr th {\n",
       "        vertical-align: top;\n",
       "    }\n",
       "\n",
       "    .dataframe thead th {\n",
       "        text-align: right;\n",
       "    }\n",
       "</style>\n",
       "<table border=\"1\" class=\"dataframe\">\n",
       "  <thead>\n",
       "    <tr style=\"text-align: right;\">\n",
       "      <th>beer_beerid</th>\n",
       "      <th>5</th>\n",
       "      <th>6</th>\n",
       "      <th>7</th>\n",
       "      <th>10</th>\n",
       "      <th>14</th>\n",
       "      <th>15</th>\n",
       "      <th>17</th>\n",
       "      <th>19</th>\n",
       "      <th>30</th>\n",
       "      <th>31</th>\n",
       "      <th>...</th>\n",
       "      <th>74123</th>\n",
       "      <th>74272</th>\n",
       "      <th>74321</th>\n",
       "      <th>74323</th>\n",
       "      <th>74390</th>\n",
       "      <th>74530</th>\n",
       "      <th>74548</th>\n",
       "      <th>74579</th>\n",
       "      <th>74986</th>\n",
       "      <th>75086</th>\n",
       "    </tr>\n",
       "    <tr>\n",
       "      <th>review_profilename</th>\n",
       "      <th></th>\n",
       "      <th></th>\n",
       "      <th></th>\n",
       "      <th></th>\n",
       "      <th></th>\n",
       "      <th></th>\n",
       "      <th></th>\n",
       "      <th></th>\n",
       "      <th></th>\n",
       "      <th></th>\n",
       "      <th></th>\n",
       "      <th></th>\n",
       "      <th></th>\n",
       "      <th></th>\n",
       "      <th></th>\n",
       "      <th></th>\n",
       "      <th></th>\n",
       "      <th></th>\n",
       "      <th></th>\n",
       "      <th></th>\n",
       "      <th></th>\n",
       "    </tr>\n",
       "  </thead>\n",
       "  <tbody>\n",
       "    <tr>\n",
       "      <th>05Harley</th>\n",
       "      <td>NaN</td>\n",
       "      <td>NaN</td>\n",
       "      <td>NaN</td>\n",
       "      <td>NaN</td>\n",
       "      <td>NaN</td>\n",
       "      <td>NaN</td>\n",
       "      <td>NaN</td>\n",
       "      <td>NaN</td>\n",
       "      <td>NaN</td>\n",
       "      <td>NaN</td>\n",
       "      <td>...</td>\n",
       "      <td>NaN</td>\n",
       "      <td>NaN</td>\n",
       "      <td>NaN</td>\n",
       "      <td>NaN</td>\n",
       "      <td>NaN</td>\n",
       "      <td>NaN</td>\n",
       "      <td>NaN</td>\n",
       "      <td>NaN</td>\n",
       "      <td>NaN</td>\n",
       "      <td>NaN</td>\n",
       "    </tr>\n",
       "    <tr>\n",
       "      <th>100floods</th>\n",
       "      <td>NaN</td>\n",
       "      <td>NaN</td>\n",
       "      <td>NaN</td>\n",
       "      <td>NaN</td>\n",
       "      <td>NaN</td>\n",
       "      <td>NaN</td>\n",
       "      <td>NaN</td>\n",
       "      <td>NaN</td>\n",
       "      <td>NaN</td>\n",
       "      <td>NaN</td>\n",
       "      <td>...</td>\n",
       "      <td>NaN</td>\n",
       "      <td>NaN</td>\n",
       "      <td>NaN</td>\n",
       "      <td>NaN</td>\n",
       "      <td>NaN</td>\n",
       "      <td>NaN</td>\n",
       "      <td>NaN</td>\n",
       "      <td>NaN</td>\n",
       "      <td>NaN</td>\n",
       "      <td>NaN</td>\n",
       "    </tr>\n",
       "    <tr>\n",
       "      <th>1759Girl</th>\n",
       "      <td>NaN</td>\n",
       "      <td>NaN</td>\n",
       "      <td>NaN</td>\n",
       "      <td>NaN</td>\n",
       "      <td>NaN</td>\n",
       "      <td>NaN</td>\n",
       "      <td>NaN</td>\n",
       "      <td>NaN</td>\n",
       "      <td>NaN</td>\n",
       "      <td>NaN</td>\n",
       "      <td>...</td>\n",
       "      <td>NaN</td>\n",
       "      <td>NaN</td>\n",
       "      <td>NaN</td>\n",
       "      <td>NaN</td>\n",
       "      <td>NaN</td>\n",
       "      <td>NaN</td>\n",
       "      <td>NaN</td>\n",
       "      <td>NaN</td>\n",
       "      <td>NaN</td>\n",
       "      <td>NaN</td>\n",
       "    </tr>\n",
       "    <tr>\n",
       "      <th>1fastz28</th>\n",
       "      <td>NaN</td>\n",
       "      <td>3.5</td>\n",
       "      <td>NaN</td>\n",
       "      <td>NaN</td>\n",
       "      <td>NaN</td>\n",
       "      <td>NaN</td>\n",
       "      <td>NaN</td>\n",
       "      <td>NaN</td>\n",
       "      <td>NaN</td>\n",
       "      <td>NaN</td>\n",
       "      <td>...</td>\n",
       "      <td>3.5</td>\n",
       "      <td>NaN</td>\n",
       "      <td>NaN</td>\n",
       "      <td>NaN</td>\n",
       "      <td>NaN</td>\n",
       "      <td>NaN</td>\n",
       "      <td>NaN</td>\n",
       "      <td>NaN</td>\n",
       "      <td>NaN</td>\n",
       "      <td>NaN</td>\n",
       "    </tr>\n",
       "    <tr>\n",
       "      <th>3Vandoo</th>\n",
       "      <td>NaN</td>\n",
       "      <td>NaN</td>\n",
       "      <td>NaN</td>\n",
       "      <td>NaN</td>\n",
       "      <td>NaN</td>\n",
       "      <td>NaN</td>\n",
       "      <td>NaN</td>\n",
       "      <td>NaN</td>\n",
       "      <td>NaN</td>\n",
       "      <td>NaN</td>\n",
       "      <td>...</td>\n",
       "      <td>NaN</td>\n",
       "      <td>NaN</td>\n",
       "      <td>NaN</td>\n",
       "      <td>NaN</td>\n",
       "      <td>NaN</td>\n",
       "      <td>NaN</td>\n",
       "      <td>NaN</td>\n",
       "      <td>NaN</td>\n",
       "      <td>NaN</td>\n",
       "      <td>NaN</td>\n",
       "    </tr>\n",
       "  </tbody>\n",
       "</table>\n",
       "<p>5 rows × 2499 columns</p>\n",
       "</div>"
      ],
      "text/plain": [
       "beer_beerid         5      6      7      10     14     15     17     19     \\\n",
       "review_profilename                                                           \n",
       "05Harley              NaN    NaN    NaN    NaN    NaN    NaN    NaN    NaN   \n",
       "100floods             NaN    NaN    NaN    NaN    NaN    NaN    NaN    NaN   \n",
       "1759Girl              NaN    NaN    NaN    NaN    NaN    NaN    NaN    NaN   \n",
       "1fastz28              NaN    3.5    NaN    NaN    NaN    NaN    NaN    NaN   \n",
       "3Vandoo               NaN    NaN    NaN    NaN    NaN    NaN    NaN    NaN   \n",
       "\n",
       "beer_beerid         30     31     ...  74123  74272  74321  74323  74390  \\\n",
       "review_profilename                ...                                      \n",
       "05Harley              NaN    NaN  ...    NaN    NaN    NaN    NaN    NaN   \n",
       "100floods             NaN    NaN  ...    NaN    NaN    NaN    NaN    NaN   \n",
       "1759Girl              NaN    NaN  ...    NaN    NaN    NaN    NaN    NaN   \n",
       "1fastz28              NaN    NaN  ...    3.5    NaN    NaN    NaN    NaN   \n",
       "3Vandoo               NaN    NaN  ...    NaN    NaN    NaN    NaN    NaN   \n",
       "\n",
       "beer_beerid         74530  74548  74579  74986  75086  \n",
       "review_profilename                                     \n",
       "05Harley              NaN    NaN    NaN    NaN    NaN  \n",
       "100floods             NaN    NaN    NaN    NaN    NaN  \n",
       "1759Girl              NaN    NaN    NaN    NaN    NaN  \n",
       "1fastz28              NaN    NaN    NaN    NaN    NaN  \n",
       "3Vandoo               NaN    NaN    NaN    NaN    NaN  \n",
       "\n",
       "[5 rows x 2499 columns]"
      ]
     },
     "execution_count": 49,
     "metadata": {},
     "output_type": "execute_result"
    }
   ],
   "source": [
    "beer_features.head()"
   ]
  },
  {
   "cell_type": "markdown",
   "metadata": {},
   "source": [
    "#### Normalising the rating of the beers for each user around 0 mean"
   ]
  },
  {
   "cell_type": "code",
   "execution_count": 50,
   "metadata": {},
   "outputs": [],
   "source": [
    "mean = np.nanmean(beer_features, axis=1)\n",
    "df_subtracted = (beer_features.T-mean).T"
   ]
  },
  {
   "cell_type": "code",
   "execution_count": 51,
   "metadata": {},
   "outputs": [
    {
     "data": {
      "text/html": [
       "<div>\n",
       "<style scoped>\n",
       "    .dataframe tbody tr th:only-of-type {\n",
       "        vertical-align: middle;\n",
       "    }\n",
       "\n",
       "    .dataframe tbody tr th {\n",
       "        vertical-align: top;\n",
       "    }\n",
       "\n",
       "    .dataframe thead th {\n",
       "        text-align: right;\n",
       "    }\n",
       "</style>\n",
       "<table border=\"1\" class=\"dataframe\">\n",
       "  <thead>\n",
       "    <tr style=\"text-align: right;\">\n",
       "      <th>beer_beerid</th>\n",
       "      <th>5</th>\n",
       "      <th>6</th>\n",
       "      <th>7</th>\n",
       "      <th>10</th>\n",
       "      <th>14</th>\n",
       "      <th>15</th>\n",
       "      <th>17</th>\n",
       "      <th>19</th>\n",
       "      <th>30</th>\n",
       "      <th>31</th>\n",
       "      <th>...</th>\n",
       "      <th>74123</th>\n",
       "      <th>74272</th>\n",
       "      <th>74321</th>\n",
       "      <th>74323</th>\n",
       "      <th>74390</th>\n",
       "      <th>74530</th>\n",
       "      <th>74548</th>\n",
       "      <th>74579</th>\n",
       "      <th>74986</th>\n",
       "      <th>75086</th>\n",
       "    </tr>\n",
       "    <tr>\n",
       "      <th>review_profilename</th>\n",
       "      <th></th>\n",
       "      <th></th>\n",
       "      <th></th>\n",
       "      <th></th>\n",
       "      <th></th>\n",
       "      <th></th>\n",
       "      <th></th>\n",
       "      <th></th>\n",
       "      <th></th>\n",
       "      <th></th>\n",
       "      <th></th>\n",
       "      <th></th>\n",
       "      <th></th>\n",
       "      <th></th>\n",
       "      <th></th>\n",
       "      <th></th>\n",
       "      <th></th>\n",
       "      <th></th>\n",
       "      <th></th>\n",
       "      <th></th>\n",
       "      <th></th>\n",
       "    </tr>\n",
       "  </thead>\n",
       "  <tbody>\n",
       "    <tr>\n",
       "      <th>05Harley</th>\n",
       "      <td>NaN</td>\n",
       "      <td>NaN</td>\n",
       "      <td>NaN</td>\n",
       "      <td>NaN</td>\n",
       "      <td>NaN</td>\n",
       "      <td>NaN</td>\n",
       "      <td>NaN</td>\n",
       "      <td>NaN</td>\n",
       "      <td>NaN</td>\n",
       "      <td>NaN</td>\n",
       "      <td>...</td>\n",
       "      <td>NaN</td>\n",
       "      <td>NaN</td>\n",
       "      <td>NaN</td>\n",
       "      <td>NaN</td>\n",
       "      <td>NaN</td>\n",
       "      <td>NaN</td>\n",
       "      <td>NaN</td>\n",
       "      <td>NaN</td>\n",
       "      <td>NaN</td>\n",
       "      <td>NaN</td>\n",
       "    </tr>\n",
       "    <tr>\n",
       "      <th>100floods</th>\n",
       "      <td>NaN</td>\n",
       "      <td>NaN</td>\n",
       "      <td>NaN</td>\n",
       "      <td>NaN</td>\n",
       "      <td>NaN</td>\n",
       "      <td>NaN</td>\n",
       "      <td>NaN</td>\n",
       "      <td>NaN</td>\n",
       "      <td>NaN</td>\n",
       "      <td>NaN</td>\n",
       "      <td>...</td>\n",
       "      <td>NaN</td>\n",
       "      <td>NaN</td>\n",
       "      <td>NaN</td>\n",
       "      <td>NaN</td>\n",
       "      <td>NaN</td>\n",
       "      <td>NaN</td>\n",
       "      <td>NaN</td>\n",
       "      <td>NaN</td>\n",
       "      <td>NaN</td>\n",
       "      <td>NaN</td>\n",
       "    </tr>\n",
       "    <tr>\n",
       "      <th>1759Girl</th>\n",
       "      <td>NaN</td>\n",
       "      <td>NaN</td>\n",
       "      <td>NaN</td>\n",
       "      <td>NaN</td>\n",
       "      <td>NaN</td>\n",
       "      <td>NaN</td>\n",
       "      <td>NaN</td>\n",
       "      <td>NaN</td>\n",
       "      <td>NaN</td>\n",
       "      <td>NaN</td>\n",
       "      <td>...</td>\n",
       "      <td>NaN</td>\n",
       "      <td>NaN</td>\n",
       "      <td>NaN</td>\n",
       "      <td>NaN</td>\n",
       "      <td>NaN</td>\n",
       "      <td>NaN</td>\n",
       "      <td>NaN</td>\n",
       "      <td>NaN</td>\n",
       "      <td>NaN</td>\n",
       "      <td>NaN</td>\n",
       "    </tr>\n",
       "    <tr>\n",
       "      <th>1fastz28</th>\n",
       "      <td>NaN</td>\n",
       "      <td>-0.328767</td>\n",
       "      <td>NaN</td>\n",
       "      <td>NaN</td>\n",
       "      <td>NaN</td>\n",
       "      <td>NaN</td>\n",
       "      <td>NaN</td>\n",
       "      <td>NaN</td>\n",
       "      <td>NaN</td>\n",
       "      <td>NaN</td>\n",
       "      <td>...</td>\n",
       "      <td>-0.328767</td>\n",
       "      <td>NaN</td>\n",
       "      <td>NaN</td>\n",
       "      <td>NaN</td>\n",
       "      <td>NaN</td>\n",
       "      <td>NaN</td>\n",
       "      <td>NaN</td>\n",
       "      <td>NaN</td>\n",
       "      <td>NaN</td>\n",
       "      <td>NaN</td>\n",
       "    </tr>\n",
       "    <tr>\n",
       "      <th>3Vandoo</th>\n",
       "      <td>NaN</td>\n",
       "      <td>NaN</td>\n",
       "      <td>NaN</td>\n",
       "      <td>NaN</td>\n",
       "      <td>NaN</td>\n",
       "      <td>NaN</td>\n",
       "      <td>NaN</td>\n",
       "      <td>NaN</td>\n",
       "      <td>NaN</td>\n",
       "      <td>NaN</td>\n",
       "      <td>...</td>\n",
       "      <td>NaN</td>\n",
       "      <td>NaN</td>\n",
       "      <td>NaN</td>\n",
       "      <td>NaN</td>\n",
       "      <td>NaN</td>\n",
       "      <td>NaN</td>\n",
       "      <td>NaN</td>\n",
       "      <td>NaN</td>\n",
       "      <td>NaN</td>\n",
       "      <td>NaN</td>\n",
       "    </tr>\n",
       "  </tbody>\n",
       "</table>\n",
       "<p>5 rows × 2499 columns</p>\n",
       "</div>"
      ],
      "text/plain": [
       "beer_beerid         5         6      7      10     14     15     17     19     \\\n",
       "review_profilename                                                              \n",
       "05Harley              NaN       NaN    NaN    NaN    NaN    NaN    NaN    NaN   \n",
       "100floods             NaN       NaN    NaN    NaN    NaN    NaN    NaN    NaN   \n",
       "1759Girl              NaN       NaN    NaN    NaN    NaN    NaN    NaN    NaN   \n",
       "1fastz28              NaN -0.328767    NaN    NaN    NaN    NaN    NaN    NaN   \n",
       "3Vandoo               NaN       NaN    NaN    NaN    NaN    NaN    NaN    NaN   \n",
       "\n",
       "beer_beerid         30     31     ...     74123  74272  74321  74323  74390  \\\n",
       "review_profilename                ...                                         \n",
       "05Harley              NaN    NaN  ...       NaN    NaN    NaN    NaN    NaN   \n",
       "100floods             NaN    NaN  ...       NaN    NaN    NaN    NaN    NaN   \n",
       "1759Girl              NaN    NaN  ...       NaN    NaN    NaN    NaN    NaN   \n",
       "1fastz28              NaN    NaN  ... -0.328767    NaN    NaN    NaN    NaN   \n",
       "3Vandoo               NaN    NaN  ...       NaN    NaN    NaN    NaN    NaN   \n",
       "\n",
       "beer_beerid         74530  74548  74579  74986  75086  \n",
       "review_profilename                                     \n",
       "05Harley              NaN    NaN    NaN    NaN    NaN  \n",
       "100floods             NaN    NaN    NaN    NaN    NaN  \n",
       "1759Girl              NaN    NaN    NaN    NaN    NaN  \n",
       "1fastz28              NaN    NaN    NaN    NaN    NaN  \n",
       "3Vandoo               NaN    NaN    NaN    NaN    NaN  \n",
       "\n",
       "[5 rows x 2499 columns]"
      ]
     },
     "execution_count": 51,
     "metadata": {},
     "output_type": "execute_result"
    }
   ],
   "source": [
    "df_subtracted.head()"
   ]
  },
  {
   "cell_type": "markdown",
   "metadata": {},
   "source": [
    "### Finding cosine similarity"
   ]
  },
  {
   "cell_type": "code",
   "execution_count": 52,
   "metadata": {},
   "outputs": [
    {
     "name": "stdout",
     "output_type": "stream",
     "text": [
      "[[ 1.00000000e+00  0.00000000e+00  1.17250672e-02 ...  2.54610586e-03\n",
      "  -2.05031021e-02  4.16772739e-02]\n",
      " [ 0.00000000e+00  1.00000000e+00  0.00000000e+00 ...  1.40239711e-04\n",
      "   0.00000000e+00  1.43422518e-03]\n",
      " [ 1.17250672e-02  0.00000000e+00  1.00000000e+00 ...  1.03514029e-02\n",
      "  -1.28106623e-02  7.91775592e-03]\n",
      " ...\n",
      " [ 2.54610586e-03  1.40239711e-04  1.03514029e-02 ...  1.00000000e+00\n",
      "  -1.14322336e-04  3.28167366e-03]\n",
      " [-2.05031021e-02  0.00000000e+00 -1.28106623e-02 ... -1.14322336e-04\n",
      "   1.00000000e+00 -7.63036845e-03]\n",
      " [ 4.16772739e-02  1.43422518e-03  7.91775592e-03 ...  3.28167366e-03\n",
      "  -7.63036845e-03  1.00000000e+00]]\n"
     ]
    }
   ],
   "source": [
    "from sklearn.metrics.pairwise import pairwise_distances\n",
    "\n",
    "# User Similarity Matrix\n",
    "user_correlation = 1 - pairwise_distances(df_subtracted.fillna(0), metric='cosine')\n",
    "user_correlation[np.isnan(user_correlation)] = 0\n",
    "print(user_correlation)"
   ]
  },
  {
   "cell_type": "markdown",
   "metadata": {},
   "source": [
    "### Prediction"
   ]
  },
  {
   "cell_type": "raw",
   "metadata": {},
   "source": [
    "Doing the prediction for the users which are positively related with other users, and not the users which are negatively related as we are interested in the users which are more similar to the current users. So, ignoring the correlation for values less than 0."
   ]
  },
  {
   "cell_type": "code",
   "execution_count": 53,
   "metadata": {},
   "outputs": [
    {
     "data": {
      "text/plain": [
       "array([[1.00000000e+00, 0.00000000e+00, 1.17250672e-02, ...,\n",
       "        2.54610586e-03, 0.00000000e+00, 4.16772739e-02],\n",
       "       [0.00000000e+00, 1.00000000e+00, 0.00000000e+00, ...,\n",
       "        1.40239711e-04, 0.00000000e+00, 1.43422518e-03],\n",
       "       [1.17250672e-02, 0.00000000e+00, 1.00000000e+00, ...,\n",
       "        1.03514029e-02, 0.00000000e+00, 7.91775592e-03],\n",
       "       ...,\n",
       "       [2.54610586e-03, 1.40239711e-04, 1.03514029e-02, ...,\n",
       "        1.00000000e+00, 0.00000000e+00, 3.28167366e-03],\n",
       "       [0.00000000e+00, 0.00000000e+00, 0.00000000e+00, ...,\n",
       "        0.00000000e+00, 1.00000000e+00, 0.00000000e+00],\n",
       "       [4.16772739e-02, 1.43422518e-03, 7.91775592e-03, ...,\n",
       "        3.28167366e-03, 0.00000000e+00, 1.00000000e+00]])"
      ]
     },
     "execution_count": 53,
     "metadata": {},
     "output_type": "execute_result"
    }
   ],
   "source": [
    "user_correlation[user_correlation<0]=0\n",
    "user_correlation"
   ]
  },
  {
   "cell_type": "code",
   "execution_count": 54,
   "metadata": {},
   "outputs": [
    {
     "data": {
      "text/plain": [
       "array([[1.5412008 , 3.06140547, 2.59913994, ..., 1.75303543, 4.66305461,\n",
       "        1.88295881],\n",
       "       [0.55627045, 1.89631683, 1.20512222, ..., 0.85580317, 1.84271126,\n",
       "        1.85862727],\n",
       "       [3.84478978, 5.43820886, 5.54558689, ..., 2.00337734, 4.04028452,\n",
       "        3.14664239],\n",
       "       ...,\n",
       "       [3.23768293, 3.7048888 , 3.54290674, ..., 2.02290899, 3.24643872,\n",
       "        1.66253104],\n",
       "       [3.72064169, 3.84405526, 3.11655843, ..., 0.95201477, 2.97257084,\n",
       "        2.71683882],\n",
       "       [1.95361357, 5.18411112, 3.04186909, ..., 2.45504664, 4.59354631,\n",
       "        2.75815176]])"
      ]
     },
     "execution_count": 54,
     "metadata": {},
     "output_type": "execute_result"
    }
   ],
   "source": [
    "user_predicted_ratings = np.dot(user_correlation, beer_features.fillna(0))\n",
    "user_predicted_ratings"
   ]
  },
  {
   "cell_type": "code",
   "execution_count": 55,
   "metadata": {},
   "outputs": [
    {
     "data": {
      "text/plain": [
       "(2612, 2499)"
      ]
     },
     "execution_count": 55,
     "metadata": {},
     "output_type": "execute_result"
    }
   ],
   "source": [
    "user_predicted_ratings.shape"
   ]
  },
  {
   "cell_type": "code",
   "execution_count": 56,
   "metadata": {},
   "outputs": [
    {
     "data": {
      "text/html": [
       "<div>\n",
       "<style scoped>\n",
       "    .dataframe tbody tr th:only-of-type {\n",
       "        vertical-align: middle;\n",
       "    }\n",
       "\n",
       "    .dataframe tbody tr th {\n",
       "        vertical-align: top;\n",
       "    }\n",
       "\n",
       "    .dataframe thead th {\n",
       "        text-align: right;\n",
       "    }\n",
       "</style>\n",
       "<table border=\"1\" class=\"dataframe\">\n",
       "  <thead>\n",
       "    <tr style=\"text-align: right;\">\n",
       "      <th>beer_beerid</th>\n",
       "      <th>5</th>\n",
       "      <th>6</th>\n",
       "      <th>7</th>\n",
       "      <th>10</th>\n",
       "      <th>14</th>\n",
       "      <th>15</th>\n",
       "      <th>17</th>\n",
       "      <th>19</th>\n",
       "      <th>30</th>\n",
       "      <th>31</th>\n",
       "      <th>...</th>\n",
       "      <th>74123</th>\n",
       "      <th>74272</th>\n",
       "      <th>74321</th>\n",
       "      <th>74323</th>\n",
       "      <th>74390</th>\n",
       "      <th>74530</th>\n",
       "      <th>74548</th>\n",
       "      <th>74579</th>\n",
       "      <th>74986</th>\n",
       "      <th>75086</th>\n",
       "    </tr>\n",
       "    <tr>\n",
       "      <th>review_profilename</th>\n",
       "      <th></th>\n",
       "      <th></th>\n",
       "      <th></th>\n",
       "      <th></th>\n",
       "      <th></th>\n",
       "      <th></th>\n",
       "      <th></th>\n",
       "      <th></th>\n",
       "      <th></th>\n",
       "      <th></th>\n",
       "      <th></th>\n",
       "      <th></th>\n",
       "      <th></th>\n",
       "      <th></th>\n",
       "      <th></th>\n",
       "      <th></th>\n",
       "      <th></th>\n",
       "      <th></th>\n",
       "      <th></th>\n",
       "      <th></th>\n",
       "      <th></th>\n",
       "    </tr>\n",
       "  </thead>\n",
       "  <tbody>\n",
       "    <tr>\n",
       "      <th>05Harley</th>\n",
       "      <td>1.541201</td>\n",
       "      <td>3.061405</td>\n",
       "      <td>2.599140</td>\n",
       "      <td>3.860016</td>\n",
       "      <td>0.846330</td>\n",
       "      <td>0.964763</td>\n",
       "      <td>3.869859</td>\n",
       "      <td>1.796612</td>\n",
       "      <td>8.893440</td>\n",
       "      <td>3.739932</td>\n",
       "      <td>...</td>\n",
       "      <td>0.297018</td>\n",
       "      <td>2.122080</td>\n",
       "      <td>0.752679</td>\n",
       "      <td>1.797002</td>\n",
       "      <td>0.786752</td>\n",
       "      <td>1.121472</td>\n",
       "      <td>0.497334</td>\n",
       "      <td>1.753035</td>\n",
       "      <td>4.663055</td>\n",
       "      <td>1.882959</td>\n",
       "    </tr>\n",
       "    <tr>\n",
       "      <th>100floods</th>\n",
       "      <td>0.556270</td>\n",
       "      <td>1.896317</td>\n",
       "      <td>1.205122</td>\n",
       "      <td>2.664549</td>\n",
       "      <td>0.525415</td>\n",
       "      <td>0.266831</td>\n",
       "      <td>2.103230</td>\n",
       "      <td>0.665671</td>\n",
       "      <td>5.238718</td>\n",
       "      <td>3.007415</td>\n",
       "      <td>...</td>\n",
       "      <td>1.453978</td>\n",
       "      <td>0.964714</td>\n",
       "      <td>0.197242</td>\n",
       "      <td>0.673003</td>\n",
       "      <td>0.630650</td>\n",
       "      <td>0.440468</td>\n",
       "      <td>0.795797</td>\n",
       "      <td>0.855803</td>\n",
       "      <td>1.842711</td>\n",
       "      <td>1.858627</td>\n",
       "    </tr>\n",
       "    <tr>\n",
       "      <th>1759Girl</th>\n",
       "      <td>3.844790</td>\n",
       "      <td>5.438209</td>\n",
       "      <td>5.545587</td>\n",
       "      <td>8.411077</td>\n",
       "      <td>2.467383</td>\n",
       "      <td>1.699153</td>\n",
       "      <td>6.159479</td>\n",
       "      <td>5.541952</td>\n",
       "      <td>15.868927</td>\n",
       "      <td>10.113836</td>\n",
       "      <td>...</td>\n",
       "      <td>1.555277</td>\n",
       "      <td>1.728238</td>\n",
       "      <td>0.691703</td>\n",
       "      <td>2.971007</td>\n",
       "      <td>2.072526</td>\n",
       "      <td>0.774953</td>\n",
       "      <td>1.170068</td>\n",
       "      <td>2.003377</td>\n",
       "      <td>4.040285</td>\n",
       "      <td>3.146642</td>\n",
       "    </tr>\n",
       "    <tr>\n",
       "      <th>1fastz28</th>\n",
       "      <td>3.253311</td>\n",
       "      <td>0.000000</td>\n",
       "      <td>3.102545</td>\n",
       "      <td>6.277283</td>\n",
       "      <td>1.519632</td>\n",
       "      <td>2.108685</td>\n",
       "      <td>5.054095</td>\n",
       "      <td>3.425127</td>\n",
       "      <td>13.464202</td>\n",
       "      <td>8.967033</td>\n",
       "      <td>...</td>\n",
       "      <td>0.000000</td>\n",
       "      <td>1.327634</td>\n",
       "      <td>1.039783</td>\n",
       "      <td>1.902737</td>\n",
       "      <td>1.280279</td>\n",
       "      <td>1.647223</td>\n",
       "      <td>1.766525</td>\n",
       "      <td>1.770681</td>\n",
       "      <td>2.245913</td>\n",
       "      <td>2.027106</td>\n",
       "    </tr>\n",
       "    <tr>\n",
       "      <th>3Vandoo</th>\n",
       "      <td>3.479863</td>\n",
       "      <td>6.692216</td>\n",
       "      <td>5.346780</td>\n",
       "      <td>7.806611</td>\n",
       "      <td>2.522233</td>\n",
       "      <td>2.318417</td>\n",
       "      <td>4.233980</td>\n",
       "      <td>5.315379</td>\n",
       "      <td>12.961816</td>\n",
       "      <td>8.925130</td>\n",
       "      <td>...</td>\n",
       "      <td>1.412036</td>\n",
       "      <td>1.302747</td>\n",
       "      <td>0.993555</td>\n",
       "      <td>2.442810</td>\n",
       "      <td>1.313525</td>\n",
       "      <td>1.042667</td>\n",
       "      <td>0.903666</td>\n",
       "      <td>1.430598</td>\n",
       "      <td>2.931284</td>\n",
       "      <td>1.624225</td>\n",
       "    </tr>\n",
       "  </tbody>\n",
       "</table>\n",
       "<p>5 rows × 2499 columns</p>\n",
       "</div>"
      ],
      "text/plain": [
       "beer_beerid            5         6         7         10        14     \\\n",
       "review_profilename                                                     \n",
       "05Harley            1.541201  3.061405  2.599140  3.860016  0.846330   \n",
       "100floods           0.556270  1.896317  1.205122  2.664549  0.525415   \n",
       "1759Girl            3.844790  5.438209  5.545587  8.411077  2.467383   \n",
       "1fastz28            3.253311  0.000000  3.102545  6.277283  1.519632   \n",
       "3Vandoo             3.479863  6.692216  5.346780  7.806611  2.522233   \n",
       "\n",
       "beer_beerid            15        17        19         30         31     ...  \\\n",
       "review_profilename                                                      ...   \n",
       "05Harley            0.964763  3.869859  1.796612   8.893440   3.739932  ...   \n",
       "100floods           0.266831  2.103230  0.665671   5.238718   3.007415  ...   \n",
       "1759Girl            1.699153  6.159479  5.541952  15.868927  10.113836  ...   \n",
       "1fastz28            2.108685  5.054095  3.425127  13.464202   8.967033  ...   \n",
       "3Vandoo             2.318417  4.233980  5.315379  12.961816   8.925130  ...   \n",
       "\n",
       "beer_beerid            74123     74272     74321     74323     74390  \\\n",
       "review_profilename                                                     \n",
       "05Harley            0.297018  2.122080  0.752679  1.797002  0.786752   \n",
       "100floods           1.453978  0.964714  0.197242  0.673003  0.630650   \n",
       "1759Girl            1.555277  1.728238  0.691703  2.971007  2.072526   \n",
       "1fastz28            0.000000  1.327634  1.039783  1.902737  1.280279   \n",
       "3Vandoo             1.412036  1.302747  0.993555  2.442810  1.313525   \n",
       "\n",
       "beer_beerid            74530     74548     74579     74986     75086  \n",
       "review_profilename                                                    \n",
       "05Harley            1.121472  0.497334  1.753035  4.663055  1.882959  \n",
       "100floods           0.440468  0.795797  0.855803  1.842711  1.858627  \n",
       "1759Girl            0.774953  1.170068  2.003377  4.040285  3.146642  \n",
       "1fastz28            1.647223  1.766525  1.770681  2.245913  2.027106  \n",
       "3Vandoo             1.042667  0.903666  1.430598  2.931284  1.624225  \n",
       "\n",
       "[5 rows x 2499 columns]"
      ]
     },
     "execution_count": 56,
     "metadata": {},
     "output_type": "execute_result"
    }
   ],
   "source": [
    "user_final_rating = np.multiply(user_predicted_ratings,dummy_train)\n",
    "user_final_rating.head()"
   ]
  },
  {
   "cell_type": "markdown",
   "metadata": {},
   "source": [
    "### Finding the top 5 recommendation for the user 1"
   ]
  },
  {
   "cell_type": "code",
   "execution_count": 57,
   "metadata": {},
   "outputs": [
    {
     "data": {
      "text/plain": [
       "beer_beerid\n",
       "2093    11.516254\n",
       "92      11.012656\n",
       "1013    10.864803\n",
       "1093    10.569330\n",
       "1708    10.006062\n",
       "Name: 100floods, dtype: float64"
      ]
     },
     "execution_count": 57,
     "metadata": {},
     "output_type": "execute_result"
    }
   ],
   "source": [
    "user_final_rating.iloc[1].sort_values(ascending=False)[0:5]"
   ]
  },
  {
   "cell_type": "raw",
   "metadata": {},
   "source": [
    "3. Determine how similar the first 10 users are to each other and visualise it."
   ]
  },
  {
   "cell_type": "code",
   "execution_count": 58,
   "metadata": {},
   "outputs": [
    {
     "data": {
      "text/html": [
       "<div>\n",
       "<style scoped>\n",
       "    .dataframe tbody tr th:only-of-type {\n",
       "        vertical-align: middle;\n",
       "    }\n",
       "\n",
       "    .dataframe tbody tr th {\n",
       "        vertical-align: top;\n",
       "    }\n",
       "\n",
       "    .dataframe thead th {\n",
       "        text-align: right;\n",
       "    }\n",
       "</style>\n",
       "<table border=\"1\" class=\"dataframe\">\n",
       "  <thead>\n",
       "    <tr style=\"text-align: right;\">\n",
       "      <th>beer_beerid</th>\n",
       "      <th>5</th>\n",
       "      <th>6</th>\n",
       "      <th>7</th>\n",
       "      <th>10</th>\n",
       "      <th>14</th>\n",
       "      <th>15</th>\n",
       "      <th>17</th>\n",
       "      <th>19</th>\n",
       "      <th>30</th>\n",
       "      <th>31</th>\n",
       "    </tr>\n",
       "    <tr>\n",
       "      <th>review_profilename</th>\n",
       "      <th></th>\n",
       "      <th></th>\n",
       "      <th></th>\n",
       "      <th></th>\n",
       "      <th></th>\n",
       "      <th></th>\n",
       "      <th></th>\n",
       "      <th></th>\n",
       "      <th></th>\n",
       "      <th></th>\n",
       "    </tr>\n",
       "  </thead>\n",
       "  <tbody>\n",
       "    <tr>\n",
       "      <th>05Harley</th>\n",
       "      <td>1.541201</td>\n",
       "      <td>3.061405</td>\n",
       "      <td>2.599140</td>\n",
       "      <td>3.860016</td>\n",
       "      <td>0.846330</td>\n",
       "      <td>0.964763</td>\n",
       "      <td>3.869859</td>\n",
       "      <td>1.796612</td>\n",
       "      <td>8.893440</td>\n",
       "      <td>3.739932</td>\n",
       "    </tr>\n",
       "    <tr>\n",
       "      <th>100floods</th>\n",
       "      <td>0.556270</td>\n",
       "      <td>1.896317</td>\n",
       "      <td>1.205122</td>\n",
       "      <td>2.664549</td>\n",
       "      <td>0.525415</td>\n",
       "      <td>0.266831</td>\n",
       "      <td>2.103230</td>\n",
       "      <td>0.665671</td>\n",
       "      <td>5.238718</td>\n",
       "      <td>3.007415</td>\n",
       "    </tr>\n",
       "    <tr>\n",
       "      <th>1759Girl</th>\n",
       "      <td>3.844790</td>\n",
       "      <td>5.438209</td>\n",
       "      <td>5.545587</td>\n",
       "      <td>8.411077</td>\n",
       "      <td>2.467383</td>\n",
       "      <td>1.699153</td>\n",
       "      <td>6.159479</td>\n",
       "      <td>5.541952</td>\n",
       "      <td>15.868927</td>\n",
       "      <td>10.113836</td>\n",
       "    </tr>\n",
       "    <tr>\n",
       "      <th>1fastz28</th>\n",
       "      <td>3.253311</td>\n",
       "      <td>0.000000</td>\n",
       "      <td>3.102545</td>\n",
       "      <td>6.277283</td>\n",
       "      <td>1.519632</td>\n",
       "      <td>2.108685</td>\n",
       "      <td>5.054095</td>\n",
       "      <td>3.425127</td>\n",
       "      <td>13.464202</td>\n",
       "      <td>8.967033</td>\n",
       "    </tr>\n",
       "    <tr>\n",
       "      <th>3Vandoo</th>\n",
       "      <td>3.479863</td>\n",
       "      <td>6.692216</td>\n",
       "      <td>5.346780</td>\n",
       "      <td>7.806611</td>\n",
       "      <td>2.522233</td>\n",
       "      <td>2.318417</td>\n",
       "      <td>4.233980</td>\n",
       "      <td>5.315379</td>\n",
       "      <td>12.961816</td>\n",
       "      <td>8.925130</td>\n",
       "    </tr>\n",
       "    <tr>\n",
       "      <th>4000qtrap</th>\n",
       "      <td>2.036612</td>\n",
       "      <td>4.051737</td>\n",
       "      <td>2.381776</td>\n",
       "      <td>4.744252</td>\n",
       "      <td>1.243674</td>\n",
       "      <td>1.064103</td>\n",
       "      <td>4.092787</td>\n",
       "      <td>2.907483</td>\n",
       "      <td>8.528708</td>\n",
       "      <td>5.104207</td>\n",
       "    </tr>\n",
       "    <tr>\n",
       "      <th>4DAloveofSTOUT</th>\n",
       "      <td>0.890658</td>\n",
       "      <td>1.612539</td>\n",
       "      <td>1.226284</td>\n",
       "      <td>1.587476</td>\n",
       "      <td>0.436574</td>\n",
       "      <td>0.455201</td>\n",
       "      <td>1.723835</td>\n",
       "      <td>2.021510</td>\n",
       "      <td>4.214201</td>\n",
       "      <td>1.648652</td>\n",
       "    </tr>\n",
       "    <tr>\n",
       "      <th>51mmz0rz</th>\n",
       "      <td>2.029437</td>\n",
       "      <td>3.226161</td>\n",
       "      <td>3.002029</td>\n",
       "      <td>5.466977</td>\n",
       "      <td>0.695186</td>\n",
       "      <td>2.200638</td>\n",
       "      <td>3.073277</td>\n",
       "      <td>3.949412</td>\n",
       "      <td>8.671460</td>\n",
       "      <td>8.118660</td>\n",
       "    </tr>\n",
       "    <tr>\n",
       "      <th>7ways</th>\n",
       "      <td>1.218759</td>\n",
       "      <td>2.285697</td>\n",
       "      <td>3.010629</td>\n",
       "      <td>4.475187</td>\n",
       "      <td>0.366593</td>\n",
       "      <td>1.748725</td>\n",
       "      <td>3.349708</td>\n",
       "      <td>2.338164</td>\n",
       "      <td>8.152760</td>\n",
       "      <td>3.538500</td>\n",
       "    </tr>\n",
       "    <tr>\n",
       "      <th>99bottles</th>\n",
       "      <td>4.846201</td>\n",
       "      <td>7.487660</td>\n",
       "      <td>5.041422</td>\n",
       "      <td>10.064961</td>\n",
       "      <td>2.743616</td>\n",
       "      <td>2.978518</td>\n",
       "      <td>9.090591</td>\n",
       "      <td>6.574742</td>\n",
       "      <td>16.564600</td>\n",
       "      <td>12.232476</td>\n",
       "    </tr>\n",
       "  </tbody>\n",
       "</table>\n",
       "</div>"
      ],
      "text/plain": [
       "beer_beerid               5         6         7          10        14  \\\n",
       "review_profilename                                                      \n",
       "05Harley            1.541201  3.061405  2.599140   3.860016  0.846330   \n",
       "100floods           0.556270  1.896317  1.205122   2.664549  0.525415   \n",
       "1759Girl            3.844790  5.438209  5.545587   8.411077  2.467383   \n",
       "1fastz28            3.253311  0.000000  3.102545   6.277283  1.519632   \n",
       "3Vandoo             3.479863  6.692216  5.346780   7.806611  2.522233   \n",
       "4000qtrap           2.036612  4.051737  2.381776   4.744252  1.243674   \n",
       "4DAloveofSTOUT      0.890658  1.612539  1.226284   1.587476  0.436574   \n",
       "51mmz0rz            2.029437  3.226161  3.002029   5.466977  0.695186   \n",
       "7ways               1.218759  2.285697  3.010629   4.475187  0.366593   \n",
       "99bottles           4.846201  7.487660  5.041422  10.064961  2.743616   \n",
       "\n",
       "beer_beerid               15        17        19         30         31  \n",
       "review_profilename                                                      \n",
       "05Harley            0.964763  3.869859  1.796612   8.893440   3.739932  \n",
       "100floods           0.266831  2.103230  0.665671   5.238718   3.007415  \n",
       "1759Girl            1.699153  6.159479  5.541952  15.868927  10.113836  \n",
       "1fastz28            2.108685  5.054095  3.425127  13.464202   8.967033  \n",
       "3Vandoo             2.318417  4.233980  5.315379  12.961816   8.925130  \n",
       "4000qtrap           1.064103  4.092787  2.907483   8.528708   5.104207  \n",
       "4DAloveofSTOUT      0.455201  1.723835  2.021510   4.214201   1.648652  \n",
       "51mmz0rz            2.200638  3.073277  3.949412   8.671460   8.118660  \n",
       "7ways               1.748725  3.349708  2.338164   8.152760   3.538500  \n",
       "99bottles           2.978518  9.090591  6.574742  16.564600  12.232476  "
      ]
     },
     "execution_count": 58,
     "metadata": {},
     "output_type": "execute_result"
    }
   ],
   "source": [
    "top_10_user = user_final_rating.iloc[:10,:10]\n",
    "top_10_user"
   ]
  },
  {
   "cell_type": "code",
   "execution_count": 59,
   "metadata": {},
   "outputs": [
    {
     "data": {
      "text/html": [
       "<div>\n",
       "<style scoped>\n",
       "    .dataframe tbody tr th:only-of-type {\n",
       "        vertical-align: middle;\n",
       "    }\n",
       "\n",
       "    .dataframe tbody tr th {\n",
       "        vertical-align: top;\n",
       "    }\n",
       "\n",
       "    .dataframe thead th {\n",
       "        text-align: right;\n",
       "    }\n",
       "</style>\n",
       "<table border=\"1\" class=\"dataframe\">\n",
       "  <thead>\n",
       "    <tr style=\"text-align: right;\">\n",
       "      <th>review_profilename</th>\n",
       "      <th>05Harley</th>\n",
       "      <th>100floods</th>\n",
       "      <th>1759Girl</th>\n",
       "      <th>1fastz28</th>\n",
       "      <th>3Vandoo</th>\n",
       "      <th>4000qtrap</th>\n",
       "      <th>4DAloveofSTOUT</th>\n",
       "      <th>51mmz0rz</th>\n",
       "      <th>7ways</th>\n",
       "      <th>99bottles</th>\n",
       "    </tr>\n",
       "    <tr>\n",
       "      <th>beer_beerid</th>\n",
       "      <th></th>\n",
       "      <th></th>\n",
       "      <th></th>\n",
       "      <th></th>\n",
       "      <th></th>\n",
       "      <th></th>\n",
       "      <th></th>\n",
       "      <th></th>\n",
       "      <th></th>\n",
       "      <th></th>\n",
       "    </tr>\n",
       "  </thead>\n",
       "  <tbody>\n",
       "    <tr>\n",
       "      <th>5</th>\n",
       "      <td>1.541201</td>\n",
       "      <td>0.556270</td>\n",
       "      <td>3.844790</td>\n",
       "      <td>3.253311</td>\n",
       "      <td>3.479863</td>\n",
       "      <td>2.036612</td>\n",
       "      <td>0.890658</td>\n",
       "      <td>2.029437</td>\n",
       "      <td>1.218759</td>\n",
       "      <td>4.846201</td>\n",
       "    </tr>\n",
       "    <tr>\n",
       "      <th>6</th>\n",
       "      <td>3.061405</td>\n",
       "      <td>1.896317</td>\n",
       "      <td>5.438209</td>\n",
       "      <td>0.000000</td>\n",
       "      <td>6.692216</td>\n",
       "      <td>4.051737</td>\n",
       "      <td>1.612539</td>\n",
       "      <td>3.226161</td>\n",
       "      <td>2.285697</td>\n",
       "      <td>7.487660</td>\n",
       "    </tr>\n",
       "    <tr>\n",
       "      <th>7</th>\n",
       "      <td>2.599140</td>\n",
       "      <td>1.205122</td>\n",
       "      <td>5.545587</td>\n",
       "      <td>3.102545</td>\n",
       "      <td>5.346780</td>\n",
       "      <td>2.381776</td>\n",
       "      <td>1.226284</td>\n",
       "      <td>3.002029</td>\n",
       "      <td>3.010629</td>\n",
       "      <td>5.041422</td>\n",
       "    </tr>\n",
       "    <tr>\n",
       "      <th>10</th>\n",
       "      <td>3.860016</td>\n",
       "      <td>2.664549</td>\n",
       "      <td>8.411077</td>\n",
       "      <td>6.277283</td>\n",
       "      <td>7.806611</td>\n",
       "      <td>4.744252</td>\n",
       "      <td>1.587476</td>\n",
       "      <td>5.466977</td>\n",
       "      <td>4.475187</td>\n",
       "      <td>10.064961</td>\n",
       "    </tr>\n",
       "    <tr>\n",
       "      <th>14</th>\n",
       "      <td>0.846330</td>\n",
       "      <td>0.525415</td>\n",
       "      <td>2.467383</td>\n",
       "      <td>1.519632</td>\n",
       "      <td>2.522233</td>\n",
       "      <td>1.243674</td>\n",
       "      <td>0.436574</td>\n",
       "      <td>0.695186</td>\n",
       "      <td>0.366593</td>\n",
       "      <td>2.743616</td>\n",
       "    </tr>\n",
       "    <tr>\n",
       "      <th>15</th>\n",
       "      <td>0.964763</td>\n",
       "      <td>0.266831</td>\n",
       "      <td>1.699153</td>\n",
       "      <td>2.108685</td>\n",
       "      <td>2.318417</td>\n",
       "      <td>1.064103</td>\n",
       "      <td>0.455201</td>\n",
       "      <td>2.200638</td>\n",
       "      <td>1.748725</td>\n",
       "      <td>2.978518</td>\n",
       "    </tr>\n",
       "    <tr>\n",
       "      <th>17</th>\n",
       "      <td>3.869859</td>\n",
       "      <td>2.103230</td>\n",
       "      <td>6.159479</td>\n",
       "      <td>5.054095</td>\n",
       "      <td>4.233980</td>\n",
       "      <td>4.092787</td>\n",
       "      <td>1.723835</td>\n",
       "      <td>3.073277</td>\n",
       "      <td>3.349708</td>\n",
       "      <td>9.090591</td>\n",
       "    </tr>\n",
       "    <tr>\n",
       "      <th>19</th>\n",
       "      <td>1.796612</td>\n",
       "      <td>0.665671</td>\n",
       "      <td>5.541952</td>\n",
       "      <td>3.425127</td>\n",
       "      <td>5.315379</td>\n",
       "      <td>2.907483</td>\n",
       "      <td>2.021510</td>\n",
       "      <td>3.949412</td>\n",
       "      <td>2.338164</td>\n",
       "      <td>6.574742</td>\n",
       "    </tr>\n",
       "    <tr>\n",
       "      <th>30</th>\n",
       "      <td>8.893440</td>\n",
       "      <td>5.238718</td>\n",
       "      <td>15.868927</td>\n",
       "      <td>13.464202</td>\n",
       "      <td>12.961816</td>\n",
       "      <td>8.528708</td>\n",
       "      <td>4.214201</td>\n",
       "      <td>8.671460</td>\n",
       "      <td>8.152760</td>\n",
       "      <td>16.564600</td>\n",
       "    </tr>\n",
       "    <tr>\n",
       "      <th>31</th>\n",
       "      <td>3.739932</td>\n",
       "      <td>3.007415</td>\n",
       "      <td>10.113836</td>\n",
       "      <td>8.967033</td>\n",
       "      <td>8.925130</td>\n",
       "      <td>5.104207</td>\n",
       "      <td>1.648652</td>\n",
       "      <td>8.118660</td>\n",
       "      <td>3.538500</td>\n",
       "      <td>12.232476</td>\n",
       "    </tr>\n",
       "  </tbody>\n",
       "</table>\n",
       "</div>"
      ],
      "text/plain": [
       "review_profilename  05Harley  100floods   1759Girl   1fastz28    3Vandoo  \\\n",
       "beer_beerid                                                                \n",
       "5                   1.541201   0.556270   3.844790   3.253311   3.479863   \n",
       "6                   3.061405   1.896317   5.438209   0.000000   6.692216   \n",
       "7                   2.599140   1.205122   5.545587   3.102545   5.346780   \n",
       "10                  3.860016   2.664549   8.411077   6.277283   7.806611   \n",
       "14                  0.846330   0.525415   2.467383   1.519632   2.522233   \n",
       "15                  0.964763   0.266831   1.699153   2.108685   2.318417   \n",
       "17                  3.869859   2.103230   6.159479   5.054095   4.233980   \n",
       "19                  1.796612   0.665671   5.541952   3.425127   5.315379   \n",
       "30                  8.893440   5.238718  15.868927  13.464202  12.961816   \n",
       "31                  3.739932   3.007415  10.113836   8.967033   8.925130   \n",
       "\n",
       "review_profilename  4000qtrap  4DAloveofSTOUT  51mmz0rz     7ways  99bottles  \n",
       "beer_beerid                                                                   \n",
       "5                    2.036612        0.890658  2.029437  1.218759   4.846201  \n",
       "6                    4.051737        1.612539  3.226161  2.285697   7.487660  \n",
       "7                    2.381776        1.226284  3.002029  3.010629   5.041422  \n",
       "10                   4.744252        1.587476  5.466977  4.475187  10.064961  \n",
       "14                   1.243674        0.436574  0.695186  0.366593   2.743616  \n",
       "15                   1.064103        0.455201  2.200638  1.748725   2.978518  \n",
       "17                   4.092787        1.723835  3.073277  3.349708   9.090591  \n",
       "19                   2.907483        2.021510  3.949412  2.338164   6.574742  \n",
       "30                   8.528708        4.214201  8.671460  8.152760  16.564600  \n",
       "31                   5.104207        1.648652  8.118660  3.538500  12.232476  "
      ]
     },
     "execution_count": 59,
     "metadata": {},
     "output_type": "execute_result"
    }
   ],
   "source": [
    "top_10_user_T = top_10_user.transpose()\n",
    "top_10_user_T"
   ]
  },
  {
   "cell_type": "code",
   "execution_count": 60,
   "metadata": {},
   "outputs": [
    {
     "data": {
      "image/png": "[encoded data removed]",
      "text/plain": [
       "<Figure size 864x576 with 2 Axes>"
      ]
     },
     "metadata": {
      "needs_background": "light"
     },
     "output_type": "display_data"
    }
   ],
   "source": [
    "plt.figure(figsize=(12,8))\n",
    "sns.heatmap(top_10_user.T.corr(method ='pearson'),annot=True)\n",
    "plt.show()"
   ]
  },
  {
   "cell_type": "markdown",
   "metadata": {},
   "source": [
    "### Item Based Similarity"
   ]
  },
  {
   "cell_type": "raw",
   "metadata": {},
   "source": [
    "Using Correlation\n",
    "\n",
    "Taking the transpose of the rating matrix to normalize the rating around the mean for different beer ID. In the user based similarity, we had taken mean for each user intead of each beer."
   ]
  },
  {
   "cell_type": "code",
   "execution_count": 61,
   "metadata": {},
   "outputs": [
    {
     "data": {
      "text/html": [
       "<div>\n",
       "<style scoped>\n",
       "    .dataframe tbody tr th:only-of-type {\n",
       "        vertical-align: middle;\n",
       "    }\n",
       "\n",
       "    .dataframe tbody tr th {\n",
       "        vertical-align: top;\n",
       "    }\n",
       "\n",
       "    .dataframe thead th {\n",
       "        text-align: right;\n",
       "    }\n",
       "</style>\n",
       "<table border=\"1\" class=\"dataframe\">\n",
       "  <thead>\n",
       "    <tr style=\"text-align: right;\">\n",
       "      <th>review_profilename</th>\n",
       "      <th>05Harley</th>\n",
       "      <th>100floods</th>\n",
       "      <th>1759Girl</th>\n",
       "      <th>1fastz28</th>\n",
       "      <th>3Vandoo</th>\n",
       "      <th>4000qtrap</th>\n",
       "      <th>4DAloveofSTOUT</th>\n",
       "      <th>51mmz0rz</th>\n",
       "      <th>7ways</th>\n",
       "      <th>99bottles</th>\n",
       "      <th>...</th>\n",
       "      <th>zeledonia</th>\n",
       "      <th>zerk</th>\n",
       "      <th>zerofear13</th>\n",
       "      <th>zhanson88</th>\n",
       "      <th>zimm421</th>\n",
       "      <th>zjungleist</th>\n",
       "      <th>zoolzoo</th>\n",
       "      <th>zoso1967</th>\n",
       "      <th>zoso493</th>\n",
       "      <th>zrab11</th>\n",
       "    </tr>\n",
       "    <tr>\n",
       "      <th>beer_beerid</th>\n",
       "      <th></th>\n",
       "      <th></th>\n",
       "      <th></th>\n",
       "      <th></th>\n",
       "      <th></th>\n",
       "      <th></th>\n",
       "      <th></th>\n",
       "      <th></th>\n",
       "      <th></th>\n",
       "      <th></th>\n",
       "      <th></th>\n",
       "      <th></th>\n",
       "      <th></th>\n",
       "      <th></th>\n",
       "      <th></th>\n",
       "      <th></th>\n",
       "      <th></th>\n",
       "      <th></th>\n",
       "      <th></th>\n",
       "      <th></th>\n",
       "      <th></th>\n",
       "    </tr>\n",
       "  </thead>\n",
       "  <tbody>\n",
       "    <tr>\n",
       "      <th>5</th>\n",
       "      <td>NaN</td>\n",
       "      <td>NaN</td>\n",
       "      <td>NaN</td>\n",
       "      <td>NaN</td>\n",
       "      <td>NaN</td>\n",
       "      <td>NaN</td>\n",
       "      <td>NaN</td>\n",
       "      <td>NaN</td>\n",
       "      <td>NaN</td>\n",
       "      <td>NaN</td>\n",
       "      <td>...</td>\n",
       "      <td>NaN</td>\n",
       "      <td>NaN</td>\n",
       "      <td>NaN</td>\n",
       "      <td>NaN</td>\n",
       "      <td>NaN</td>\n",
       "      <td>NaN</td>\n",
       "      <td>NaN</td>\n",
       "      <td>NaN</td>\n",
       "      <td>NaN</td>\n",
       "      <td>NaN</td>\n",
       "    </tr>\n",
       "    <tr>\n",
       "      <th>6</th>\n",
       "      <td>NaN</td>\n",
       "      <td>NaN</td>\n",
       "      <td>NaN</td>\n",
       "      <td>3.5</td>\n",
       "      <td>NaN</td>\n",
       "      <td>NaN</td>\n",
       "      <td>NaN</td>\n",
       "      <td>NaN</td>\n",
       "      <td>NaN</td>\n",
       "      <td>NaN</td>\n",
       "      <td>...</td>\n",
       "      <td>NaN</td>\n",
       "      <td>NaN</td>\n",
       "      <td>NaN</td>\n",
       "      <td>NaN</td>\n",
       "      <td>NaN</td>\n",
       "      <td>NaN</td>\n",
       "      <td>NaN</td>\n",
       "      <td>NaN</td>\n",
       "      <td>NaN</td>\n",
       "      <td>NaN</td>\n",
       "    </tr>\n",
       "    <tr>\n",
       "      <th>7</th>\n",
       "      <td>NaN</td>\n",
       "      <td>NaN</td>\n",
       "      <td>NaN</td>\n",
       "      <td>NaN</td>\n",
       "      <td>NaN</td>\n",
       "      <td>NaN</td>\n",
       "      <td>NaN</td>\n",
       "      <td>NaN</td>\n",
       "      <td>NaN</td>\n",
       "      <td>NaN</td>\n",
       "      <td>...</td>\n",
       "      <td>NaN</td>\n",
       "      <td>NaN</td>\n",
       "      <td>3.0</td>\n",
       "      <td>NaN</td>\n",
       "      <td>NaN</td>\n",
       "      <td>NaN</td>\n",
       "      <td>NaN</td>\n",
       "      <td>NaN</td>\n",
       "      <td>NaN</td>\n",
       "      <td>NaN</td>\n",
       "    </tr>\n",
       "    <tr>\n",
       "      <th>10</th>\n",
       "      <td>NaN</td>\n",
       "      <td>NaN</td>\n",
       "      <td>NaN</td>\n",
       "      <td>NaN</td>\n",
       "      <td>NaN</td>\n",
       "      <td>NaN</td>\n",
       "      <td>NaN</td>\n",
       "      <td>NaN</td>\n",
       "      <td>NaN</td>\n",
       "      <td>NaN</td>\n",
       "      <td>...</td>\n",
       "      <td>NaN</td>\n",
       "      <td>NaN</td>\n",
       "      <td>NaN</td>\n",
       "      <td>NaN</td>\n",
       "      <td>NaN</td>\n",
       "      <td>NaN</td>\n",
       "      <td>NaN</td>\n",
       "      <td>NaN</td>\n",
       "      <td>NaN</td>\n",
       "      <td>NaN</td>\n",
       "    </tr>\n",
       "    <tr>\n",
       "      <th>14</th>\n",
       "      <td>NaN</td>\n",
       "      <td>NaN</td>\n",
       "      <td>NaN</td>\n",
       "      <td>NaN</td>\n",
       "      <td>NaN</td>\n",
       "      <td>NaN</td>\n",
       "      <td>NaN</td>\n",
       "      <td>NaN</td>\n",
       "      <td>NaN</td>\n",
       "      <td>NaN</td>\n",
       "      <td>...</td>\n",
       "      <td>NaN</td>\n",
       "      <td>NaN</td>\n",
       "      <td>NaN</td>\n",
       "      <td>NaN</td>\n",
       "      <td>NaN</td>\n",
       "      <td>NaN</td>\n",
       "      <td>NaN</td>\n",
       "      <td>NaN</td>\n",
       "      <td>NaN</td>\n",
       "      <td>NaN</td>\n",
       "    </tr>\n",
       "  </tbody>\n",
       "</table>\n",
       "<p>5 rows × 2612 columns</p>\n",
       "</div>"
      ],
      "text/plain": [
       "review_profilename  05Harley  100floods  1759Girl  1fastz28  3Vandoo  \\\n",
       "beer_beerid                                                            \n",
       "5                        NaN        NaN       NaN       NaN      NaN   \n",
       "6                        NaN        NaN       NaN       3.5      NaN   \n",
       "7                        NaN        NaN       NaN       NaN      NaN   \n",
       "10                       NaN        NaN       NaN       NaN      NaN   \n",
       "14                       NaN        NaN       NaN       NaN      NaN   \n",
       "\n",
       "review_profilename  4000qtrap  4DAloveofSTOUT  51mmz0rz  7ways  99bottles  \\\n",
       "beer_beerid                                                                 \n",
       "5                         NaN             NaN       NaN    NaN        NaN   \n",
       "6                         NaN             NaN       NaN    NaN        NaN   \n",
       "7                         NaN             NaN       NaN    NaN        NaN   \n",
       "10                        NaN             NaN       NaN    NaN        NaN   \n",
       "14                        NaN             NaN       NaN    NaN        NaN   \n",
       "\n",
       "review_profilename  ...  zeledonia  zerk  zerofear13  zhanson88  zimm421  \\\n",
       "beer_beerid         ...                                                    \n",
       "5                   ...        NaN   NaN         NaN        NaN      NaN   \n",
       "6                   ...        NaN   NaN         NaN        NaN      NaN   \n",
       "7                   ...        NaN   NaN         3.0        NaN      NaN   \n",
       "10                  ...        NaN   NaN         NaN        NaN      NaN   \n",
       "14                  ...        NaN   NaN         NaN        NaN      NaN   \n",
       "\n",
       "review_profilename  zjungleist  zoolzoo  zoso1967  zoso493  zrab11  \n",
       "beer_beerid                                                         \n",
       "5                          NaN      NaN       NaN      NaN     NaN  \n",
       "6                          NaN      NaN       NaN      NaN     NaN  \n",
       "7                          NaN      NaN       NaN      NaN     NaN  \n",
       "10                         NaN      NaN       NaN      NaN     NaN  \n",
       "14                         NaN      NaN       NaN      NaN     NaN  \n",
       "\n",
       "[5 rows x 2612 columns]"
      ]
     },
     "execution_count": 61,
     "metadata": {},
     "output_type": "execute_result"
    }
   ],
   "source": [
    "beer_features = train.pivot(\n",
    "    index='review_profilename',\n",
    "    columns='beer_beerid',\n",
    "    values='rating'\n",
    ").T\n",
    "\n",
    "beer_features.head()"
   ]
  },
  {
   "cell_type": "code",
   "execution_count": 62,
   "metadata": {},
   "outputs": [],
   "source": [
    "mean = np.nanmean(beer_features, axis=1)\n",
    "df_subtracted = (beer_features.T-mean).T"
   ]
  },
  {
   "cell_type": "code",
   "execution_count": 63,
   "metadata": {},
   "outputs": [
    {
     "data": {
      "text/html": [
       "<div>\n",
       "<style scoped>\n",
       "    .dataframe tbody tr th:only-of-type {\n",
       "        vertical-align: middle;\n",
       "    }\n",
       "\n",
       "    .dataframe tbody tr th {\n",
       "        vertical-align: top;\n",
       "    }\n",
       "\n",
       "    .dataframe thead th {\n",
       "        text-align: right;\n",
       "    }\n",
       "</style>\n",
       "<table border=\"1\" class=\"dataframe\">\n",
       "  <thead>\n",
       "    <tr style=\"text-align: right;\">\n",
       "      <th>review_profilename</th>\n",
       "      <th>05Harley</th>\n",
       "      <th>100floods</th>\n",
       "      <th>1759Girl</th>\n",
       "      <th>1fastz28</th>\n",
       "      <th>3Vandoo</th>\n",
       "      <th>4000qtrap</th>\n",
       "      <th>4DAloveofSTOUT</th>\n",
       "      <th>51mmz0rz</th>\n",
       "      <th>7ways</th>\n",
       "      <th>99bottles</th>\n",
       "      <th>...</th>\n",
       "      <th>zeledonia</th>\n",
       "      <th>zerk</th>\n",
       "      <th>zerofear13</th>\n",
       "      <th>zhanson88</th>\n",
       "      <th>zimm421</th>\n",
       "      <th>zjungleist</th>\n",
       "      <th>zoolzoo</th>\n",
       "      <th>zoso1967</th>\n",
       "      <th>zoso493</th>\n",
       "      <th>zrab11</th>\n",
       "    </tr>\n",
       "    <tr>\n",
       "      <th>beer_beerid</th>\n",
       "      <th></th>\n",
       "      <th></th>\n",
       "      <th></th>\n",
       "      <th></th>\n",
       "      <th></th>\n",
       "      <th></th>\n",
       "      <th></th>\n",
       "      <th></th>\n",
       "      <th></th>\n",
       "      <th></th>\n",
       "      <th></th>\n",
       "      <th></th>\n",
       "      <th></th>\n",
       "      <th></th>\n",
       "      <th></th>\n",
       "      <th></th>\n",
       "      <th></th>\n",
       "      <th></th>\n",
       "      <th></th>\n",
       "      <th></th>\n",
       "      <th></th>\n",
       "    </tr>\n",
       "  </thead>\n",
       "  <tbody>\n",
       "    <tr>\n",
       "      <th>5</th>\n",
       "      <td>NaN</td>\n",
       "      <td>NaN</td>\n",
       "      <td>NaN</td>\n",
       "      <td>NaN</td>\n",
       "      <td>NaN</td>\n",
       "      <td>NaN</td>\n",
       "      <td>NaN</td>\n",
       "      <td>NaN</td>\n",
       "      <td>NaN</td>\n",
       "      <td>NaN</td>\n",
       "      <td>...</td>\n",
       "      <td>NaN</td>\n",
       "      <td>NaN</td>\n",
       "      <td>NaN</td>\n",
       "      <td>NaN</td>\n",
       "      <td>NaN</td>\n",
       "      <td>NaN</td>\n",
       "      <td>NaN</td>\n",
       "      <td>NaN</td>\n",
       "      <td>NaN</td>\n",
       "      <td>NaN</td>\n",
       "    </tr>\n",
       "    <tr>\n",
       "      <th>6</th>\n",
       "      <td>NaN</td>\n",
       "      <td>NaN</td>\n",
       "      <td>NaN</td>\n",
       "      <td>-0.166667</td>\n",
       "      <td>NaN</td>\n",
       "      <td>NaN</td>\n",
       "      <td>NaN</td>\n",
       "      <td>NaN</td>\n",
       "      <td>NaN</td>\n",
       "      <td>NaN</td>\n",
       "      <td>...</td>\n",
       "      <td>NaN</td>\n",
       "      <td>NaN</td>\n",
       "      <td>NaN</td>\n",
       "      <td>NaN</td>\n",
       "      <td>NaN</td>\n",
       "      <td>NaN</td>\n",
       "      <td>NaN</td>\n",
       "      <td>NaN</td>\n",
       "      <td>NaN</td>\n",
       "      <td>NaN</td>\n",
       "    </tr>\n",
       "    <tr>\n",
       "      <th>7</th>\n",
       "      <td>NaN</td>\n",
       "      <td>NaN</td>\n",
       "      <td>NaN</td>\n",
       "      <td>NaN</td>\n",
       "      <td>NaN</td>\n",
       "      <td>NaN</td>\n",
       "      <td>NaN</td>\n",
       "      <td>NaN</td>\n",
       "      <td>NaN</td>\n",
       "      <td>NaN</td>\n",
       "      <td>...</td>\n",
       "      <td>NaN</td>\n",
       "      <td>NaN</td>\n",
       "      <td>-0.161111</td>\n",
       "      <td>NaN</td>\n",
       "      <td>NaN</td>\n",
       "      <td>NaN</td>\n",
       "      <td>NaN</td>\n",
       "      <td>NaN</td>\n",
       "      <td>NaN</td>\n",
       "      <td>NaN</td>\n",
       "    </tr>\n",
       "    <tr>\n",
       "      <th>10</th>\n",
       "      <td>NaN</td>\n",
       "      <td>NaN</td>\n",
       "      <td>NaN</td>\n",
       "      <td>NaN</td>\n",
       "      <td>NaN</td>\n",
       "      <td>NaN</td>\n",
       "      <td>NaN</td>\n",
       "      <td>NaN</td>\n",
       "      <td>NaN</td>\n",
       "      <td>NaN</td>\n",
       "      <td>...</td>\n",
       "      <td>NaN</td>\n",
       "      <td>NaN</td>\n",
       "      <td>NaN</td>\n",
       "      <td>NaN</td>\n",
       "      <td>NaN</td>\n",
       "      <td>NaN</td>\n",
       "      <td>NaN</td>\n",
       "      <td>NaN</td>\n",
       "      <td>NaN</td>\n",
       "      <td>NaN</td>\n",
       "    </tr>\n",
       "    <tr>\n",
       "      <th>14</th>\n",
       "      <td>NaN</td>\n",
       "      <td>NaN</td>\n",
       "      <td>NaN</td>\n",
       "      <td>NaN</td>\n",
       "      <td>NaN</td>\n",
       "      <td>NaN</td>\n",
       "      <td>NaN</td>\n",
       "      <td>NaN</td>\n",
       "      <td>NaN</td>\n",
       "      <td>NaN</td>\n",
       "      <td>...</td>\n",
       "      <td>NaN</td>\n",
       "      <td>NaN</td>\n",
       "      <td>NaN</td>\n",
       "      <td>NaN</td>\n",
       "      <td>NaN</td>\n",
       "      <td>NaN</td>\n",
       "      <td>NaN</td>\n",
       "      <td>NaN</td>\n",
       "      <td>NaN</td>\n",
       "      <td>NaN</td>\n",
       "    </tr>\n",
       "  </tbody>\n",
       "</table>\n",
       "<p>5 rows × 2612 columns</p>\n",
       "</div>"
      ],
      "text/plain": [
       "review_profilename  05Harley  100floods  1759Girl  1fastz28  3Vandoo  \\\n",
       "beer_beerid                                                            \n",
       "5                        NaN        NaN       NaN       NaN      NaN   \n",
       "6                        NaN        NaN       NaN -0.166667      NaN   \n",
       "7                        NaN        NaN       NaN       NaN      NaN   \n",
       "10                       NaN        NaN       NaN       NaN      NaN   \n",
       "14                       NaN        NaN       NaN       NaN      NaN   \n",
       "\n",
       "review_profilename  4000qtrap  4DAloveofSTOUT  51mmz0rz  7ways  99bottles  \\\n",
       "beer_beerid                                                                 \n",
       "5                         NaN             NaN       NaN    NaN        NaN   \n",
       "6                         NaN             NaN       NaN    NaN        NaN   \n",
       "7                         NaN             NaN       NaN    NaN        NaN   \n",
       "10                        NaN             NaN       NaN    NaN        NaN   \n",
       "14                        NaN             NaN       NaN    NaN        NaN   \n",
       "\n",
       "review_profilename  ...  zeledonia  zerk  zerofear13  zhanson88  zimm421  \\\n",
       "beer_beerid         ...                                                    \n",
       "5                   ...        NaN   NaN         NaN        NaN      NaN   \n",
       "6                   ...        NaN   NaN         NaN        NaN      NaN   \n",
       "7                   ...        NaN   NaN   -0.161111        NaN      NaN   \n",
       "10                  ...        NaN   NaN         NaN        NaN      NaN   \n",
       "14                  ...        NaN   NaN         NaN        NaN      NaN   \n",
       "\n",
       "review_profilename  zjungleist  zoolzoo  zoso1967  zoso493  zrab11  \n",
       "beer_beerid                                                         \n",
       "5                          NaN      NaN       NaN      NaN     NaN  \n",
       "6                          NaN      NaN       NaN      NaN     NaN  \n",
       "7                          NaN      NaN       NaN      NaN     NaN  \n",
       "10                         NaN      NaN       NaN      NaN     NaN  \n",
       "14                         NaN      NaN       NaN      NaN     NaN  \n",
       "\n",
       "[5 rows x 2612 columns]"
      ]
     },
     "execution_count": 63,
     "metadata": {},
     "output_type": "execute_result"
    }
   ],
   "source": [
    "df_subtracted.head()"
   ]
  },
  {
   "cell_type": "raw",
   "metadata": {},
   "source": [
    "Finding the cosine similarity. Note that since the data is normalised, both the cosine metric and correlation metric will give the same value."
   ]
  },
  {
   "cell_type": "code",
   "execution_count": 64,
   "metadata": {},
   "outputs": [
    {
     "name": "stdout",
     "output_type": "stream",
     "text": [
      "[[ 1.          0.00792274  0.00340005 ... -0.00597774  0.\n",
      "   0.        ]\n",
      " [ 0.00792274  1.          0.02589247 ... -0.00811702  0.00352227\n",
      "   0.00614257]\n",
      " [ 0.00340005  0.02589247  1.         ...  0.00144678  0.00456144\n",
      "   0.02896185]\n",
      " ...\n",
      " [-0.00597774 -0.00811702  0.00144678 ...  1.          0.00253185\n",
      "  -0.02228164]\n",
      " [ 0.          0.00352227  0.00456144 ...  0.00253185  1.\n",
      "  -0.00806958]\n",
      " [ 0.          0.00614257  0.02896185 ... -0.02228164 -0.00806958\n",
      "   1.        ]]\n"
     ]
    }
   ],
   "source": [
    "from sklearn.metrics.pairwise import pairwise_distances\n",
    "\n",
    "# User Similarity Matrix\n",
    "item_correlation = 1 - pairwise_distances(df_subtracted.fillna(0), metric='cosine')\n",
    "item_correlation[np.isnan(item_correlation)] = 0\n",
    "print(item_correlation)"
   ]
  },
  {
   "cell_type": "code",
   "execution_count": 65,
   "metadata": {},
   "outputs": [
    {
     "data": {
      "text/plain": [
       "array([[1.        , 0.00792274, 0.00340005, ..., 0.        , 0.        ,\n",
       "        0.        ],\n",
       "       [0.00792274, 1.        , 0.02589247, ..., 0.        , 0.00352227,\n",
       "        0.00614257],\n",
       "       [0.00340005, 0.02589247, 1.        , ..., 0.00144678, 0.00456144,\n",
       "        0.02896185],\n",
       "       ...,\n",
       "       [0.        , 0.        , 0.00144678, ..., 1.        , 0.00253185,\n",
       "        0.        ],\n",
       "       [0.        , 0.00352227, 0.00456144, ..., 0.00253185, 1.        ,\n",
       "        0.        ],\n",
       "       [0.        , 0.00614257, 0.02896185, ..., 0.        , 0.        ,\n",
       "        1.        ]])"
      ]
     },
     "execution_count": 65,
     "metadata": {},
     "output_type": "execute_result"
    }
   ],
   "source": [
    "item_correlation[item_correlation<0]=0\n",
    "item_correlation"
   ]
  },
  {
   "cell_type": "markdown",
   "metadata": {},
   "source": [
    "### Prediction"
   ]
  },
  {
   "cell_type": "code",
   "execution_count": 66,
   "metadata": {},
   "outputs": [
    {
     "data": {
      "text/plain": [
       "array([[0.54816306, 0.90422981, 0.82334636, ..., 0.43310837, 0.91667681,\n",
       "        0.48031299],\n",
       "       [0.97585144, 0.39522965, 0.30491051, ..., 0.60562467, 0.88323197,\n",
       "        1.10875383],\n",
       "       [1.38304235, 0.81154802, 0.98494062, ..., 1.14876789, 0.92362143,\n",
       "        1.40405403],\n",
       "       ...,\n",
       "       [3.73350819, 3.78368799, 3.71724829, ..., 3.30696777, 4.33248235,\n",
       "        3.80953718],\n",
       "       [1.40425591, 1.2776541 , 1.47339908, ..., 0.63135568, 1.08101958,\n",
       "        1.23051889],\n",
       "       [2.88231493, 1.47851148, 1.66810527, ..., 0.89691483, 1.32580057,\n",
       "        1.07897838]])"
      ]
     },
     "execution_count": 66,
     "metadata": {},
     "output_type": "execute_result"
    }
   ],
   "source": [
    "item_predicted_ratings = np.dot((beer_features.fillna(0).T),item_correlation)\n",
    "item_predicted_ratings"
   ]
  },
  {
   "cell_type": "code",
   "execution_count": 67,
   "metadata": {},
   "outputs": [
    {
     "data": {
      "text/plain": [
       "(2612, 2499)"
      ]
     },
     "execution_count": 67,
     "metadata": {},
     "output_type": "execute_result"
    }
   ],
   "source": [
    "item_predicted_ratings.shape"
   ]
  },
  {
   "cell_type": "code",
   "execution_count": 68,
   "metadata": {},
   "outputs": [
    {
     "data": {
      "text/plain": [
       "(2612, 2499)"
      ]
     },
     "execution_count": 68,
     "metadata": {},
     "output_type": "execute_result"
    }
   ],
   "source": [
    "dummy_train.shape"
   ]
  },
  {
   "cell_type": "markdown",
   "metadata": {},
   "source": [
    "### Filtering the rating only for the beers not rated by the user for recommendation\n"
   ]
  },
  {
   "cell_type": "code",
   "execution_count": 69,
   "metadata": {},
   "outputs": [
    {
     "data": {
      "text/html": [
       "<div>\n",
       "<style scoped>\n",
       "    .dataframe tbody tr th:only-of-type {\n",
       "        vertical-align: middle;\n",
       "    }\n",
       "\n",
       "    .dataframe tbody tr th {\n",
       "        vertical-align: top;\n",
       "    }\n",
       "\n",
       "    .dataframe thead th {\n",
       "        text-align: right;\n",
       "    }\n",
       "</style>\n",
       "<table border=\"1\" class=\"dataframe\">\n",
       "  <thead>\n",
       "    <tr style=\"text-align: right;\">\n",
       "      <th>beer_beerid</th>\n",
       "      <th>5</th>\n",
       "      <th>6</th>\n",
       "      <th>7</th>\n",
       "      <th>10</th>\n",
       "      <th>14</th>\n",
       "      <th>15</th>\n",
       "      <th>17</th>\n",
       "      <th>19</th>\n",
       "      <th>30</th>\n",
       "      <th>31</th>\n",
       "      <th>...</th>\n",
       "      <th>74123</th>\n",
       "      <th>74272</th>\n",
       "      <th>74321</th>\n",
       "      <th>74323</th>\n",
       "      <th>74390</th>\n",
       "      <th>74530</th>\n",
       "      <th>74548</th>\n",
       "      <th>74579</th>\n",
       "      <th>74986</th>\n",
       "      <th>75086</th>\n",
       "    </tr>\n",
       "    <tr>\n",
       "      <th>review_profilename</th>\n",
       "      <th></th>\n",
       "      <th></th>\n",
       "      <th></th>\n",
       "      <th></th>\n",
       "      <th></th>\n",
       "      <th></th>\n",
       "      <th></th>\n",
       "      <th></th>\n",
       "      <th></th>\n",
       "      <th></th>\n",
       "      <th></th>\n",
       "      <th></th>\n",
       "      <th></th>\n",
       "      <th></th>\n",
       "      <th></th>\n",
       "      <th></th>\n",
       "      <th></th>\n",
       "      <th></th>\n",
       "      <th></th>\n",
       "      <th></th>\n",
       "      <th></th>\n",
       "    </tr>\n",
       "  </thead>\n",
       "  <tbody>\n",
       "    <tr>\n",
       "      <th>05Harley</th>\n",
       "      <td>0.548163</td>\n",
       "      <td>0.904230</td>\n",
       "      <td>0.823346</td>\n",
       "      <td>0.780355</td>\n",
       "      <td>0.659769</td>\n",
       "      <td>1.493868</td>\n",
       "      <td>1.297371</td>\n",
       "      <td>0.822612</td>\n",
       "      <td>1.632712</td>\n",
       "      <td>0.744869</td>\n",
       "      <td>...</td>\n",
       "      <td>0.627191</td>\n",
       "      <td>1.257193</td>\n",
       "      <td>1.121781</td>\n",
       "      <td>0.549826</td>\n",
       "      <td>0.559221</td>\n",
       "      <td>0.958776</td>\n",
       "      <td>0.314360</td>\n",
       "      <td>0.433108</td>\n",
       "      <td>0.916677</td>\n",
       "      <td>0.480313</td>\n",
       "    </tr>\n",
       "    <tr>\n",
       "      <th>100floods</th>\n",
       "      <td>0.975851</td>\n",
       "      <td>0.395230</td>\n",
       "      <td>0.304911</td>\n",
       "      <td>0.864486</td>\n",
       "      <td>0.211401</td>\n",
       "      <td>0.694410</td>\n",
       "      <td>1.029287</td>\n",
       "      <td>0.967442</td>\n",
       "      <td>0.991560</td>\n",
       "      <td>0.664799</td>\n",
       "      <td>...</td>\n",
       "      <td>1.393561</td>\n",
       "      <td>0.787002</td>\n",
       "      <td>0.578476</td>\n",
       "      <td>0.511278</td>\n",
       "      <td>0.839427</td>\n",
       "      <td>0.556260</td>\n",
       "      <td>0.383152</td>\n",
       "      <td>0.605625</td>\n",
       "      <td>0.883232</td>\n",
       "      <td>1.108754</td>\n",
       "    </tr>\n",
       "    <tr>\n",
       "      <th>1759Girl</th>\n",
       "      <td>1.383042</td>\n",
       "      <td>0.811548</td>\n",
       "      <td>0.984941</td>\n",
       "      <td>0.819349</td>\n",
       "      <td>1.335453</td>\n",
       "      <td>1.345103</td>\n",
       "      <td>2.117686</td>\n",
       "      <td>1.126664</td>\n",
       "      <td>2.097393</td>\n",
       "      <td>1.381931</td>\n",
       "      <td>...</td>\n",
       "      <td>1.662563</td>\n",
       "      <td>0.933709</td>\n",
       "      <td>0.586767</td>\n",
       "      <td>0.813304</td>\n",
       "      <td>0.672543</td>\n",
       "      <td>0.413197</td>\n",
       "      <td>0.716732</td>\n",
       "      <td>1.148768</td>\n",
       "      <td>0.923621</td>\n",
       "      <td>1.404054</td>\n",
       "    </tr>\n",
       "    <tr>\n",
       "      <th>1fastz28</th>\n",
       "      <td>4.551007</td>\n",
       "      <td>0.000000</td>\n",
       "      <td>3.804458</td>\n",
       "      <td>3.517765</td>\n",
       "      <td>3.120844</td>\n",
       "      <td>3.603390</td>\n",
       "      <td>4.063958</td>\n",
       "      <td>2.666316</td>\n",
       "      <td>3.069891</td>\n",
       "      <td>2.835065</td>\n",
       "      <td>...</td>\n",
       "      <td>0.000000</td>\n",
       "      <td>2.177615</td>\n",
       "      <td>2.040933</td>\n",
       "      <td>2.079147</td>\n",
       "      <td>1.858400</td>\n",
       "      <td>1.079329</td>\n",
       "      <td>2.046461</td>\n",
       "      <td>1.489864</td>\n",
       "      <td>1.834225</td>\n",
       "      <td>3.637919</td>\n",
       "    </tr>\n",
       "    <tr>\n",
       "      <th>3Vandoo</th>\n",
       "      <td>1.486788</td>\n",
       "      <td>0.600412</td>\n",
       "      <td>0.744777</td>\n",
       "      <td>1.697564</td>\n",
       "      <td>1.235337</td>\n",
       "      <td>0.716160</td>\n",
       "      <td>1.367273</td>\n",
       "      <td>2.654266</td>\n",
       "      <td>1.625602</td>\n",
       "      <td>1.561694</td>\n",
       "      <td>...</td>\n",
       "      <td>1.373550</td>\n",
       "      <td>0.586942</td>\n",
       "      <td>0.767232</td>\n",
       "      <td>1.430885</td>\n",
       "      <td>1.020210</td>\n",
       "      <td>0.482073</td>\n",
       "      <td>0.530022</td>\n",
       "      <td>1.958671</td>\n",
       "      <td>0.968091</td>\n",
       "      <td>1.805820</td>\n",
       "    </tr>\n",
       "  </tbody>\n",
       "</table>\n",
       "<p>5 rows × 2499 columns</p>\n",
       "</div>"
      ],
      "text/plain": [
       "beer_beerid            5         6         7         10        14     \\\n",
       "review_profilename                                                     \n",
       "05Harley            0.548163  0.904230  0.823346  0.780355  0.659769   \n",
       "100floods           0.975851  0.395230  0.304911  0.864486  0.211401   \n",
       "1759Girl            1.383042  0.811548  0.984941  0.819349  1.335453   \n",
       "1fastz28            4.551007  0.000000  3.804458  3.517765  3.120844   \n",
       "3Vandoo             1.486788  0.600412  0.744777  1.697564  1.235337   \n",
       "\n",
       "beer_beerid            15        17        19        30        31     ...  \\\n",
       "review_profilename                                                    ...   \n",
       "05Harley            1.493868  1.297371  0.822612  1.632712  0.744869  ...   \n",
       "100floods           0.694410  1.029287  0.967442  0.991560  0.664799  ...   \n",
       "1759Girl            1.345103  2.117686  1.126664  2.097393  1.381931  ...   \n",
       "1fastz28            3.603390  4.063958  2.666316  3.069891  2.835065  ...   \n",
       "3Vandoo             0.716160  1.367273  2.654266  1.625602  1.561694  ...   \n",
       "\n",
       "beer_beerid            74123     74272     74321     74323     74390  \\\n",
       "review_profilename                                                     \n",
       "05Harley            0.627191  1.257193  1.121781  0.549826  0.559221   \n",
       "100floods           1.393561  0.787002  0.578476  0.511278  0.839427   \n",
       "1759Girl            1.662563  0.933709  0.586767  0.813304  0.672543   \n",
       "1fastz28            0.000000  2.177615  2.040933  2.079147  1.858400   \n",
       "3Vandoo             1.373550  0.586942  0.767232  1.430885  1.020210   \n",
       "\n",
       "beer_beerid            74530     74548     74579     74986     75086  \n",
       "review_profilename                                                    \n",
       "05Harley            0.958776  0.314360  0.433108  0.916677  0.480313  \n",
       "100floods           0.556260  0.383152  0.605625  0.883232  1.108754  \n",
       "1759Girl            0.413197  0.716732  1.148768  0.923621  1.404054  \n",
       "1fastz28            1.079329  2.046461  1.489864  1.834225  3.637919  \n",
       "3Vandoo             0.482073  0.530022  1.958671  0.968091  1.805820  \n",
       "\n",
       "[5 rows x 2499 columns]"
      ]
     },
     "execution_count": 69,
     "metadata": {},
     "output_type": "execute_result"
    }
   ],
   "source": [
    "item_final_rating = np.multiply(item_predicted_ratings,dummy_train)\n",
    "item_final_rating.head()"
   ]
  },
  {
   "cell_type": "markdown",
   "metadata": {},
   "source": [
    "### Top 5 prediction for the user -1"
   ]
  },
  {
   "cell_type": "code",
   "execution_count": 70,
   "metadata": {},
   "outputs": [
    {
     "data": {
      "text/plain": [
       "beer_beerid\n",
       "41690    5.075740\n",
       "46749    4.961533\n",
       "58922    4.760894\n",
       "55139    4.552462\n",
       "39965    4.484554\n",
       "Name: 100floods, dtype: float64"
      ]
     },
     "execution_count": 70,
     "metadata": {},
     "output_type": "execute_result"
    }
   ],
   "source": [
    "item_final_rating.iloc[1].sort_values(ascending=False)[0:5]"
   ]
  },
  {
   "cell_type": "markdown",
   "metadata": {},
   "source": [
    "### 4.Compute and visualise the similarity between the first 10 beers."
   ]
  },
  {
   "cell_type": "code",
   "execution_count": 71,
   "metadata": {},
   "outputs": [
    {
     "data": {
      "text/html": [
       "<div>\n",
       "<style scoped>\n",
       "    .dataframe tbody tr th:only-of-type {\n",
       "        vertical-align: middle;\n",
       "    }\n",
       "\n",
       "    .dataframe tbody tr th {\n",
       "        vertical-align: top;\n",
       "    }\n",
       "\n",
       "    .dataframe thead th {\n",
       "        text-align: right;\n",
       "    }\n",
       "</style>\n",
       "<table border=\"1\" class=\"dataframe\">\n",
       "  <thead>\n",
       "    <tr style=\"text-align: right;\">\n",
       "      <th>beer_beerid</th>\n",
       "      <th>5</th>\n",
       "      <th>6</th>\n",
       "      <th>7</th>\n",
       "      <th>10</th>\n",
       "      <th>14</th>\n",
       "      <th>15</th>\n",
       "      <th>17</th>\n",
       "      <th>19</th>\n",
       "      <th>30</th>\n",
       "      <th>31</th>\n",
       "    </tr>\n",
       "    <tr>\n",
       "      <th>review_profilename</th>\n",
       "      <th></th>\n",
       "      <th></th>\n",
       "      <th></th>\n",
       "      <th></th>\n",
       "      <th></th>\n",
       "      <th></th>\n",
       "      <th></th>\n",
       "      <th></th>\n",
       "      <th></th>\n",
       "      <th></th>\n",
       "    </tr>\n",
       "  </thead>\n",
       "  <tbody>\n",
       "    <tr>\n",
       "      <th>05Harley</th>\n",
       "      <td>0.548163</td>\n",
       "      <td>0.904230</td>\n",
       "      <td>0.823346</td>\n",
       "      <td>0.780355</td>\n",
       "      <td>0.659769</td>\n",
       "      <td>1.493868</td>\n",
       "      <td>1.297371</td>\n",
       "      <td>0.822612</td>\n",
       "      <td>1.632712</td>\n",
       "      <td>0.744869</td>\n",
       "    </tr>\n",
       "    <tr>\n",
       "      <th>100floods</th>\n",
       "      <td>0.975851</td>\n",
       "      <td>0.395230</td>\n",
       "      <td>0.304911</td>\n",
       "      <td>0.864486</td>\n",
       "      <td>0.211401</td>\n",
       "      <td>0.694410</td>\n",
       "      <td>1.029287</td>\n",
       "      <td>0.967442</td>\n",
       "      <td>0.991560</td>\n",
       "      <td>0.664799</td>\n",
       "    </tr>\n",
       "    <tr>\n",
       "      <th>1759Girl</th>\n",
       "      <td>1.383042</td>\n",
       "      <td>0.811548</td>\n",
       "      <td>0.984941</td>\n",
       "      <td>0.819349</td>\n",
       "      <td>1.335453</td>\n",
       "      <td>1.345103</td>\n",
       "      <td>2.117686</td>\n",
       "      <td>1.126664</td>\n",
       "      <td>2.097393</td>\n",
       "      <td>1.381931</td>\n",
       "    </tr>\n",
       "    <tr>\n",
       "      <th>1fastz28</th>\n",
       "      <td>4.551007</td>\n",
       "      <td>0.000000</td>\n",
       "      <td>3.804458</td>\n",
       "      <td>3.517765</td>\n",
       "      <td>3.120844</td>\n",
       "      <td>3.603390</td>\n",
       "      <td>4.063958</td>\n",
       "      <td>2.666316</td>\n",
       "      <td>3.069891</td>\n",
       "      <td>2.835065</td>\n",
       "    </tr>\n",
       "    <tr>\n",
       "      <th>3Vandoo</th>\n",
       "      <td>1.486788</td>\n",
       "      <td>0.600412</td>\n",
       "      <td>0.744777</td>\n",
       "      <td>1.697564</td>\n",
       "      <td>1.235337</td>\n",
       "      <td>0.716160</td>\n",
       "      <td>1.367273</td>\n",
       "      <td>2.654266</td>\n",
       "      <td>1.625602</td>\n",
       "      <td>1.561694</td>\n",
       "    </tr>\n",
       "    <tr>\n",
       "      <th>4000qtrap</th>\n",
       "      <td>1.170554</td>\n",
       "      <td>0.918095</td>\n",
       "      <td>0.712681</td>\n",
       "      <td>0.472940</td>\n",
       "      <td>0.607751</td>\n",
       "      <td>0.693930</td>\n",
       "      <td>0.778470</td>\n",
       "      <td>0.802076</td>\n",
       "      <td>0.729000</td>\n",
       "      <td>1.180131</td>\n",
       "    </tr>\n",
       "    <tr>\n",
       "      <th>4DAloveofSTOUT</th>\n",
       "      <td>0.705920</td>\n",
       "      <td>0.402285</td>\n",
       "      <td>0.998275</td>\n",
       "      <td>0.841269</td>\n",
       "      <td>0.494514</td>\n",
       "      <td>0.417320</td>\n",
       "      <td>1.332112</td>\n",
       "      <td>2.329680</td>\n",
       "      <td>1.817272</td>\n",
       "      <td>1.054095</td>\n",
       "    </tr>\n",
       "    <tr>\n",
       "      <th>51mmz0rz</th>\n",
       "      <td>0.816738</td>\n",
       "      <td>1.419497</td>\n",
       "      <td>0.852836</td>\n",
       "      <td>1.629490</td>\n",
       "      <td>1.240915</td>\n",
       "      <td>1.616359</td>\n",
       "      <td>2.148528</td>\n",
       "      <td>2.293378</td>\n",
       "      <td>1.769381</td>\n",
       "      <td>1.380293</td>\n",
       "    </tr>\n",
       "    <tr>\n",
       "      <th>7ways</th>\n",
       "      <td>0.408741</td>\n",
       "      <td>0.381905</td>\n",
       "      <td>0.897981</td>\n",
       "      <td>0.377324</td>\n",
       "      <td>1.007561</td>\n",
       "      <td>0.656964</td>\n",
       "      <td>0.572978</td>\n",
       "      <td>0.570392</td>\n",
       "      <td>0.716405</td>\n",
       "      <td>0.291615</td>\n",
       "    </tr>\n",
       "    <tr>\n",
       "      <th>99bottles</th>\n",
       "      <td>2.487653</td>\n",
       "      <td>1.474500</td>\n",
       "      <td>2.360302</td>\n",
       "      <td>2.334772</td>\n",
       "      <td>2.806912</td>\n",
       "      <td>3.452907</td>\n",
       "      <td>2.457490</td>\n",
       "      <td>2.923543</td>\n",
       "      <td>4.207425</td>\n",
       "      <td>2.973864</td>\n",
       "    </tr>\n",
       "  </tbody>\n",
       "</table>\n",
       "</div>"
      ],
      "text/plain": [
       "beer_beerid               5         6         7         10        14  \\\n",
       "review_profilename                                                     \n",
       "05Harley            0.548163  0.904230  0.823346  0.780355  0.659769   \n",
       "100floods           0.975851  0.395230  0.304911  0.864486  0.211401   \n",
       "1759Girl            1.383042  0.811548  0.984941  0.819349  1.335453   \n",
       "1fastz28            4.551007  0.000000  3.804458  3.517765  3.120844   \n",
       "3Vandoo             1.486788  0.600412  0.744777  1.697564  1.235337   \n",
       "4000qtrap           1.170554  0.918095  0.712681  0.472940  0.607751   \n",
       "4DAloveofSTOUT      0.705920  0.402285  0.998275  0.841269  0.494514   \n",
       "51mmz0rz            0.816738  1.419497  0.852836  1.629490  1.240915   \n",
       "7ways               0.408741  0.381905  0.897981  0.377324  1.007561   \n",
       "99bottles           2.487653  1.474500  2.360302  2.334772  2.806912   \n",
       "\n",
       "beer_beerid               15        17        19        30        31  \n",
       "review_profilename                                                    \n",
       "05Harley            1.493868  1.297371  0.822612  1.632712  0.744869  \n",
       "100floods           0.694410  1.029287  0.967442  0.991560  0.664799  \n",
       "1759Girl            1.345103  2.117686  1.126664  2.097393  1.381931  \n",
       "1fastz28            3.603390  4.063958  2.666316  3.069891  2.835065  \n",
       "3Vandoo             0.716160  1.367273  2.654266  1.625602  1.561694  \n",
       "4000qtrap           0.693930  0.778470  0.802076  0.729000  1.180131  \n",
       "4DAloveofSTOUT      0.417320  1.332112  2.329680  1.817272  1.054095  \n",
       "51mmz0rz            1.616359  2.148528  2.293378  1.769381  1.380293  \n",
       "7ways               0.656964  0.572978  0.570392  0.716405  0.291615  \n",
       "99bottles           3.452907  2.457490  2.923543  4.207425  2.973864  "
      ]
     },
     "execution_count": 71,
     "metadata": {},
     "output_type": "execute_result"
    }
   ],
   "source": [
    "top_10_beer = item_final_rating.iloc[:10,:10]\n",
    "top_10_beer"
   ]
  },
  {
   "cell_type": "code",
   "execution_count": 72,
   "metadata": {},
   "outputs": [
    {
     "data": {
      "image/png": "[encoded data removed]",
      "text/plain": [
       "<Figure size 864x576 with 2 Axes>"
      ]
     },
     "metadata": {
      "needs_background": "light"
     },
     "output_type": "display_data"
    }
   ],
   "source": [
    "plt.figure(figsize=(12,8))\n",
    "sns.heatmap(top_10_beer.corr(),annot=True)\n",
    "plt.show()"
   ]
  },
  {
   "cell_type": "markdown",
   "metadata": {},
   "source": [
    "### Evaluation"
   ]
  },
  {
   "cell_type": "raw",
   "metadata": {},
   "source": [
    "Evaluation will we same as you have seen above for the prediction. The only difference being, you will evaluate for the beers already rated by the user insead of predicting it for the beer not rated by the user."
   ]
  },
  {
   "cell_type": "markdown",
   "metadata": {},
   "source": [
    "### Using User Similarity"
   ]
  },
  {
   "cell_type": "code",
   "execution_count": 73,
   "metadata": {},
   "outputs": [
    {
     "name": "stdout",
     "output_type": "stream",
     "text": [
      "[[1.         0.         0.         ... 0.02593914 0.         0.        ]\n",
      " [0.         1.         0.01640765 ... 0.         0.         0.        ]\n",
      " [0.         0.01640765 1.         ... 0.02004008 0.         0.        ]\n",
      " ...\n",
      " [0.02593914 0.         0.02004008 ... 1.         0.03200187 0.14013463]\n",
      " [0.         0.         0.         ... 0.03200187 1.         0.        ]\n",
      " [0.         0.         0.         ... 0.14013463 0.         1.        ]]\n"
     ]
    }
   ],
   "source": [
    "test_beer_features = test.pivot(\n",
    "    index='review_profilename',\n",
    "    columns='beer_beerid',\n",
    "    values='rating'\n",
    ")\n",
    "mean = np.nanmean(test_beer_features, axis=1)\n",
    "test_df_subtracted = (test_beer_features.T-mean).T\n",
    "\n",
    "# User Similarity Matrix\n",
    "test_user_correlation = 1 - pairwise_distances(test_df_subtracted.fillna(0), metric='cosine')\n",
    "test_user_correlation[np.isnan(test_user_correlation)] = 0\n",
    "print(test_user_correlation)"
   ]
  },
  {
   "cell_type": "code",
   "execution_count": 74,
   "metadata": {},
   "outputs": [
    {
     "data": {
      "text/plain": [
       "array([[0.07272239, 0.35113123, 0.53745719, ..., 0.        , 0.25084706,\n",
       "        0.52265674],\n",
       "       [0.21295034, 0.39292164, 0.18561573, ..., 0.00764822, 0.04782402,\n",
       "        0.        ],\n",
       "       [0.04279971, 0.63035325, 0.28869853, ..., 0.        , 0.56866214,\n",
       "        0.7180138 ],\n",
       "       ...,\n",
       "       [0.35098847, 2.06450791, 1.30027268, ..., 0.99993108, 1.52023689,\n",
       "        1.07437018],\n",
       "       [1.88843276, 1.87643457, 1.08047736, ..., 0.25429006, 0.46540042,\n",
       "        0.36047007],\n",
       "       [0.71434738, 2.52210213, 1.99825868, ..., 0.03047008, 0.2292799 ,\n",
       "        0.01281339]])"
      ]
     },
     "execution_count": 74,
     "metadata": {},
     "output_type": "execute_result"
    }
   ],
   "source": [
    "test_user_correlation[test_user_correlation<0]=0\n",
    "test_user_predicted_ratings = np.dot(test_user_correlation, test_beer_features.fillna(0))\n",
    "test_user_predicted_ratings"
   ]
  },
  {
   "cell_type": "markdown",
   "metadata": {},
   "source": [
    "### Doing prediction for the beers rated by the user"
   ]
  },
  {
   "cell_type": "code",
   "execution_count": 75,
   "metadata": {},
   "outputs": [
    {
     "data": {
      "text/html": [
       "<div>\n",
       "<style scoped>\n",
       "    .dataframe tbody tr th:only-of-type {\n",
       "        vertical-align: middle;\n",
       "    }\n",
       "\n",
       "    .dataframe tbody tr th {\n",
       "        vertical-align: top;\n",
       "    }\n",
       "\n",
       "    .dataframe thead th {\n",
       "        text-align: right;\n",
       "    }\n",
       "</style>\n",
       "<table border=\"1\" class=\"dataframe\">\n",
       "  <thead>\n",
       "    <tr style=\"text-align: right;\">\n",
       "      <th>beer_beerid</th>\n",
       "      <th>5</th>\n",
       "      <th>6</th>\n",
       "      <th>7</th>\n",
       "      <th>10</th>\n",
       "      <th>14</th>\n",
       "      <th>15</th>\n",
       "      <th>17</th>\n",
       "      <th>19</th>\n",
       "      <th>30</th>\n",
       "      <th>31</th>\n",
       "      <th>...</th>\n",
       "      <th>74123</th>\n",
       "      <th>74272</th>\n",
       "      <th>74321</th>\n",
       "      <th>74323</th>\n",
       "      <th>74390</th>\n",
       "      <th>74530</th>\n",
       "      <th>74548</th>\n",
       "      <th>74579</th>\n",
       "      <th>74986</th>\n",
       "      <th>75086</th>\n",
       "    </tr>\n",
       "    <tr>\n",
       "      <th>review_profilename</th>\n",
       "      <th></th>\n",
       "      <th></th>\n",
       "      <th></th>\n",
       "      <th></th>\n",
       "      <th></th>\n",
       "      <th></th>\n",
       "      <th></th>\n",
       "      <th></th>\n",
       "      <th></th>\n",
       "      <th></th>\n",
       "      <th></th>\n",
       "      <th></th>\n",
       "      <th></th>\n",
       "      <th></th>\n",
       "      <th></th>\n",
       "      <th></th>\n",
       "      <th></th>\n",
       "      <th></th>\n",
       "      <th></th>\n",
       "      <th></th>\n",
       "      <th></th>\n",
       "    </tr>\n",
       "  </thead>\n",
       "  <tbody>\n",
       "    <tr>\n",
       "      <th>05Harley</th>\n",
       "      <td>0.0</td>\n",
       "      <td>0.0</td>\n",
       "      <td>0.0</td>\n",
       "      <td>0.000000</td>\n",
       "      <td>0.0</td>\n",
       "      <td>0.0</td>\n",
       "      <td>0.0</td>\n",
       "      <td>0.0</td>\n",
       "      <td>0.0</td>\n",
       "      <td>0.0</td>\n",
       "      <td>...</td>\n",
       "      <td>0.0</td>\n",
       "      <td>0.0</td>\n",
       "      <td>0.0</td>\n",
       "      <td>0.0</td>\n",
       "      <td>0.0</td>\n",
       "      <td>0.0</td>\n",
       "      <td>0.0</td>\n",
       "      <td>0.0</td>\n",
       "      <td>0.0</td>\n",
       "      <td>0.0</td>\n",
       "    </tr>\n",
       "    <tr>\n",
       "      <th>100floods</th>\n",
       "      <td>0.0</td>\n",
       "      <td>0.0</td>\n",
       "      <td>0.0</td>\n",
       "      <td>0.000000</td>\n",
       "      <td>0.0</td>\n",
       "      <td>0.0</td>\n",
       "      <td>0.0</td>\n",
       "      <td>0.0</td>\n",
       "      <td>0.0</td>\n",
       "      <td>0.0</td>\n",
       "      <td>...</td>\n",
       "      <td>0.0</td>\n",
       "      <td>0.0</td>\n",
       "      <td>0.0</td>\n",
       "      <td>0.0</td>\n",
       "      <td>0.0</td>\n",
       "      <td>0.0</td>\n",
       "      <td>0.0</td>\n",
       "      <td>0.0</td>\n",
       "      <td>0.0</td>\n",
       "      <td>0.0</td>\n",
       "    </tr>\n",
       "    <tr>\n",
       "      <th>1759Girl</th>\n",
       "      <td>0.0</td>\n",
       "      <td>0.0</td>\n",
       "      <td>0.0</td>\n",
       "      <td>0.000000</td>\n",
       "      <td>0.0</td>\n",
       "      <td>0.0</td>\n",
       "      <td>0.0</td>\n",
       "      <td>0.0</td>\n",
       "      <td>0.0</td>\n",
       "      <td>0.0</td>\n",
       "      <td>...</td>\n",
       "      <td>0.0</td>\n",
       "      <td>0.0</td>\n",
       "      <td>0.0</td>\n",
       "      <td>0.0</td>\n",
       "      <td>0.0</td>\n",
       "      <td>0.0</td>\n",
       "      <td>0.0</td>\n",
       "      <td>0.0</td>\n",
       "      <td>0.0</td>\n",
       "      <td>0.0</td>\n",
       "    </tr>\n",
       "    <tr>\n",
       "      <th>1fastz28</th>\n",
       "      <td>0.0</td>\n",
       "      <td>0.0</td>\n",
       "      <td>0.0</td>\n",
       "      <td>6.815729</td>\n",
       "      <td>0.0</td>\n",
       "      <td>0.0</td>\n",
       "      <td>0.0</td>\n",
       "      <td>0.0</td>\n",
       "      <td>0.0</td>\n",
       "      <td>0.0</td>\n",
       "      <td>...</td>\n",
       "      <td>0.0</td>\n",
       "      <td>0.0</td>\n",
       "      <td>0.0</td>\n",
       "      <td>0.0</td>\n",
       "      <td>0.0</td>\n",
       "      <td>0.0</td>\n",
       "      <td>0.0</td>\n",
       "      <td>0.0</td>\n",
       "      <td>0.0</td>\n",
       "      <td>0.0</td>\n",
       "    </tr>\n",
       "    <tr>\n",
       "      <th>3Vandoo</th>\n",
       "      <td>0.0</td>\n",
       "      <td>0.0</td>\n",
       "      <td>0.0</td>\n",
       "      <td>0.000000</td>\n",
       "      <td>0.0</td>\n",
       "      <td>0.0</td>\n",
       "      <td>0.0</td>\n",
       "      <td>0.0</td>\n",
       "      <td>0.0</td>\n",
       "      <td>0.0</td>\n",
       "      <td>...</td>\n",
       "      <td>0.0</td>\n",
       "      <td>0.0</td>\n",
       "      <td>0.0</td>\n",
       "      <td>0.0</td>\n",
       "      <td>0.0</td>\n",
       "      <td>0.0</td>\n",
       "      <td>0.0</td>\n",
       "      <td>0.0</td>\n",
       "      <td>0.0</td>\n",
       "      <td>0.0</td>\n",
       "    </tr>\n",
       "  </tbody>\n",
       "</table>\n",
       "<p>5 rows × 2499 columns</p>\n",
       "</div>"
      ],
      "text/plain": [
       "beer_beerid         5      6      7         10     14     15     17     19     \\\n",
       "review_profilename                                                              \n",
       "05Harley              0.0    0.0    0.0  0.000000    0.0    0.0    0.0    0.0   \n",
       "100floods             0.0    0.0    0.0  0.000000    0.0    0.0    0.0    0.0   \n",
       "1759Girl              0.0    0.0    0.0  0.000000    0.0    0.0    0.0    0.0   \n",
       "1fastz28              0.0    0.0    0.0  6.815729    0.0    0.0    0.0    0.0   \n",
       "3Vandoo               0.0    0.0    0.0  0.000000    0.0    0.0    0.0    0.0   \n",
       "\n",
       "beer_beerid         30     31     ...  74123  74272  74321  74323  74390  \\\n",
       "review_profilename                ...                                      \n",
       "05Harley              0.0    0.0  ...    0.0    0.0    0.0    0.0    0.0   \n",
       "100floods             0.0    0.0  ...    0.0    0.0    0.0    0.0    0.0   \n",
       "1759Girl              0.0    0.0  ...    0.0    0.0    0.0    0.0    0.0   \n",
       "1fastz28              0.0    0.0  ...    0.0    0.0    0.0    0.0    0.0   \n",
       "3Vandoo               0.0    0.0  ...    0.0    0.0    0.0    0.0    0.0   \n",
       "\n",
       "beer_beerid         74530  74548  74579  74986  75086  \n",
       "review_profilename                                     \n",
       "05Harley              0.0    0.0    0.0    0.0    0.0  \n",
       "100floods             0.0    0.0    0.0    0.0    0.0  \n",
       "1759Girl              0.0    0.0    0.0    0.0    0.0  \n",
       "1fastz28              0.0    0.0    0.0    0.0    0.0  \n",
       "3Vandoo               0.0    0.0    0.0    0.0    0.0  \n",
       "\n",
       "[5 rows x 2499 columns]"
      ]
     },
     "execution_count": 75,
     "metadata": {},
     "output_type": "execute_result"
    }
   ],
   "source": [
    "test_user_final_rating = np.multiply(test_user_predicted_ratings,dummy_test)\n",
    "test_user_final_rating.head()"
   ]
  },
  {
   "cell_type": "markdown",
   "metadata": {},
   "source": [
    "### 5. Compare the performance of the two models using test data and suggest the one that should be deployed."
   ]
  },
  {
   "cell_type": "markdown",
   "metadata": {},
   "source": [
    "#### Calculating the RMSE for only the beers rated by user. For RMSE, normalising the rating to (1,5) range."
   ]
  },
  {
   "cell_type": "code",
   "execution_count": 76,
   "metadata": {},
   "outputs": [
    {
     "name": "stdout",
     "output_type": "stream",
     "text": [
      "MinMaxScaler(copy=True, feature_range=(1, 5))\n",
      "[[nan nan nan ... nan nan nan]\n",
      " [nan nan nan ... nan nan nan]\n",
      " [nan nan nan ... nan nan nan]\n",
      " ...\n",
      " [nan nan nan ... nan nan nan]\n",
      " [nan nan nan ... nan nan nan]\n",
      " [nan nan nan ... nan nan nan]]\n"
     ]
    }
   ],
   "source": [
    "from sklearn.preprocessing import MinMaxScaler\n",
    "from numpy import *\n",
    "\n",
    "X  = test_user_final_rating.copy() \n",
    "X = X[X>0]\n",
    "\n",
    "scaler = MinMaxScaler(feature_range=(1, 5))\n",
    "print(scaler.fit(X))\n",
    "y = (scaler.transform(X))\n",
    "\n",
    "print(y)"
   ]
  },
  {
   "cell_type": "code",
   "execution_count": 77,
   "metadata": {},
   "outputs": [],
   "source": [
    "test_ = test.pivot(\n",
    "    index='review_profilename',\n",
    "    columns='beer_beerid',\n",
    "    values='rating'\n",
    ")"
   ]
  },
  {
   "cell_type": "code",
   "execution_count": 78,
   "metadata": {},
   "outputs": [],
   "source": [
    "# Finding total non-NaN value\n",
    "total_non_nan = np.count_nonzero(~np.isnan(y))"
   ]
  },
  {
   "cell_type": "code",
   "execution_count": 79,
   "metadata": {},
   "outputs": [
    {
     "name": "stdout",
     "output_type": "stream",
     "text": [
      "1.6869334524828556\n"
     ]
    }
   ],
   "source": [
    "rmse = (sum(sum((test_ - y )**2))/total_non_nan)**0.5\n",
    "print(rmse)"
   ]
  },
  {
   "cell_type": "markdown",
   "metadata": {},
   "source": [
    "### Using Item similarity"
   ]
  },
  {
   "cell_type": "code",
   "execution_count": 80,
   "metadata": {},
   "outputs": [],
   "source": [
    "test_beer_features = test.pivot(\n",
    "    index='review_profilename',\n",
    "    columns='beer_beerid',\n",
    "    values='rating'\n",
    ").T\n",
    "\n",
    "mean = np.nanmean(test_beer_features, axis=1)\n",
    "test_df_subtracted = (test_beer_features.T-mean).T\n",
    "\n",
    "test_item_correlation = 1 - pairwise_distances(test_df_subtracted.fillna(0), metric='cosine')\n",
    "test_item_correlation[np.isnan(test_item_correlation)] = 0\n",
    "test_item_correlation[test_item_correlation<0]=0"
   ]
  },
  {
   "cell_type": "code",
   "execution_count": 81,
   "metadata": {},
   "outputs": [
    {
     "data": {
      "text/plain": [
       "(2499, 2499)"
      ]
     },
     "execution_count": 81,
     "metadata": {},
     "output_type": "execute_result"
    }
   ],
   "source": [
    "test_item_correlation.shape"
   ]
  },
  {
   "cell_type": "code",
   "execution_count": 82,
   "metadata": {},
   "outputs": [
    {
     "data": {
      "text/plain": [
       "(2499, 2612)"
      ]
     },
     "execution_count": 82,
     "metadata": {},
     "output_type": "execute_result"
    }
   ],
   "source": [
    "test_beer_features.shape"
   ]
  },
  {
   "cell_type": "code",
   "execution_count": 83,
   "metadata": {},
   "outputs": [
    {
     "data": {
      "text/html": [
       "<div>\n",
       "<style scoped>\n",
       "    .dataframe tbody tr th:only-of-type {\n",
       "        vertical-align: middle;\n",
       "    }\n",
       "\n",
       "    .dataframe tbody tr th {\n",
       "        vertical-align: top;\n",
       "    }\n",
       "\n",
       "    .dataframe thead th {\n",
       "        text-align: right;\n",
       "    }\n",
       "</style>\n",
       "<table border=\"1\" class=\"dataframe\">\n",
       "  <thead>\n",
       "    <tr style=\"text-align: right;\">\n",
       "      <th>beer_beerid</th>\n",
       "      <th>5</th>\n",
       "      <th>6</th>\n",
       "      <th>7</th>\n",
       "      <th>10</th>\n",
       "      <th>14</th>\n",
       "      <th>15</th>\n",
       "      <th>17</th>\n",
       "      <th>19</th>\n",
       "      <th>30</th>\n",
       "      <th>31</th>\n",
       "      <th>...</th>\n",
       "      <th>74123</th>\n",
       "      <th>74272</th>\n",
       "      <th>74321</th>\n",
       "      <th>74323</th>\n",
       "      <th>74390</th>\n",
       "      <th>74530</th>\n",
       "      <th>74548</th>\n",
       "      <th>74579</th>\n",
       "      <th>74986</th>\n",
       "      <th>75086</th>\n",
       "    </tr>\n",
       "    <tr>\n",
       "      <th>review_profilename</th>\n",
       "      <th></th>\n",
       "      <th></th>\n",
       "      <th></th>\n",
       "      <th></th>\n",
       "      <th></th>\n",
       "      <th></th>\n",
       "      <th></th>\n",
       "      <th></th>\n",
       "      <th></th>\n",
       "      <th></th>\n",
       "      <th></th>\n",
       "      <th></th>\n",
       "      <th></th>\n",
       "      <th></th>\n",
       "      <th></th>\n",
       "      <th></th>\n",
       "      <th></th>\n",
       "      <th></th>\n",
       "      <th></th>\n",
       "      <th></th>\n",
       "      <th></th>\n",
       "    </tr>\n",
       "  </thead>\n",
       "  <tbody>\n",
       "    <tr>\n",
       "      <th>05Harley</th>\n",
       "      <td>0.0</td>\n",
       "      <td>0.0</td>\n",
       "      <td>0.0</td>\n",
       "      <td>0.000000</td>\n",
       "      <td>0.0</td>\n",
       "      <td>0.0</td>\n",
       "      <td>0.0</td>\n",
       "      <td>0.0</td>\n",
       "      <td>0.0</td>\n",
       "      <td>0.0</td>\n",
       "      <td>...</td>\n",
       "      <td>0.0</td>\n",
       "      <td>0.0</td>\n",
       "      <td>0.0</td>\n",
       "      <td>0.0</td>\n",
       "      <td>0.0</td>\n",
       "      <td>0.0</td>\n",
       "      <td>0.0</td>\n",
       "      <td>0.0</td>\n",
       "      <td>0.0</td>\n",
       "      <td>0.0</td>\n",
       "    </tr>\n",
       "    <tr>\n",
       "      <th>100floods</th>\n",
       "      <td>0.0</td>\n",
       "      <td>0.0</td>\n",
       "      <td>0.0</td>\n",
       "      <td>0.000000</td>\n",
       "      <td>0.0</td>\n",
       "      <td>0.0</td>\n",
       "      <td>0.0</td>\n",
       "      <td>0.0</td>\n",
       "      <td>0.0</td>\n",
       "      <td>0.0</td>\n",
       "      <td>...</td>\n",
       "      <td>0.0</td>\n",
       "      <td>0.0</td>\n",
       "      <td>0.0</td>\n",
       "      <td>0.0</td>\n",
       "      <td>0.0</td>\n",
       "      <td>0.0</td>\n",
       "      <td>0.0</td>\n",
       "      <td>0.0</td>\n",
       "      <td>0.0</td>\n",
       "      <td>0.0</td>\n",
       "    </tr>\n",
       "    <tr>\n",
       "      <th>1759Girl</th>\n",
       "      <td>0.0</td>\n",
       "      <td>0.0</td>\n",
       "      <td>0.0</td>\n",
       "      <td>0.000000</td>\n",
       "      <td>0.0</td>\n",
       "      <td>0.0</td>\n",
       "      <td>0.0</td>\n",
       "      <td>0.0</td>\n",
       "      <td>0.0</td>\n",
       "      <td>0.0</td>\n",
       "      <td>...</td>\n",
       "      <td>0.0</td>\n",
       "      <td>0.0</td>\n",
       "      <td>0.0</td>\n",
       "      <td>0.0</td>\n",
       "      <td>0.0</td>\n",
       "      <td>0.0</td>\n",
       "      <td>0.0</td>\n",
       "      <td>0.0</td>\n",
       "      <td>0.0</td>\n",
       "      <td>0.0</td>\n",
       "    </tr>\n",
       "    <tr>\n",
       "      <th>1fastz28</th>\n",
       "      <td>0.0</td>\n",
       "      <td>0.0</td>\n",
       "      <td>0.0</td>\n",
       "      <td>4.783951</td>\n",
       "      <td>0.0</td>\n",
       "      <td>0.0</td>\n",
       "      <td>0.0</td>\n",
       "      <td>0.0</td>\n",
       "      <td>0.0</td>\n",
       "      <td>0.0</td>\n",
       "      <td>...</td>\n",
       "      <td>0.0</td>\n",
       "      <td>0.0</td>\n",
       "      <td>0.0</td>\n",
       "      <td>0.0</td>\n",
       "      <td>0.0</td>\n",
       "      <td>0.0</td>\n",
       "      <td>0.0</td>\n",
       "      <td>0.0</td>\n",
       "      <td>0.0</td>\n",
       "      <td>0.0</td>\n",
       "    </tr>\n",
       "    <tr>\n",
       "      <th>3Vandoo</th>\n",
       "      <td>0.0</td>\n",
       "      <td>0.0</td>\n",
       "      <td>0.0</td>\n",
       "      <td>0.000000</td>\n",
       "      <td>0.0</td>\n",
       "      <td>0.0</td>\n",
       "      <td>0.0</td>\n",
       "      <td>0.0</td>\n",
       "      <td>0.0</td>\n",
       "      <td>0.0</td>\n",
       "      <td>...</td>\n",
       "      <td>0.0</td>\n",
       "      <td>0.0</td>\n",
       "      <td>0.0</td>\n",
       "      <td>0.0</td>\n",
       "      <td>0.0</td>\n",
       "      <td>0.0</td>\n",
       "      <td>0.0</td>\n",
       "      <td>0.0</td>\n",
       "      <td>0.0</td>\n",
       "      <td>0.0</td>\n",
       "    </tr>\n",
       "  </tbody>\n",
       "</table>\n",
       "<p>5 rows × 2499 columns</p>\n",
       "</div>"
      ],
      "text/plain": [
       "beer_beerid         5      6      7         10     14     15     17     19     \\\n",
       "review_profilename                                                              \n",
       "05Harley              0.0    0.0    0.0  0.000000    0.0    0.0    0.0    0.0   \n",
       "100floods             0.0    0.0    0.0  0.000000    0.0    0.0    0.0    0.0   \n",
       "1759Girl              0.0    0.0    0.0  0.000000    0.0    0.0    0.0    0.0   \n",
       "1fastz28              0.0    0.0    0.0  4.783951    0.0    0.0    0.0    0.0   \n",
       "3Vandoo               0.0    0.0    0.0  0.000000    0.0    0.0    0.0    0.0   \n",
       "\n",
       "beer_beerid         30     31     ...  74123  74272  74321  74323  74390  \\\n",
       "review_profilename                ...                                      \n",
       "05Harley              0.0    0.0  ...    0.0    0.0    0.0    0.0    0.0   \n",
       "100floods             0.0    0.0  ...    0.0    0.0    0.0    0.0    0.0   \n",
       "1759Girl              0.0    0.0  ...    0.0    0.0    0.0    0.0    0.0   \n",
       "1fastz28              0.0    0.0  ...    0.0    0.0    0.0    0.0    0.0   \n",
       "3Vandoo               0.0    0.0  ...    0.0    0.0    0.0    0.0    0.0   \n",
       "\n",
       "beer_beerid         74530  74548  74579  74986  75086  \n",
       "review_profilename                                     \n",
       "05Harley              0.0    0.0    0.0    0.0    0.0  \n",
       "100floods             0.0    0.0    0.0    0.0    0.0  \n",
       "1759Girl              0.0    0.0    0.0    0.0    0.0  \n",
       "1fastz28              0.0    0.0    0.0    0.0    0.0  \n",
       "3Vandoo               0.0    0.0    0.0    0.0    0.0  \n",
       "\n",
       "[5 rows x 2499 columns]"
      ]
     },
     "execution_count": 83,
     "metadata": {},
     "output_type": "execute_result"
    }
   ],
   "source": [
    "test_item_predicted_ratings = (np.dot(test_item_correlation, test_beer_features.fillna(0))).T\n",
    "test_item_final_rating = np.multiply(test_item_predicted_ratings,dummy_test)\n",
    "test_item_final_rating.head()"
   ]
  },
  {
   "cell_type": "code",
   "execution_count": 84,
   "metadata": {},
   "outputs": [],
   "source": [
    "test_ = test.pivot(\n",
    "    index='review_profilename',\n",
    "    columns='beer_beerid',\n",
    "    values='rating'\n",
    ")"
   ]
  },
  {
   "cell_type": "code",
   "execution_count": 85,
   "metadata": {},
   "outputs": [
    {
     "name": "stdout",
     "output_type": "stream",
     "text": [
      "MinMaxScaler(copy=True, feature_range=(1, 5))\n"
     ]
    }
   ],
   "source": [
    "from sklearn.preprocessing import MinMaxScaler\n",
    "from numpy import *\n",
    "\n",
    "X  = test_item_final_rating.copy() \n",
    "X = X[X>0]\n",
    "\n",
    "scaler = MinMaxScaler(feature_range=(1, 5))\n",
    "print(scaler.fit(X))\n",
    "y = (scaler.transform(X))\n",
    "\n",
    "\n",
    "test_ = test.pivot(\n",
    "    index='review_profilename',\n",
    "    columns='beer_beerid',\n",
    "    values='rating'\n",
    ")\n",
    "\n",
    "# Finding total non-NaN value\n",
    "total_non_nan = np.count_nonzero(~np.isnan(y))"
   ]
  },
  {
   "cell_type": "markdown",
   "metadata": {},
   "source": [
    "### Finding RMSE"
   ]
  },
  {
   "cell_type": "code",
   "execution_count": 86,
   "metadata": {},
   "outputs": [
    {
     "name": "stdout",
     "output_type": "stream",
     "text": [
      "2.1491152834886487\n"
     ]
    }
   ],
   "source": [
    "rmse = (sum(sum((test_ - y )**2))/total_non_nan)**0.5\n",
    "print(rmse)"
   ]
  },
  {
   "cell_type": "raw",
   "metadata": {},
   "source": [
    "RMSE for user similarity is 1.68 and for Item based is 2.14, hence User Based model is Good for deployement."
   ]
  },
  {
   "cell_type": "markdown",
   "metadata": {},
   "source": [
    "### 6. Give the names of the top 5 beers that you would recommend to the users 'cokes', 'genog' and 'giblet' using both the models."
   ]
  },
  {
   "cell_type": "markdown",
   "metadata": {},
   "source": [
    "##### User Based"
   ]
  },
  {
   "cell_type": "raw",
   "metadata": {},
   "source": [
    "cokes"
   ]
  },
  {
   "cell_type": "code",
   "execution_count": 87,
   "metadata": {},
   "outputs": [
    {
     "data": {
      "text/plain": [
       "beer_beerid\n",
       "1904    30.346319\n",
       "92      30.254258\n",
       "34      29.600860\n",
       "412     27.526102\n",
       "1005    27.421578\n",
       "Name: cokes, dtype: float64"
      ]
     },
     "execution_count": 87,
     "metadata": {},
     "output_type": "execute_result"
    }
   ],
   "source": [
    "cokes=user_final_rating.loc['cokes',:].sort_values(ascending=False)[0:5]\n",
    "cokes"
   ]
  },
  {
   "cell_type": "raw",
   "metadata": {},
   "source": [
    "genog"
   ]
  },
  {
   "cell_type": "code",
   "execution_count": 88,
   "metadata": {},
   "outputs": [
    {
     "data": {
      "text/plain": [
       "beer_beerid\n",
       "412     28.969434\n",
       "1093    28.363057\n",
       "1013    27.928315\n",
       "4083    27.927995\n",
       "92      27.160517\n",
       "Name: genog, dtype: float64"
      ]
     },
     "execution_count": 88,
     "metadata": {},
     "output_type": "execute_result"
    }
   ],
   "source": [
    "genog=user_final_rating.loc['genog',:].sort_values(ascending=False)[0:5]\n",
    "genog"
   ]
  },
  {
   "cell_type": "raw",
   "metadata": {},
   "source": [
    "giblet"
   ]
  },
  {
   "cell_type": "code",
   "execution_count": 89,
   "metadata": {},
   "outputs": [
    {
     "data": {
      "text/plain": [
       "beer_beerid\n",
       "412     38.867248\n",
       "1904    37.932242\n",
       "2093    36.727220\n",
       "104     35.641066\n",
       "1708    35.336551\n",
       "Name: giblet, dtype: float64"
      ]
     },
     "execution_count": 89,
     "metadata": {},
     "output_type": "execute_result"
    }
   ],
   "source": [
    "giblet=user_final_rating.loc['giblet',:].sort_values(ascending=False)[0:5]\n",
    "giblet"
   ]
  },
  {
   "cell_type": "markdown",
   "metadata": {},
   "source": [
    "##### Item Based"
   ]
  },
  {
   "cell_type": "raw",
   "metadata": {},
   "source": [
    "cokes"
   ]
  },
  {
   "cell_type": "code",
   "execution_count": 90,
   "metadata": {},
   "outputs": [
    {
     "data": {
      "text/plain": [
       "beer_beerid\n",
       "3706     17.864307\n",
       "53899    17.332245\n",
       "2147     15.900059\n",
       "705      15.190721\n",
       "710      15.099543\n",
       "Name: cokes, dtype: float64"
      ]
     },
     "execution_count": 90,
     "metadata": {},
     "output_type": "execute_result"
    }
   ],
   "source": [
    "cokess=item_final_rating.loc['cokes',:].sort_values(ascending=False)[0:5]\n",
    "cokess"
   ]
  },
  {
   "cell_type": "raw",
   "metadata": {},
   "source": [
    "genog"
   ]
  },
  {
   "cell_type": "code",
   "execution_count": 91,
   "metadata": {},
   "outputs": [
    {
     "data": {
      "text/plain": [
       "beer_beerid\n",
       "2588     5.438516\n",
       "25989    5.134667\n",
       "1070     5.114994\n",
       "2751     5.114666\n",
       "39527    5.002618\n",
       "Name: genog, dtype: float64"
      ]
     },
     "execution_count": 91,
     "metadata": {},
     "output_type": "execute_result"
    }
   ],
   "source": [
    "genog=item_final_rating.loc['genog',:].sort_values(ascending=False)[0:5]\n",
    "genog"
   ]
  },
  {
   "cell_type": "raw",
   "metadata": {},
   "source": [
    "giblet"
   ]
  },
  {
   "cell_type": "code",
   "execution_count": 92,
   "metadata": {},
   "outputs": [
    {
     "data": {
      "text/plain": [
       "beer_beerid\n",
       "1207    5.788846\n",
       "138     5.673961\n",
       "1276    5.236514\n",
       "1332    5.234607\n",
       "712     5.220521\n",
       "Name: giblet, dtype: float64"
      ]
     },
     "execution_count": 92,
     "metadata": {},
     "output_type": "execute_result"
    }
   ],
   "source": [
    "giblet=item_final_rating.loc['giblet',:].sort_values(ascending=False)[0:5]\n",
    "giblet"
   ]
  },
  {
   "cell_type": "code",
   "execution_count": null,
   "metadata": {},
   "outputs": [],
   "source": []
  }
 ],
 "metadata": {
  "kernelspec": {
   "display_name": "Python 3",
   "language": "python",
   "name": "python3"
  },
  "language_info": {
   "codemirror_mode": {
    "name": "ipython",
    "version": 3
   },
   "file_extension": ".py",
   "mimetype": "text/x-python",
   "name": "python",
   "nbconvert_exporter": "python",
   "pygments_lexer": "ipython3",
   "version": "3.7.3"
  }
 },
 "nbformat": 4,
 "nbformat_minor": 4
}
